{
 "cells": [
  {
   "cell_type": "code",
   "execution_count": null,
   "id": "0fad001e",
   "metadata": {},
   "outputs": [],
   "source": [
    "import pandas as pd\n",
    "import numpy as np\n",
    "import matplotlib.pyplot as plt\n",
    "import seaborn as sns\n",
    "import warnings\n",
    "warnings.filterwarnings(\"ignore\")"
   ]
  },
  {
   "cell_type": "code",
   "execution_count": null,
   "id": "df376c52",
   "metadata": {},
   "outputs": [],
   "source": [
    "pd.set_option(\"display.max_columns\",None)"
   ]
  },
  {
   "cell_type": "code",
   "execution_count": null,
   "id": "5a5b1193",
   "metadata": {},
   "outputs": [],
   "source": [
    "train_df = pd.read_csv(\"Datasets/Accident_Severity_train.csv\",index_col=0)\n",
    "test_df = pd.read_csv(\"Datasets/Accident_Severity_test.csv\",index_col=0)"
   ]
  },
  {
   "cell_type": "code",
   "execution_count": null,
   "id": "16bfacd6",
   "metadata": {
    "scrolled": true
   },
   "outputs": [],
   "source": [
    "train_df.head(15)"
   ]
  },
  {
   "cell_type": "code",
   "execution_count": null,
   "id": "f4efc1c1",
   "metadata": {},
   "outputs": [],
   "source": [
    "test_df.head(15)"
   ]
  },
  {
   "cell_type": "code",
   "execution_count": null,
   "id": "54632b52",
   "metadata": {},
   "outputs": [],
   "source": [
    "print(train_df.shape)\n",
    "print(test_df.shape)"
   ]
  },
  {
   "cell_type": "code",
   "execution_count": null,
   "id": "a30bf8e2",
   "metadata": {},
   "outputs": [],
   "source": [
    "train_df.info()"
   ]
  },
  {
   "cell_type": "code",
   "execution_count": null,
   "id": "6e29695a",
   "metadata": {},
   "outputs": [],
   "source": [
    "test_df.info()"
   ]
  },
  {
   "cell_type": "code",
   "execution_count": null,
   "id": "e8e3da63",
   "metadata": {},
   "outputs": [],
   "source": [
    "train_df.describe(include='all')"
   ]
  },
  {
   "cell_type": "code",
   "execution_count": null,
   "id": "ad536101",
   "metadata": {},
   "outputs": [],
   "source": [
    "test_df.describe(include='all')"
   ]
  },
  {
   "cell_type": "code",
   "execution_count": null,
   "id": "63f160fb",
   "metadata": {},
   "outputs": [],
   "source": [
    "#Preprocessing\n",
    "# Date and time\n",
    "#Latitude and longitude \n",
    "#vehicals involved - float > int\n",
    "# traffic incidents - float > int"
   ]
  },
  {
   "cell_type": "code",
   "execution_count": null,
   "id": "37fb487c",
   "metadata": {},
   "outputs": [],
   "source": [
    "train_df.Accident_Occurred.unique()"
   ]
  },
  {
   "cell_type": "code",
   "execution_count": null,
   "id": "6e751252",
   "metadata": {},
   "outputs": [],
   "source": [
    "train_df.drop('Accident_Occurred',axis=1,inplace=True)\n",
    "test_df.drop('Accident_Occurred',axis=1,inplace=True)"
   ]
  },
  {
   "cell_type": "code",
   "execution_count": null,
   "id": "ed068087",
   "metadata": {},
   "outputs": [],
   "source": [
    "train_df.shape"
   ]
  },
  {
   "cell_type": "code",
   "execution_count": null,
   "id": "6143fa85",
   "metadata": {},
   "outputs": [],
   "source": [
    "test_df.shape"
   ]
  },
  {
   "cell_type": "code",
   "execution_count": null,
   "id": "4a60a591",
   "metadata": {},
   "outputs": [],
   "source": [
    "train_df['Date_and_Time'] = pd.to_datetime(train_df['Date_and_Time'])\n",
    "test_df['Date_and_Time'] = pd.to_datetime(test_df['Date_and_Time'])"
   ]
  },
  {
   "cell_type": "code",
   "execution_count": null,
   "id": "d5592844",
   "metadata": {},
   "outputs": [],
   "source": [
    "train_df['Date_and_Time'].dtype"
   ]
  },
  {
   "cell_type": "code",
   "execution_count": null,
   "id": "a332a0e5",
   "metadata": {},
   "outputs": [],
   "source": [
    "test_df['Date_and_Time'].dtype"
   ]
  },
  {
   "cell_type": "code",
   "execution_count": null,
   "id": "381d2ec9",
   "metadata": {},
   "outputs": [],
   "source": [
    "train_df.info()"
   ]
  },
  {
   "cell_type": "code",
   "execution_count": null,
   "id": "51a96474",
   "metadata": {},
   "outputs": [],
   "source": [
    "test_df.info()"
   ]
  },
  {
   "cell_type": "code",
   "execution_count": null,
   "id": "5f566f68",
   "metadata": {},
   "outputs": [],
   "source": [
    "# extract the year, month, hours from a date time column in a pandas dataframe\n",
    "# Extract year, month, and hour in train df\n",
    "train_df['year'] = train_df['Date_and_Time'].dt.year\n",
    "train_df['month'] = train_df['Date_and_Time'].dt.month\n",
    "train_df['hour'] = train_df['Date_and_Time'].dt.hour"
   ]
  },
  {
   "cell_type": "code",
   "execution_count": null,
   "id": "21b2b961",
   "metadata": {},
   "outputs": [],
   "source": [
    "# Extract year, month, and hour in test df\n",
    "test_df['year'] = test_df['Date_and_Time'].dt.year\n",
    "test_df['month'] = test_df['Date_and_Time'].dt.month\n",
    "test_df['hour'] = test_df['Date_and_Time'].dt.hour"
   ]
  },
  {
   "cell_type": "code",
   "execution_count": null,
   "id": "567f5f6e",
   "metadata": {},
   "outputs": [],
   "source": [
    "train_df.head()"
   ]
  },
  {
   "cell_type": "code",
   "execution_count": null,
   "id": "def017b3",
   "metadata": {},
   "outputs": [],
   "source": [
    "test_df.head()"
   ]
  },
  {
   "cell_type": "code",
   "execution_count": null,
   "id": "b4edaa0e",
   "metadata": {},
   "outputs": [],
   "source": [
    "train_df.drop('Date_and_Time',axis=1,inplace=True)\n",
    "test_df.drop('Date_and_Time',axis=1,inplace=True)"
   ]
  },
  {
   "cell_type": "code",
   "execution_count": null,
   "id": "06074591",
   "metadata": {},
   "outputs": [],
   "source": [
    "#!pip install reverse_geocoder"
   ]
  },
  {
   "cell_type": "code",
   "execution_count": null,
   "id": "0d5f07bb",
   "metadata": {},
   "outputs": [],
   "source": [
    "import reverse_geocoder as rg\n",
    "import time\n",
    "\n",
    "# Start time\n",
    "start_time = time.time()\n",
    "\n",
    "# Prepare list of tuples of latitudes and longitudes\n",
    "coords = list(zip(train_df['Latitude'], train_df['Longitude']))\n",
    "\n",
    "# Use reverse_geocoder in batch mode (vectorized)\n",
    "results = rg.search(coords)\n",
    "\n",
    "# Extract city names from the results\n",
    "train_df['city'] = [result['name'] for result in results]\n",
    "\n",
    "# End time\n",
    "end_time = time.time()\n",
    "\n",
    "# Total time taken\n",
    "print(f\"Time taken for 15,000 records: {end_time - start_time} seconds\")\n",
    "\n",
    "# Display the DataFrame (optional)\n",
    "#print(df)"
   ]
  },
  {
   "cell_type": "code",
   "execution_count": null,
   "id": "5acb9a8f",
   "metadata": {},
   "outputs": [],
   "source": [
    "train_df.head(30)"
   ]
  },
  {
   "cell_type": "code",
   "execution_count": null,
   "id": "268646f5",
   "metadata": {},
   "outputs": [],
   "source": [
    "train_df.city.unique()"
   ]
  },
  {
   "cell_type": "code",
   "execution_count": null,
   "id": "32a22ffd",
   "metadata": {},
   "outputs": [],
   "source": [
    "# Start time\n",
    "start_time = time.time()\n",
    "\n",
    "# Prepare list of tuples of latitudes and longitudes\n",
    "coords = list(zip(test_df['Latitude'], test_df['Longitude']))\n",
    "\n",
    "# Use reverse_geocoder in batch mode (vectorized)\n",
    "results = rg.search(coords)\n",
    "\n",
    "# Extract city names from the results\n",
    "test_df['city'] = [result['name'] for result in results]\n",
    "\n",
    "# End time\n",
    "end_time = time.time()\n",
    "\n",
    "# Total time taken\n",
    "print(f\"Time taken for 4,000 records: {end_time - start_time} seconds\")"
   ]
  },
  {
   "cell_type": "code",
   "execution_count": null,
   "id": "fb695574",
   "metadata": {},
   "outputs": [],
   "source": [
    "test_df.head()"
   ]
  },
  {
   "cell_type": "code",
   "execution_count": null,
   "id": "0a8af654",
   "metadata": {
    "scrolled": true
   },
   "outputs": [],
   "source": [
    "test_df.city.unique()"
   ]
  },
  {
   "cell_type": "code",
   "execution_count": null,
   "id": "e563d825",
   "metadata": {},
   "outputs": [],
   "source": [
    "train_df.drop(['Latitude','Longitude'],axis=1,inplace=True)\n",
    "test_df.drop(['Latitude','Longitude'],axis=1,inplace=True)"
   ]
  },
  {
   "cell_type": "code",
   "execution_count": null,
   "id": "f13c4b7b",
   "metadata": {},
   "outputs": [],
   "source": [
    "train_df['Vehicles_Involved'].isnull().sum()"
   ]
  },
  {
   "cell_type": "code",
   "execution_count": null,
   "id": "61dd2111",
   "metadata": {},
   "outputs": [],
   "source": [
    "train_df['Vehicles_Involved'].median() "
   ]
  },
  {
   "cell_type": "code",
   "execution_count": null,
   "id": "bbd3ae6e",
   "metadata": {},
   "outputs": [],
   "source": [
    "train_df['Vehicles_Involved'].fillna(train_df['Vehicles_Involved'].median(),inplace=True)"
   ]
  },
  {
   "cell_type": "code",
   "execution_count": null,
   "id": "1763167a",
   "metadata": {},
   "outputs": [],
   "source": [
    "train_df['Vehicles_Involved'].isnull().sum()"
   ]
  },
  {
   "cell_type": "code",
   "execution_count": null,
   "id": "2e466758",
   "metadata": {},
   "outputs": [],
   "source": [
    "train_df['Traffic_Incidents'].isnull().sum()"
   ]
  },
  {
   "cell_type": "code",
   "execution_count": null,
   "id": "f936e893",
   "metadata": {},
   "outputs": [],
   "source": [
    "train_df['Traffic_Incidents'].median() "
   ]
  },
  {
   "cell_type": "code",
   "execution_count": null,
   "id": "7a14dc64",
   "metadata": {},
   "outputs": [],
   "source": [
    "train_df['Traffic_Incidents'].fillna(train_df['Traffic_Incidents'].median(),inplace=True)"
   ]
  },
  {
   "cell_type": "code",
   "execution_count": null,
   "id": "5c8aab80",
   "metadata": {},
   "outputs": [],
   "source": [
    "train_df['Traffic_Incidents'].isnull().sum()"
   ]
  },
  {
   "cell_type": "code",
   "execution_count": null,
   "id": "3af21216",
   "metadata": {},
   "outputs": [],
   "source": [
    "test_df['Vehicles_Involved'].fillna(2.0,inplace=True)\n",
    "test_df['Traffic_Incidents'].fillna(2.0,inplace=True)"
   ]
  },
  {
   "cell_type": "code",
   "execution_count": null,
   "id": "c6ef45cd",
   "metadata": {},
   "outputs": [],
   "source": [
    "test_df['Vehicles_Involved'].isnull().sum()"
   ]
  },
  {
   "cell_type": "code",
   "execution_count": null,
   "id": "2a208578",
   "metadata": {},
   "outputs": [],
   "source": [
    "test_df['Traffic_Incidents'].isnull().sum()"
   ]
  },
  {
   "cell_type": "code",
   "execution_count": null,
   "id": "1fcd5d86",
   "metadata": {},
   "outputs": [],
   "source": [
    "train_df['Vehicles_Involved'] = train_df['Vehicles_Involved'].astype(int)\n",
    "test_df['Vehicles_Involved'] = test_df['Vehicles_Involved'].astype(int)"
   ]
  },
  {
   "cell_type": "code",
   "execution_count": null,
   "id": "dec2c7bb",
   "metadata": {},
   "outputs": [],
   "source": [
    "train_df['Traffic_Incidents'] = train_df['Traffic_Incidents'].astype(int)\n",
    "test_df['Traffic_Incidents'] = test_df['Traffic_Incidents'].astype(int)"
   ]
  },
  {
   "cell_type": "code",
   "execution_count": null,
   "id": "424f2c30",
   "metadata": {},
   "outputs": [],
   "source": [
    "train_df.head(5)"
   ]
  },
  {
   "cell_type": "code",
   "execution_count": null,
   "id": "8268af11",
   "metadata": {},
   "outputs": [],
   "source": [
    "test_df.head(5)"
   ]
  },
  {
   "cell_type": "code",
   "execution_count": null,
   "id": "3e1dc295",
   "metadata": {},
   "outputs": [],
   "source": [
    "train_df.isnull().sum()"
   ]
  },
  {
   "cell_type": "code",
   "execution_count": null,
   "id": "b15bf0e1",
   "metadata": {},
   "outputs": [],
   "source": [
    "test_df.isnull().sum()"
   ]
  },
  {
   "cell_type": "code",
   "execution_count": null,
   "id": "165cca8d",
   "metadata": {},
   "outputs": [],
   "source": [
    "round(train_df['Proximity_to_Hospital'].mean(),2)"
   ]
  },
  {
   "cell_type": "code",
   "execution_count": null,
   "id": "9f165542",
   "metadata": {},
   "outputs": [],
   "source": [
    "round(train_df['Road_Width'].mean(),2) "
   ]
  },
  {
   "cell_type": "code",
   "execution_count": null,
   "id": "42cf4102",
   "metadata": {},
   "outputs": [],
   "source": [
    "train_df['Proximity_to_Hospital'].fillna(round(train_df['Proximity_to_Hospital'].mean(),2),inplace=True)\n",
    "train_df['Road_Width'].fillna(round(train_df['Road_Width'].mean(),2),inplace=True)"
   ]
  },
  {
   "cell_type": "code",
   "execution_count": null,
   "id": "c9a2ede7",
   "metadata": {},
   "outputs": [],
   "source": [
    "test_df['Proximity_to_Hospital'].fillna(2506.8,inplace=True)\n",
    "test_df['Road_Width'].fillna(6.49,inplace=True)"
   ]
  },
  {
   "cell_type": "code",
   "execution_count": null,
   "id": "3c9179c9",
   "metadata": {},
   "outputs": [],
   "source": [
    "train_df.isnull().sum()"
   ]
  },
  {
   "cell_type": "code",
   "execution_count": null,
   "id": "6b9151d4",
   "metadata": {},
   "outputs": [],
   "source": [
    "test_df.isnull().sum()"
   ]
  },
  {
   "cell_type": "code",
   "execution_count": null,
   "id": "6e6cbe30",
   "metadata": {},
   "outputs": [],
   "source": [
    "colname=[]\n",
    "for x in train_df.columns:\n",
    "    if train_df[x].dtype=='object':\n",
    "        colname.append(x)\n",
    "colname"
   ]
  },
  {
   "cell_type": "code",
   "execution_count": null,
   "id": "64ded8a4",
   "metadata": {},
   "outputs": [],
   "source": [
    "for i in colname:\n",
    "    print({i:train_df[i].unique()})"
   ]
  },
  {
   "cell_type": "code",
   "execution_count": null,
   "id": "4df8560a",
   "metadata": {},
   "outputs": [],
   "source": [
    "colnametest=[]\n",
    "for x in test_df.columns:\n",
    "    if test_df[x].dtype=='object':\n",
    "        colnametest.append(x)\n",
    "colnametest"
   ]
  },
  {
   "cell_type": "code",
   "execution_count": null,
   "id": "f4213e07",
   "metadata": {},
   "outputs": [],
   "source": [
    "for i in colnametest:\n",
    "    print({i:test_df[i].unique()})"
   ]
  },
  {
   "cell_type": "code",
   "execution_count": null,
   "id": "0fabba13",
   "metadata": {},
   "outputs": [],
   "source": [
    "#dropping these columns by domain knowledge and to avoid duplicate columns weather type,congestion\n",
    "#level,driver education level, is weekend,"
   ]
  },
  {
   "cell_type": "code",
   "execution_count": null,
   "id": "4ece9259",
   "metadata": {},
   "outputs": [],
   "source": [
    "train_df.drop(['Weather_Type','Congestion_Level','Driver_Education_Level','Is_Weekend'],axis=1,inplace=True)\n",
    "test_df.drop(['Weather_Type','Congestion_Level','Driver_Education_Level','Is_Weekend'],axis=1,inplace=True)"
   ]
  },
  {
   "cell_type": "code",
   "execution_count": null,
   "id": "f36c3058",
   "metadata": {},
   "outputs": [],
   "source": [
    "train_df.shape"
   ]
  },
  {
   "cell_type": "code",
   "execution_count": null,
   "id": "8aad1046",
   "metadata": {},
   "outputs": [],
   "source": [
    "test_df.shape"
   ]
  },
  {
   "cell_type": "code",
   "execution_count": null,
   "id": "0b94204e",
   "metadata": {},
   "outputs": [],
   "source": [
    "train_df.head()"
   ]
  },
  {
   "cell_type": "code",
   "execution_count": null,
   "id": "8528714d",
   "metadata": {},
   "outputs": [],
   "source": [
    "train_df.describe()"
   ]
  },
  {
   "cell_type": "code",
   "execution_count": null,
   "id": "1567766d",
   "metadata": {},
   "outputs": [],
   "source": [
    "#drop temperature, humidity,Wind_Speed, Precipitation, Dew_point,Heat_index,Time_to_Accident,Population_Density"
   ]
  },
  {
   "cell_type": "code",
   "execution_count": null,
   "id": "0a3258e8",
   "metadata": {},
   "outputs": [],
   "source": [
    "train_df.drop(['Dew_Point','Traffic_Incidents'],axis=1,inplace=True)\n",
    "test_df.drop(['Dew_Point','Traffic_Incidents'],axis=1,inplace=True)"
   ]
  },
  {
   "cell_type": "code",
   "execution_count": null,
   "id": "75aabf53",
   "metadata": {},
   "outputs": [],
   "source": [
    "colnamenum=[]\n",
    "for x in train_df.columns:\n",
    "    if train_df[x].dtype!='object':\n",
    "        colnamenum.append(x)\n",
    "colnamenum"
   ]
  },
  {
   "cell_type": "code",
   "execution_count": null,
   "id": "7b0f7dfa",
   "metadata": {},
   "outputs": [],
   "source": [
    "for x in train_df.columns:\n",
    "    if train_df[x].dtype=='float64':\n",
    "        train_df[x]=round(train_df[x],2)\n",
    "    else:\n",
    "        pass"
   ]
  },
  {
   "cell_type": "code",
   "execution_count": null,
   "id": "00fead6a",
   "metadata": {},
   "outputs": [],
   "source": [
    "train_df.head()"
   ]
  },
  {
   "cell_type": "code",
   "execution_count": null,
   "id": "c167a98f",
   "metadata": {},
   "outputs": [],
   "source": [
    "for x in test_df.columns:\n",
    "    if test_df[x].dtype=='float64':\n",
    "        test_df[x]=round(test_df[x],2)\n",
    "    else:\n",
    "        pass\n",
    "    "
   ]
  },
  {
   "cell_type": "code",
   "execution_count": null,
   "id": "2d471479",
   "metadata": {},
   "outputs": [],
   "source": [
    "test_df.head()"
   ]
  },
  {
   "cell_type": "code",
   "execution_count": null,
   "id": "75f191bd",
   "metadata": {},
   "outputs": [],
   "source": [
    "train_df.duplicated().sum()"
   ]
  },
  {
   "cell_type": "code",
   "execution_count": null,
   "id": "70fbf496",
   "metadata": {},
   "outputs": [],
   "source": [
    "test_df.duplicated().sum()"
   ]
  },
  {
   "cell_type": "code",
   "execution_count": null,
   "id": "55cafd3d",
   "metadata": {},
   "outputs": [],
   "source": [
    "train_df[colnamenum]"
   ]
  },
  {
   "cell_type": "code",
   "execution_count": null,
   "id": "82effe69",
   "metadata": {},
   "outputs": [],
   "source": [
    "train_df['Temperature'].dtype"
   ]
  },
  {
   "cell_type": "code",
   "execution_count": null,
   "id": "52f26da3",
   "metadata": {},
   "outputs": [],
   "source": [
    "corr_df=train_df[colnamenum].corr(method='pearson')\n",
    "print(corr_df)"
   ]
  },
  {
   "cell_type": "code",
   "execution_count": null,
   "id": "9071f88f",
   "metadata": {},
   "outputs": [],
   "source": [
    "train_df.drop(['Humidity','Cloud_Cover'],axis=1,inplace=True)\n",
    "test_df.drop(['Humidity','Cloud_Cover'],axis=1,inplace=True)"
   ]
  },
  {
   "cell_type": "code",
   "execution_count": null,
   "id": "3edf1d31",
   "metadata": {},
   "outputs": [],
   "source": [
    "#temp,humid\n",
    "#visibility,cloud cover"
   ]
  },
  {
   "cell_type": "code",
   "execution_count": null,
   "id": "494ea7ab",
   "metadata": {},
   "outputs": [],
   "source": [
    "colnamenum=[]\n",
    "for x in train_df.columns:\n",
    "    if train_df[x].dtype!='object':\n",
    "        colnamenum.append(x)\n",
    "colnamenum"
   ]
  },
  {
   "cell_type": "code",
   "execution_count": null,
   "id": "b4622583",
   "metadata": {},
   "outputs": [],
   "source": [
    "from statsmodels.stats.outliers_influence import variance_inflation_factor as vif\n",
    " \n",
    "vif_df = pd.DataFrame()\n",
    "vif_df[\"features\"] = train_df[colnamenum].columns\n",
    "vif_df[\"VIF Factor\"] = [vif(train_df[colnamenum].values, i) for i in range(train_df[colnamenum].shape[1])] \n",
    "#shape is 3 cols i in range 0 to 2 cal vif for i col index and col values now i is dept var and vif is calculated\n",
    "vif_df.round(2)"
   ]
  },
  {
   "cell_type": "code",
   "execution_count": null,
   "id": "9fe4be9c",
   "metadata": {},
   "outputs": [],
   "source": [
    "train_df.drop(['Pressure'],axis=1,inplace=True)\n",
    "test_df.drop(['Pressure'],axis=1,inplace=True)"
   ]
  },
  {
   "cell_type": "code",
   "execution_count": null,
   "id": "29b39f41",
   "metadata": {
    "scrolled": true
   },
   "outputs": [],
   "source": [
    "train_df.head()"
   ]
  },
  {
   "cell_type": "code",
   "execution_count": null,
   "id": "19dc6569",
   "metadata": {},
   "outputs": [],
   "source": [
    "#train_df.drop(['Heat_Index','Wind_Speed'],axis=1,inplace=True)\n",
    "#test_df.drop(['Heat_Index','Wind_Speed'],axis=1,inplace=True)"
   ]
  },
  {
   "cell_type": "code",
   "execution_count": null,
   "id": "3f39e396",
   "metadata": {},
   "outputs": [],
   "source": [
    "#train_df.to_csv('clean_accident_severity_train_dataset.csv')"
   ]
  },
  {
   "cell_type": "code",
   "execution_count": null,
   "id": "fef9b913",
   "metadata": {},
   "outputs": [],
   "source": [
    "#test_df.to_csv('clean_accident_severity_test_dataset.csv')"
   ]
  },
  {
   "cell_type": "code",
   "execution_count": null,
   "id": "80a4669d",
   "metadata": {},
   "outputs": [],
   "source": [
    "train_df=pd.read_csv('clean_accident_severity_train_dataset.csv')\n",
    "test_df=pd.read_csv('clean_accident_severity_test_dataset.csv')"
   ]
  },
  {
   "cell_type": "code",
   "execution_count": null,
   "id": "2195f3fb",
   "metadata": {},
   "outputs": [],
   "source": [
    "#"
   ]
  },
  {
   "cell_type": "code",
   "execution_count": null,
   "id": "e9e4beca",
   "metadata": {},
   "outputs": [],
   "source": [
    "colname1=[]\n",
    "for i in train_df.columns:\n",
    "    if train_df[i].dtype == 'object':\n",
    "        colname1.append(i)\n",
    "\n",
    "colname1"
   ]
  },
  {
   "cell_type": "code",
   "execution_count": null,
   "id": "8a183a29",
   "metadata": {},
   "outputs": [],
   "source": [
    "colname1=['Road_Type',\n",
    " 'Surface_Conditions',\n",
    " 'Lighting_Conditions',\n",
    " 'Traffic_Control',\n",
    " 'Accident_Type',\n",
    " 'Day_of_Week',\n",
    " 'Time_of_Day',\n",
    " 'Weather_Conditions',\n",
    " 'Peak_Hour',\n",
    " 'Bicycle_Lane_Availability',\n",
    " 'Pedestrian_Crossing_Availability',\n",
    " 'city']"
   ]
  },
  {
   "cell_type": "code",
   "execution_count": null,
   "id": "dce08710",
   "metadata": {},
   "outputs": [],
   "source": [
    "train_df.set_index('Accident_ID', inplace=True)\n",
    "test_df.set_index('Accident_ID', inplace=True)"
   ]
  },
  {
   "cell_type": "code",
   "execution_count": null,
   "id": "555a8452",
   "metadata": {},
   "outputs": [],
   "source": [
    "# For preprocessing the data\n",
    "from sklearn.preprocessing import LabelEncoder\n",
    " \n",
    "le=LabelEncoder()\n",
    " \n",
    "for x in colname1:\n",
    "    le.fit(train_df[x])\n",
    "    train_df[x]=le.transform(train_df[x]) #mandatory\n",
    "    test_df[x]=le.transform(test_df[x])\n",
    "    \n",
    "\n",
    "    le_name_mapping = dict(zip(le.classes_, le.transform(le.classes_))) #optional check labels\n",
    "    print('Feature', x)\n",
    "    print('mapping', le_name_mapping)"
   ]
  },
  {
   "cell_type": "code",
   "execution_count": null,
   "id": "8e1e37b4",
   "metadata": {},
   "outputs": [],
   "source": [
    "train_df.head()"
   ]
  },
  {
   "cell_type": "code",
   "execution_count": null,
   "id": "88126d4d",
   "metadata": {},
   "outputs": [],
   "source": [
    "test_df.head()"
   ]
  },
  {
   "cell_type": "code",
   "execution_count": null,
   "id": "1c13a978",
   "metadata": {},
   "outputs": [],
   "source": [
    "#Feature Accident_Severity is target variable y\n",
    "#mapping {'Fatal Injury': 2, 'Serious Injury': 1, 'Slight Injury': 0}"
   ]
  },
  {
   "cell_type": "code",
   "execution_count": null,
   "id": "2b262c38",
   "metadata": {},
   "outputs": [],
   "source": [
    "train_df['Accident_Severity'].replace({'Fatal Injury': 2, 'Serious Injury': 1, 'Slight Injury': 0},inplace=True)"
   ]
  },
  {
   "cell_type": "code",
   "execution_count": null,
   "id": "75ff7f80",
   "metadata": {},
   "outputs": [],
   "source": [
    "train_df.head()"
   ]
  },
  {
   "cell_type": "code",
   "execution_count": 142,
   "id": "36ef777d",
   "metadata": {},
   "outputs": [],
   "source": [
    "X= train_df.drop('Accident_Severity',axis=1)\n",
    "Y=train_df['Accident_Severity']"
   ]
  },
  {
   "cell_type": "code",
   "execution_count": 143,
   "id": "81a247ee",
   "metadata": {},
   "outputs": [
    {
     "data": {
      "text/html": [
       "<div>\n",
       "<style scoped>\n",
       "    .dataframe tbody tr th:only-of-type {\n",
       "        vertical-align: middle;\n",
       "    }\n",
       "\n",
       "    .dataframe tbody tr th {\n",
       "        vertical-align: top;\n",
       "    }\n",
       "\n",
       "    .dataframe thead th {\n",
       "        text-align: right;\n",
       "    }\n",
       "</style>\n",
       "<table border=\"1\" class=\"dataframe\">\n",
       "  <thead>\n",
       "    <tr style=\"text-align: right;\">\n",
       "      <th></th>\n",
       "      <th>Road_Type</th>\n",
       "      <th>Surface_Conditions</th>\n",
       "      <th>Lighting_Conditions</th>\n",
       "      <th>Traffic_Control</th>\n",
       "      <th>Accident_Type</th>\n",
       "      <th>Vehicles_Involved</th>\n",
       "      <th>Pedestrians_Involved</th>\n",
       "      <th>Day_of_Week</th>\n",
       "      <th>Time_of_Day</th>\n",
       "      <th>Weather_Conditions</th>\n",
       "      <th>Temperature</th>\n",
       "      <th>Wind_Speed</th>\n",
       "      <th>Precipitation</th>\n",
       "      <th>Visibility</th>\n",
       "      <th>Heat_Index</th>\n",
       "      <th>Wind_Chill</th>\n",
       "      <th>Average_Speed</th>\n",
       "      <th>Vehicle_Density</th>\n",
       "      <th>Traffic_Flow</th>\n",
       "      <th>Time_to_Accident</th>\n",
       "      <th>Peak_Hour</th>\n",
       "      <th>Road_Work_Proximity</th>\n",
       "      <th>Nearby_Accidents</th>\n",
       "      <th>Traffic_Signals</th>\n",
       "      <th>Proximity_to_School</th>\n",
       "      <th>Proximity_to_Hospital</th>\n",
       "      <th>Proximity_to_Shopping_Center</th>\n",
       "      <th>Road_Width</th>\n",
       "      <th>Lane_Count</th>\n",
       "      <th>Intersection_Proximity</th>\n",
       "      <th>Bicycle_Lane_Availability</th>\n",
       "      <th>Pedestrian_Crossing_Availability</th>\n",
       "      <th>Population_Density</th>\n",
       "      <th>Street_Lighting_Proximity</th>\n",
       "      <th>year</th>\n",
       "      <th>month</th>\n",
       "      <th>hour</th>\n",
       "      <th>city</th>\n",
       "    </tr>\n",
       "    <tr>\n",
       "      <th>Accident_ID</th>\n",
       "      <th></th>\n",
       "      <th></th>\n",
       "      <th></th>\n",
       "      <th></th>\n",
       "      <th></th>\n",
       "      <th></th>\n",
       "      <th></th>\n",
       "      <th></th>\n",
       "      <th></th>\n",
       "      <th></th>\n",
       "      <th></th>\n",
       "      <th></th>\n",
       "      <th></th>\n",
       "      <th></th>\n",
       "      <th></th>\n",
       "      <th></th>\n",
       "      <th></th>\n",
       "      <th></th>\n",
       "      <th></th>\n",
       "      <th></th>\n",
       "      <th></th>\n",
       "      <th></th>\n",
       "      <th></th>\n",
       "      <th></th>\n",
       "      <th></th>\n",
       "      <th></th>\n",
       "      <th></th>\n",
       "      <th></th>\n",
       "      <th></th>\n",
       "      <th></th>\n",
       "      <th></th>\n",
       "      <th></th>\n",
       "      <th></th>\n",
       "      <th></th>\n",
       "      <th></th>\n",
       "      <th></th>\n",
       "      <th></th>\n",
       "      <th></th>\n",
       "    </tr>\n",
       "  </thead>\n",
       "  <tbody>\n",
       "    <tr>\n",
       "      <th>17816</th>\n",
       "      <td>1</td>\n",
       "      <td>2</td>\n",
       "      <td>1</td>\n",
       "      <td>0</td>\n",
       "      <td>1</td>\n",
       "      <td>2</td>\n",
       "      <td>2</td>\n",
       "      <td>5</td>\n",
       "      <td>0</td>\n",
       "      <td>1</td>\n",
       "      <td>37.78</td>\n",
       "      <td>8.56</td>\n",
       "      <td>0.00</td>\n",
       "      <td>0.75</td>\n",
       "      <td>49.36</td>\n",
       "      <td>8.89</td>\n",
       "      <td>63.59</td>\n",
       "      <td>74.84</td>\n",
       "      <td>681.84</td>\n",
       "      <td>9.72</td>\n",
       "      <td>1</td>\n",
       "      <td>1161.98</td>\n",
       "      <td>3</td>\n",
       "      <td>6</td>\n",
       "      <td>817.74</td>\n",
       "      <td>2506.80</td>\n",
       "      <td>1748.59</td>\n",
       "      <td>6.49</td>\n",
       "      <td>1</td>\n",
       "      <td>627.16</td>\n",
       "      <td>0</td>\n",
       "      <td>0</td>\n",
       "      <td>3267.30</td>\n",
       "      <td>144.93</td>\n",
       "      <td>2021</td>\n",
       "      <td>1</td>\n",
       "      <td>7</td>\n",
       "      <td>1</td>\n",
       "    </tr>\n",
       "    <tr>\n",
       "      <th>18371</th>\n",
       "      <td>1</td>\n",
       "      <td>0</td>\n",
       "      <td>2</td>\n",
       "      <td>1</td>\n",
       "      <td>0</td>\n",
       "      <td>1</td>\n",
       "      <td>1</td>\n",
       "      <td>4</td>\n",
       "      <td>3</td>\n",
       "      <td>0</td>\n",
       "      <td>15.51</td>\n",
       "      <td>6.94</td>\n",
       "      <td>0.00</td>\n",
       "      <td>9.03</td>\n",
       "      <td>44.66</td>\n",
       "      <td>12.35</td>\n",
       "      <td>86.28</td>\n",
       "      <td>77.71</td>\n",
       "      <td>839.12</td>\n",
       "      <td>5.61</td>\n",
       "      <td>1</td>\n",
       "      <td>151.97</td>\n",
       "      <td>0</td>\n",
       "      <td>3</td>\n",
       "      <td>4961.81</td>\n",
       "      <td>2975.26</td>\n",
       "      <td>4864.93</td>\n",
       "      <td>4.27</td>\n",
       "      <td>2</td>\n",
       "      <td>497.83</td>\n",
       "      <td>0</td>\n",
       "      <td>0</td>\n",
       "      <td>9408.16</td>\n",
       "      <td>425.64</td>\n",
       "      <td>2021</td>\n",
       "      <td>2</td>\n",
       "      <td>10</td>\n",
       "      <td>1</td>\n",
       "    </tr>\n",
       "    <tr>\n",
       "      <th>1380</th>\n",
       "      <td>1</td>\n",
       "      <td>0</td>\n",
       "      <td>1</td>\n",
       "      <td>1</td>\n",
       "      <td>0</td>\n",
       "      <td>2</td>\n",
       "      <td>1</td>\n",
       "      <td>6</td>\n",
       "      <td>3</td>\n",
       "      <td>1</td>\n",
       "      <td>8.43</td>\n",
       "      <td>8.61</td>\n",
       "      <td>0.00</td>\n",
       "      <td>0.93</td>\n",
       "      <td>20.36</td>\n",
       "      <td>5.97</td>\n",
       "      <td>25.31</td>\n",
       "      <td>55.84</td>\n",
       "      <td>682.57</td>\n",
       "      <td>10.21</td>\n",
       "      <td>1</td>\n",
       "      <td>1794.53</td>\n",
       "      <td>2</td>\n",
       "      <td>7</td>\n",
       "      <td>1019.06</td>\n",
       "      <td>3046.47</td>\n",
       "      <td>612.89</td>\n",
       "      <td>8.53</td>\n",
       "      <td>1</td>\n",
       "      <td>572.22</td>\n",
       "      <td>0</td>\n",
       "      <td>1</td>\n",
       "      <td>5822.85</td>\n",
       "      <td>189.74</td>\n",
       "      <td>2019</td>\n",
       "      <td>2</td>\n",
       "      <td>11</td>\n",
       "      <td>2</td>\n",
       "    </tr>\n",
       "    <tr>\n",
       "      <th>14764</th>\n",
       "      <td>2</td>\n",
       "      <td>1</td>\n",
       "      <td>2</td>\n",
       "      <td>1</td>\n",
       "      <td>1</td>\n",
       "      <td>1</td>\n",
       "      <td>2</td>\n",
       "      <td>1</td>\n",
       "      <td>3</td>\n",
       "      <td>3</td>\n",
       "      <td>6.42</td>\n",
       "      <td>7.50</td>\n",
       "      <td>26.19</td>\n",
       "      <td>3.91</td>\n",
       "      <td>40.97</td>\n",
       "      <td>4.37</td>\n",
       "      <td>28.29</td>\n",
       "      <td>65.02</td>\n",
       "      <td>932.00</td>\n",
       "      <td>17.30</td>\n",
       "      <td>1</td>\n",
       "      <td>1153.50</td>\n",
       "      <td>1</td>\n",
       "      <td>3</td>\n",
       "      <td>4237.27</td>\n",
       "      <td>839.64</td>\n",
       "      <td>4755.29</td>\n",
       "      <td>7.21</td>\n",
       "      <td>4</td>\n",
       "      <td>836.22</td>\n",
       "      <td>1</td>\n",
       "      <td>0</td>\n",
       "      <td>1144.60</td>\n",
       "      <td>442.15</td>\n",
       "      <td>2020</td>\n",
       "      <td>9</td>\n",
       "      <td>3</td>\n",
       "      <td>1</td>\n",
       "    </tr>\n",
       "    <tr>\n",
       "      <th>7347</th>\n",
       "      <td>0</td>\n",
       "      <td>0</td>\n",
       "      <td>2</td>\n",
       "      <td>0</td>\n",
       "      <td>1</td>\n",
       "      <td>1</td>\n",
       "      <td>1</td>\n",
       "      <td>3</td>\n",
       "      <td>3</td>\n",
       "      <td>0</td>\n",
       "      <td>15.25</td>\n",
       "      <td>14.74</td>\n",
       "      <td>0.00</td>\n",
       "      <td>5.34</td>\n",
       "      <td>34.88</td>\n",
       "      <td>8.13</td>\n",
       "      <td>100.29</td>\n",
       "      <td>67.28</td>\n",
       "      <td>142.65</td>\n",
       "      <td>1.42</td>\n",
       "      <td>0</td>\n",
       "      <td>1961.55</td>\n",
       "      <td>3</td>\n",
       "      <td>2</td>\n",
       "      <td>553.80</td>\n",
       "      <td>4475.88</td>\n",
       "      <td>4199.98</td>\n",
       "      <td>3.02</td>\n",
       "      <td>3</td>\n",
       "      <td>255.60</td>\n",
       "      <td>0</td>\n",
       "      <td>1</td>\n",
       "      <td>9067.34</td>\n",
       "      <td>442.14</td>\n",
       "      <td>2019</td>\n",
       "      <td>11</td>\n",
       "      <td>2</td>\n",
       "      <td>1</td>\n",
       "    </tr>\n",
       "  </tbody>\n",
       "</table>\n",
       "</div>"
      ],
      "text/plain": [
       "             Road_Type  Surface_Conditions  Lighting_Conditions  \\\n",
       "Accident_ID                                                       \n",
       "17816                1                   2                    1   \n",
       "18371                1                   0                    2   \n",
       "1380                 1                   0                    1   \n",
       "14764                2                   1                    2   \n",
       "7347                 0                   0                    2   \n",
       "\n",
       "             Traffic_Control  Accident_Type  Vehicles_Involved  \\\n",
       "Accident_ID                                                      \n",
       "17816                      0              1                  2   \n",
       "18371                      1              0                  1   \n",
       "1380                       1              0                  2   \n",
       "14764                      1              1                  1   \n",
       "7347                       0              1                  1   \n",
       "\n",
       "             Pedestrians_Involved  Day_of_Week  Time_of_Day  \\\n",
       "Accident_ID                                                   \n",
       "17816                           2            5            0   \n",
       "18371                           1            4            3   \n",
       "1380                            1            6            3   \n",
       "14764                           2            1            3   \n",
       "7347                            1            3            3   \n",
       "\n",
       "             Weather_Conditions  Temperature  Wind_Speed  Precipitation  \\\n",
       "Accident_ID                                                               \n",
       "17816                         1        37.78        8.56           0.00   \n",
       "18371                         0        15.51        6.94           0.00   \n",
       "1380                          1         8.43        8.61           0.00   \n",
       "14764                         3         6.42        7.50          26.19   \n",
       "7347                          0        15.25       14.74           0.00   \n",
       "\n",
       "             Visibility  Heat_Index  Wind_Chill  Average_Speed  \\\n",
       "Accident_ID                                                      \n",
       "17816              0.75       49.36        8.89          63.59   \n",
       "18371              9.03       44.66       12.35          86.28   \n",
       "1380               0.93       20.36        5.97          25.31   \n",
       "14764              3.91       40.97        4.37          28.29   \n",
       "7347               5.34       34.88        8.13         100.29   \n",
       "\n",
       "             Vehicle_Density  Traffic_Flow  Time_to_Accident  Peak_Hour  \\\n",
       "Accident_ID                                                               \n",
       "17816                  74.84        681.84              9.72          1   \n",
       "18371                  77.71        839.12              5.61          1   \n",
       "1380                   55.84        682.57             10.21          1   \n",
       "14764                  65.02        932.00             17.30          1   \n",
       "7347                   67.28        142.65              1.42          0   \n",
       "\n",
       "             Road_Work_Proximity  Nearby_Accidents  Traffic_Signals  \\\n",
       "Accident_ID                                                           \n",
       "17816                    1161.98                 3                6   \n",
       "18371                     151.97                 0                3   \n",
       "1380                     1794.53                 2                7   \n",
       "14764                    1153.50                 1                3   \n",
       "7347                     1961.55                 3                2   \n",
       "\n",
       "             Proximity_to_School  Proximity_to_Hospital  \\\n",
       "Accident_ID                                               \n",
       "17816                     817.74                2506.80   \n",
       "18371                    4961.81                2975.26   \n",
       "1380                     1019.06                3046.47   \n",
       "14764                    4237.27                 839.64   \n",
       "7347                      553.80                4475.88   \n",
       "\n",
       "             Proximity_to_Shopping_Center  Road_Width  Lane_Count  \\\n",
       "Accident_ID                                                         \n",
       "17816                             1748.59        6.49           1   \n",
       "18371                             4864.93        4.27           2   \n",
       "1380                               612.89        8.53           1   \n",
       "14764                             4755.29        7.21           4   \n",
       "7347                              4199.98        3.02           3   \n",
       "\n",
       "             Intersection_Proximity  Bicycle_Lane_Availability  \\\n",
       "Accident_ID                                                      \n",
       "17816                        627.16                          0   \n",
       "18371                        497.83                          0   \n",
       "1380                         572.22                          0   \n",
       "14764                        836.22                          1   \n",
       "7347                         255.60                          0   \n",
       "\n",
       "             Pedestrian_Crossing_Availability  Population_Density  \\\n",
       "Accident_ID                                                         \n",
       "17816                                       0             3267.30   \n",
       "18371                                       0             9408.16   \n",
       "1380                                        1             5822.85   \n",
       "14764                                       0             1144.60   \n",
       "7347                                        1             9067.34   \n",
       "\n",
       "             Street_Lighting_Proximity  year  month  hour  city  \n",
       "Accident_ID                                                      \n",
       "17816                           144.93  2021      1     7     1  \n",
       "18371                           425.64  2021      2    10     1  \n",
       "1380                            189.74  2019      2    11     2  \n",
       "14764                           442.15  2020      9     3     1  \n",
       "7347                            442.14  2019     11     2     1  "
      ]
     },
     "execution_count": 143,
     "metadata": {},
     "output_type": "execute_result"
    }
   ],
   "source": [
    "X.head()"
   ]
  },
  {
   "cell_type": "code",
   "execution_count": 144,
   "id": "452164d1",
   "metadata": {},
   "outputs": [
    {
     "data": {
      "text/plain": [
       "Accident_ID\n",
       "17816    1\n",
       "18371    2\n",
       "1380     1\n",
       "14764    2\n",
       "7347     0\n",
       "        ..\n",
       "13124    1\n",
       "19649    0\n",
       "9846     0\n",
       "10800    1\n",
       "2733     1\n",
       "Name: Accident_Severity, Length: 16000, dtype: int64"
      ]
     },
     "execution_count": 144,
     "metadata": {},
     "output_type": "execute_result"
    }
   ],
   "source": [
    "Y"
   ]
  },
  {
   "cell_type": "code",
   "execution_count": 145,
   "id": "74251108",
   "metadata": {},
   "outputs": [
    {
     "data": {
      "text/plain": [
       "(16000, 38)"
      ]
     },
     "execution_count": 145,
     "metadata": {},
     "output_type": "execute_result"
    }
   ],
   "source": [
    "X.shape"
   ]
  },
  {
   "cell_type": "code",
   "execution_count": 146,
   "id": "80d1c315",
   "metadata": {},
   "outputs": [
    {
     "data": {
      "text/plain": [
       "(16000,)"
      ]
     },
     "execution_count": 146,
     "metadata": {},
     "output_type": "execute_result"
    }
   ],
   "source": [
    "Y.shape"
   ]
  },
  {
   "cell_type": "code",
   "execution_count": 147,
   "id": "303654ca",
   "metadata": {},
   "outputs": [
    {
     "name": "stdout",
     "output_type": "stream",
     "text": [
      "[[ 0.23197935  0.95377877 -0.34685411 ... -1.40675219 -0.64763623\n",
      "  -0.61170163]\n",
      " [ 0.23197935 -1.16734992  1.32071375 ... -1.12384932 -0.21482075\n",
      "  -0.61170163]\n",
      " [ 0.23197935 -1.16734992 -0.34685411 ... -1.12384932 -0.07054892\n",
      "  -0.0270755 ]\n",
      " ...\n",
      " [-0.91359768 -1.16734992  1.32071375 ... -1.12384932 -0.93617989\n",
      "  -0.61170163]\n",
      " [ 1.37755637  0.95377877  1.32071375 ... -0.84094646  1.66071301\n",
      "  -0.61170163]\n",
      " [ 1.37755637  0.95377877 -0.34685411 ... -0.55804359  1.22789752\n",
      "  -0.61170163]]\n"
     ]
    }
   ],
   "source": [
    "from sklearn.preprocessing import StandardScaler\n",
    " \n",
    "scaler=StandardScaler()\n",
    "scaler.fit(X)             \n",
    "X=scaler.transform(X)\n",
    "test_df_scale=scaler.transform(test_df)\n",
    "print(X)"
   ]
  },
  {
   "cell_type": "code",
   "execution_count": 148,
   "id": "cc594408",
   "metadata": {},
   "outputs": [
    {
     "name": "stdout",
     "output_type": "stream",
     "text": [
      "[[ 1.37755637  0.95377877 -2.01442197 ... -0.84094646 -0.79190806\n",
      "  -0.61170163]\n",
      " [ 0.23197935  0.95377877 -0.34685411 ...  0.29066502  0.21799473\n",
      "  -0.61170163]\n",
      " [-0.91359768 -1.16734992  1.32071375 ...  1.42227649 -0.07054892\n",
      "  -0.61170163]\n",
      " ...\n",
      " [-0.91359768  0.95377877  1.32071375 ... -1.12384932  1.37216935\n",
      "  -0.61170163]\n",
      " [ 0.23197935  0.95377877 -0.34685411 ...  0.57356788 -1.08045172\n",
      "  -0.61170163]\n",
      " [-0.91359768  0.95377877  1.32071375 ... -1.40675219  1.37216935\n",
      "  -0.0270755 ]]\n"
     ]
    }
   ],
   "source": [
    "print(test_df_scale)"
   ]
  },
  {
   "cell_type": "code",
   "execution_count": 149,
   "id": "64e8face",
   "metadata": {},
   "outputs": [],
   "source": [
    "#train set and validation set split\n",
    "from sklearn.model_selection import train_test_split\n",
    "x_train,x_test,y_train,y_test=train_test_split(X,Y,test_size=0.3,random_state=10)"
   ]
  },
  {
   "cell_type": "code",
   "execution_count": 150,
   "id": "30870b2c",
   "metadata": {},
   "outputs": [
    {
     "name": "stdout",
     "output_type": "stream",
     "text": [
      "(11200, 38)\n",
      "(11200,)\n",
      "(4800, 38)\n",
      "(4800,)\n"
     ]
    }
   ],
   "source": [
    "print(x_train.shape)\n",
    "print(y_train.shape)\n",
    "print(x_test.shape)\n",
    "print(y_test.shape)"
   ]
  },
  {
   "cell_type": "code",
   "execution_count": 151,
   "id": "24a9c87a",
   "metadata": {},
   "outputs": [
    {
     "data": {
      "text/plain": [
       "Accident_Severity\n",
       "0    5502\n",
       "1    3949\n",
       "2    1749\n",
       "Name: count, dtype: int64"
      ]
     },
     "execution_count": 151,
     "metadata": {},
     "output_type": "execute_result"
    }
   ],
   "source": [
    "y_train.value_counts()"
   ]
  },
  {
   "cell_type": "code",
   "execution_count": 152,
   "id": "30f9cd45",
   "metadata": {},
   "outputs": [
    {
     "name": "stdout",
     "output_type": "stream",
     "text": [
      "Before OverSampling, counts of label '1':  3949\n",
      "Before OverSampling, counts of label '0':  5502\n",
      "Before OverSampling, counts of label '2':  1749\n",
      "After OverSampling, the shape of train_X:  (16506, 38)\n",
      "After OverSampling, the shape of train_y:  (16506,)\n",
      "After OverSampling, counts of label '1':  5502\n",
      "After OverSampling, counts of label '0':  5502\n",
      "After OverSampling, counts of label '2':  5502\n"
     ]
    }
   ],
   "source": [
    "print(\"Before OverSampling, counts of label '1': \", (sum(y_train == 1)))\n",
    "print(\"Before OverSampling, counts of label '0': \", (sum(y_train == 0)))\n",
    "print(\"Before OverSampling, counts of label '2': \", (sum(y_train == 2))) \n",
    "# import SMOTE from imblearn library\n",
    "from imblearn.over_sampling import SMOTE\n",
    "sm = SMOTE(random_state = 10,k_neighbors=5)\n",
    "x_train_res, y_train_res = sm.fit_resample(x_train, y_train)\n",
    "  \n",
    "print('After OverSampling, the shape of train_X: ', (x_train_res.shape))\n",
    "print('After OverSampling, the shape of train_y: ', (y_train_res.shape))\n",
    "  \n",
    "print(\"After OverSampling, counts of label '1': \", (sum(y_train_res == 1)))\n",
    "print(\"After OverSampling, counts of label '0': \", (sum(y_train_res == 0)))\n",
    "print(\"After OverSampling, counts of label '2': \", (sum(y_train_res == 2)))"
   ]
  },
  {
   "cell_type": "code",
   "execution_count": 153,
   "id": "0172a867",
   "metadata": {},
   "outputs": [
    {
     "name": "stdout",
     "output_type": "stream",
     "text": [
      "[ 0.00762987  0.00447966 -0.01210952]\n",
      "[[ 0.00172004 -0.02848984  0.01220708 -0.02850915 -0.00505301  0.02444806\n",
      "  -0.00056815 -0.00239339 -0.00724694  0.03896768 -0.00737854  0.01391793\n",
      "  -0.00727367  0.06839618 -0.00180157  0.01845251 -0.01165343  0.00244796\n",
      "   0.02975608 -0.01082686  0.00032537 -0.00295553 -0.01542037 -0.01508635\n",
      "  -0.00710538  0.00895    -0.01753251 -0.01069518  0.00177883  0.00768724\n",
      "  -0.00367786 -0.02044151  0.01082777  0.01943277  0.00680488 -0.01103507\n",
      "   0.01113336  0.05398204]\n",
      " [-0.00660875  0.0017637   0.0344327  -0.00803252  0.01640346  0.03440123\n",
      "   0.01918318  0.0247267   0.00890466  0.01637811  0.00711996 -0.05288114\n",
      "   0.01756742  0.04346115  0.01158236 -0.01252293 -0.00458642 -0.0110075\n",
      "   0.00544159  0.02711921 -0.00483255  0.00429929 -0.00536576  0.0103342\n",
      "   0.01142482  0.02012328  0.00812647  0.01924037 -0.00230808  0.01105789\n",
      "   0.00175152 -0.02560149 -0.00212904  0.01740097  0.02712238  0.02017187\n",
      "   0.00501827 -0.03210786]\n",
      " [ 0.00488871  0.02672613 -0.04663978  0.03654167 -0.01135045 -0.05884929\n",
      "  -0.01861502 -0.02233331 -0.00165771 -0.05534579  0.00025858  0.03896321\n",
      "  -0.01029375 -0.11185734 -0.00978079 -0.00592959  0.01623984  0.00855954\n",
      "  -0.03519767 -0.01629235  0.00450718 -0.00134376  0.02078613  0.00475215\n",
      "  -0.00431944 -0.02907328  0.00940605 -0.00854519  0.00052924 -0.01874513\n",
      "   0.00192633  0.046043   -0.00869873 -0.03683373 -0.03392725 -0.0091368\n",
      "  -0.01615163 -0.02187418]]\n"
     ]
    }
   ],
   "source": [
    "from sklearn.linear_model import LogisticRegression\n",
    "#create a model object\n",
    "classifier = LogisticRegression()\n",
    "#train the model object\n",
    "classifier.fit(x_train_res, y_train_res)\n",
    "\n",
    "#print intercepts and coefficients\n",
    "print(classifier.intercept_)\n",
    "print(classifier.coef_)"
   ]
  },
  {
   "cell_type": "code",
   "execution_count": 154,
   "id": "cad11106",
   "metadata": {},
   "outputs": [
    {
     "name": "stdout",
     "output_type": "stream",
     "text": [
      "[2 0 1 ... 0 1 2]\n"
     ]
    }
   ],
   "source": [
    "Y_pred_logistic = classifier.predict(x_test)\n",
    "print(Y_pred_logistic)"
   ]
  },
  {
   "cell_type": "code",
   "execution_count": 155,
   "id": "8c3f4580",
   "metadata": {},
   "outputs": [
    {
     "name": "stdout",
     "output_type": "stream",
     "text": [
      "[[0.30316131 0.27523048 0.42160821]\n",
      " [0.35817743 0.32363493 0.31818765]\n",
      " [0.36740991 0.40696559 0.2256245 ]\n",
      " ...\n",
      " [0.38670307 0.35978358 0.25351335]\n",
      " [0.33257904 0.35888058 0.30854038]\n",
      " [0.28505661 0.32613217 0.38881122]]\n"
     ]
    }
   ],
   "source": [
    "Y_pred_prob = classifier.predict_proba(x_test)\n",
    "print(Y_pred_prob)"
   ]
  },
  {
   "cell_type": "code",
   "execution_count": 156,
   "id": "dff76bb0",
   "metadata": {},
   "outputs": [
    {
     "name": "stdout",
     "output_type": "stream",
     "text": [
      "[[741 672 929]\n",
      " [551 522 636]\n",
      " [221 224 304]]\n",
      "Classification report: \n",
      "              precision    recall  f1-score   support\n",
      "\n",
      "           0       0.49      0.32      0.38      2342\n",
      "           1       0.37      0.31      0.33      1709\n",
      "           2       0.16      0.41      0.23       749\n",
      "\n",
      "    accuracy                           0.33      4800\n",
      "   macro avg       0.34      0.34      0.32      4800\n",
      "weighted avg       0.40      0.33      0.34      4800\n",
      "\n",
      "Accuracy of the model:  0.32645833333333335\n"
     ]
    }
   ],
   "source": [
    "from sklearn.metrics import confusion_matrix, accuracy_score, classification_report\n",
    " \n",
    "cfm=confusion_matrix(y_test,Y_pred_logistic)\n",
    "print(cfm)\n",
    " \n",
    "print(\"Classification report: \")\n",
    " \n",
    "print(classification_report(y_test,Y_pred_logistic))\n",
    " \n",
    "acc=accuracy_score(y_test, Y_pred_logistic)\n",
    "print(\"Accuracy of the model: \",acc)"
   ]
  },
  {
   "cell_type": "code",
   "execution_count": 157,
   "id": "5a9a60a9",
   "metadata": {},
   "outputs": [
    {
     "name": "stdout",
     "output_type": "stream",
     "text": [
      "[1 1 1 ... 0 1 2]\n"
     ]
    }
   ],
   "source": [
    "from sklearn.tree import DecisionTreeClassifier\n",
    "#create a model object\n",
    "model_DecisionTree = DecisionTreeClassifier(random_state=10,criterion='gini')\n",
    "# train the model object\n",
    "model_DecisionTree.fit(x_train_res,y_train_res) #trainig phase is building the DTree fit Tree\n",
    "\n",
    "y_pred=model_DecisionTree.predict(x_test)\n",
    "print(y_pred)"
   ]
  },
  {
   "cell_type": "code",
   "execution_count": 158,
   "id": "15be8f55",
   "metadata": {},
   "outputs": [
    {
     "data": {
      "text/plain": [
       "1.0"
      ]
     },
     "execution_count": 158,
     "metadata": {},
     "output_type": "execute_result"
    }
   ],
   "source": [
    "model_DecisionTree.score(x_train_res, y_train_res)"
   ]
  },
  {
   "cell_type": "code",
   "execution_count": 159,
   "id": "0e4edb0b",
   "metadata": {},
   "outputs": [
    {
     "name": "stdout",
     "output_type": "stream",
     "text": [
      "[[1072  847  423]\n",
      " [ 804  600  305]\n",
      " [ 336  267  146]]\n",
      "Classification report: \n",
      "              precision    recall  f1-score   support\n",
      "\n",
      "           0       0.48      0.46      0.47      2342\n",
      "           1       0.35      0.35      0.35      1709\n",
      "           2       0.17      0.19      0.18       749\n",
      "\n",
      "    accuracy                           0.38      4800\n",
      "   macro avg       0.33      0.33      0.33      4800\n",
      "weighted avg       0.39      0.38      0.38      4800\n",
      "\n",
      "Accuracy of the model:  0.37875\n"
     ]
    }
   ],
   "source": [
    "from sklearn.metrics import confusion_matrix, accuracy_score, classification_report\n",
    " \n",
    "cfm=confusion_matrix(y_test,y_pred)\n",
    "print(cfm)\n",
    " \n",
    "print(\"Classification report: \")\n",
    " \n",
    "print(classification_report(y_test,y_pred))\n",
    " \n",
    "acc=accuracy_score(y_test, y_pred)\n",
    "print(\"Accuracy of the model: \",acc)"
   ]
  },
  {
   "cell_type": "code",
   "execution_count": 160,
   "id": "d7338fc2",
   "metadata": {},
   "outputs": [
    {
     "data": {
      "text/html": [
       "<div>\n",
       "<style scoped>\n",
       "    .dataframe tbody tr th:only-of-type {\n",
       "        vertical-align: middle;\n",
       "    }\n",
       "\n",
       "    .dataframe tbody tr th {\n",
       "        vertical-align: top;\n",
       "    }\n",
       "\n",
       "    .dataframe thead th {\n",
       "        text-align: right;\n",
       "    }\n",
       "</style>\n",
       "<table border=\"1\" class=\"dataframe\">\n",
       "  <thead>\n",
       "    <tr style=\"text-align: right;\">\n",
       "      <th></th>\n",
       "      <th>Column</th>\n",
       "      <th>Imp value</th>\n",
       "    </tr>\n",
       "  </thead>\n",
       "  <tbody>\n",
       "    <tr>\n",
       "      <th>4</th>\n",
       "      <td>Accident_Type</td>\n",
       "      <td>0.053439</td>\n",
       "    </tr>\n",
       "    <tr>\n",
       "      <th>2</th>\n",
       "      <td>Lighting_Conditions</td>\n",
       "      <td>0.043293</td>\n",
       "    </tr>\n",
       "    <tr>\n",
       "      <th>33</th>\n",
       "      <td>Street_Lighting_Proximity</td>\n",
       "      <td>0.043161</td>\n",
       "    </tr>\n",
       "    <tr>\n",
       "      <th>17</th>\n",
       "      <td>Vehicle_Density</td>\n",
       "      <td>0.041285</td>\n",
       "    </tr>\n",
       "    <tr>\n",
       "      <th>18</th>\n",
       "      <td>Traffic_Flow</td>\n",
       "      <td>0.040991</td>\n",
       "    </tr>\n",
       "    <tr>\n",
       "      <th>15</th>\n",
       "      <td>Wind_Chill</td>\n",
       "      <td>0.039581</td>\n",
       "    </tr>\n",
       "    <tr>\n",
       "      <th>14</th>\n",
       "      <td>Heat_Index</td>\n",
       "      <td>0.037657</td>\n",
       "    </tr>\n",
       "    <tr>\n",
       "      <th>21</th>\n",
       "      <td>Road_Work_Proximity</td>\n",
       "      <td>0.037590</td>\n",
       "    </tr>\n",
       "    <tr>\n",
       "      <th>25</th>\n",
       "      <td>Proximity_to_Hospital</td>\n",
       "      <td>0.036997</td>\n",
       "    </tr>\n",
       "    <tr>\n",
       "      <th>19</th>\n",
       "      <td>Time_to_Accident</td>\n",
       "      <td>0.035904</td>\n",
       "    </tr>\n",
       "    <tr>\n",
       "      <th>24</th>\n",
       "      <td>Proximity_to_School</td>\n",
       "      <td>0.035059</td>\n",
       "    </tr>\n",
       "    <tr>\n",
       "      <th>16</th>\n",
       "      <td>Average_Speed</td>\n",
       "      <td>0.034378</td>\n",
       "    </tr>\n",
       "    <tr>\n",
       "      <th>13</th>\n",
       "      <td>Visibility</td>\n",
       "      <td>0.033773</td>\n",
       "    </tr>\n",
       "    <tr>\n",
       "      <th>29</th>\n",
       "      <td>Intersection_Proximity</td>\n",
       "      <td>0.033758</td>\n",
       "    </tr>\n",
       "    <tr>\n",
       "      <th>27</th>\n",
       "      <td>Road_Width</td>\n",
       "      <td>0.033481</td>\n",
       "    </tr>\n",
       "    <tr>\n",
       "      <th>11</th>\n",
       "      <td>Wind_Speed</td>\n",
       "      <td>0.032539</td>\n",
       "    </tr>\n",
       "    <tr>\n",
       "      <th>26</th>\n",
       "      <td>Proximity_to_Shopping_Center</td>\n",
       "      <td>0.032420</td>\n",
       "    </tr>\n",
       "    <tr>\n",
       "      <th>32</th>\n",
       "      <td>Population_Density</td>\n",
       "      <td>0.032187</td>\n",
       "    </tr>\n",
       "    <tr>\n",
       "      <th>10</th>\n",
       "      <td>Temperature</td>\n",
       "      <td>0.030462</td>\n",
       "    </tr>\n",
       "    <tr>\n",
       "      <th>35</th>\n",
       "      <td>month</td>\n",
       "      <td>0.028653</td>\n",
       "    </tr>\n",
       "    <tr>\n",
       "      <th>36</th>\n",
       "      <td>hour</td>\n",
       "      <td>0.027728</td>\n",
       "    </tr>\n",
       "    <tr>\n",
       "      <th>23</th>\n",
       "      <td>Traffic_Signals</td>\n",
       "      <td>0.024974</td>\n",
       "    </tr>\n",
       "    <tr>\n",
       "      <th>34</th>\n",
       "      <td>year</td>\n",
       "      <td>0.024090</td>\n",
       "    </tr>\n",
       "    <tr>\n",
       "      <th>7</th>\n",
       "      <td>Day_of_Week</td>\n",
       "      <td>0.023334</td>\n",
       "    </tr>\n",
       "    <tr>\n",
       "      <th>6</th>\n",
       "      <td>Pedestrians_Involved</td>\n",
       "      <td>0.018693</td>\n",
       "    </tr>\n",
       "    <tr>\n",
       "      <th>22</th>\n",
       "      <td>Nearby_Accidents</td>\n",
       "      <td>0.017080</td>\n",
       "    </tr>\n",
       "    <tr>\n",
       "      <th>28</th>\n",
       "      <td>Lane_Count</td>\n",
       "      <td>0.016293</td>\n",
       "    </tr>\n",
       "    <tr>\n",
       "      <th>37</th>\n",
       "      <td>city</td>\n",
       "      <td>0.014616</td>\n",
       "    </tr>\n",
       "    <tr>\n",
       "      <th>5</th>\n",
       "      <td>Vehicles_Involved</td>\n",
       "      <td>0.012582</td>\n",
       "    </tr>\n",
       "    <tr>\n",
       "      <th>0</th>\n",
       "      <td>Road_Type</td>\n",
       "      <td>0.012410</td>\n",
       "    </tr>\n",
       "    <tr>\n",
       "      <th>12</th>\n",
       "      <td>Precipitation</td>\n",
       "      <td>0.011891</td>\n",
       "    </tr>\n",
       "    <tr>\n",
       "      <th>8</th>\n",
       "      <td>Time_of_Day</td>\n",
       "      <td>0.011669</td>\n",
       "    </tr>\n",
       "    <tr>\n",
       "      <th>20</th>\n",
       "      <td>Peak_Hour</td>\n",
       "      <td>0.009895</td>\n",
       "    </tr>\n",
       "    <tr>\n",
       "      <th>9</th>\n",
       "      <td>Weather_Conditions</td>\n",
       "      <td>0.008826</td>\n",
       "    </tr>\n",
       "    <tr>\n",
       "      <th>1</th>\n",
       "      <td>Surface_Conditions</td>\n",
       "      <td>0.008782</td>\n",
       "    </tr>\n",
       "    <tr>\n",
       "      <th>30</th>\n",
       "      <td>Bicycle_Lane_Availability</td>\n",
       "      <td>0.008244</td>\n",
       "    </tr>\n",
       "    <tr>\n",
       "      <th>31</th>\n",
       "      <td>Pedestrian_Crossing_Availability</td>\n",
       "      <td>0.006228</td>\n",
       "    </tr>\n",
       "    <tr>\n",
       "      <th>3</th>\n",
       "      <td>Traffic_Control</td>\n",
       "      <td>0.006057</td>\n",
       "    </tr>\n",
       "  </tbody>\n",
       "</table>\n",
       "</div>"
      ],
      "text/plain": [
       "                              Column  Imp value\n",
       "4                      Accident_Type   0.053439\n",
       "2                Lighting_Conditions   0.043293\n",
       "33         Street_Lighting_Proximity   0.043161\n",
       "17                   Vehicle_Density   0.041285\n",
       "18                      Traffic_Flow   0.040991\n",
       "15                        Wind_Chill   0.039581\n",
       "14                        Heat_Index   0.037657\n",
       "21               Road_Work_Proximity   0.037590\n",
       "25             Proximity_to_Hospital   0.036997\n",
       "19                  Time_to_Accident   0.035904\n",
       "24               Proximity_to_School   0.035059\n",
       "16                     Average_Speed   0.034378\n",
       "13                        Visibility   0.033773\n",
       "29            Intersection_Proximity   0.033758\n",
       "27                        Road_Width   0.033481\n",
       "11                        Wind_Speed   0.032539\n",
       "26      Proximity_to_Shopping_Center   0.032420\n",
       "32                Population_Density   0.032187\n",
       "10                       Temperature   0.030462\n",
       "35                             month   0.028653\n",
       "36                              hour   0.027728\n",
       "23                   Traffic_Signals   0.024974\n",
       "34                              year   0.024090\n",
       "7                        Day_of_Week   0.023334\n",
       "6               Pedestrians_Involved   0.018693\n",
       "22                  Nearby_Accidents   0.017080\n",
       "28                        Lane_Count   0.016293\n",
       "37                              city   0.014616\n",
       "5                  Vehicles_Involved   0.012582\n",
       "0                          Road_Type   0.012410\n",
       "12                     Precipitation   0.011891\n",
       "8                        Time_of_Day   0.011669\n",
       "20                         Peak_Hour   0.009895\n",
       "9                 Weather_Conditions   0.008826\n",
       "1                 Surface_Conditions   0.008782\n",
       "30         Bicycle_Lane_Availability   0.008244\n",
       "31  Pedestrian_Crossing_Availability   0.006228\n",
       "3                    Traffic_Control   0.006057"
      ]
     },
     "execution_count": 160,
     "metadata": {},
     "output_type": "execute_result"
    }
   ],
   "source": [
    "sample=pd.DataFrame()\n",
    " \n",
    "sample[\"Column\"]=train_df.drop('Accident_Severity',axis=1).columns\n",
    "sample[\"Imp value\"]=model_DecisionTree.feature_importances_\n",
    " \n",
    "sample.sort_values(\"Imp value\",ascending=False)"
   ]
  },
  {
   "cell_type": "code",
   "execution_count": 161,
   "id": "ea746934",
   "metadata": {},
   "outputs": [],
   "source": [
    "model_DT1= DecisionTreeClassifier(random_state=10)"
   ]
  },
  {
   "cell_type": "code",
   "execution_count": 162,
   "id": "7e303641",
   "metadata": {},
   "outputs": [],
   "source": [
    "#parameters for trial and error should be passed here\n",
    "parameter_space = {\n",
    "          #np.arange(100, 1001,50),\n",
    "    'max_depth':[10,15,8, 12],\n",
    "    'min_samples_leaf':[1,3,4,5,6,7],\n",
    "    'min_samples_split':[5,10,20,50,100]\n",
    "    }\n",
    "from sklearn.model_selection import GridSearchCV #RandomizedSearchCV\n",
    "clf_DT = GridSearchCV(model_DT1, parameter_space, n_jobs=-1, cv=5) #cv=5 means 5 fold cv"
   ]
  },
  {
   "cell_type": "code",
   "execution_count": null,
   "id": "e43802aa",
   "metadata": {},
   "outputs": [],
   "source": [
    "'''criterion='gini',\n",
    "                                 splitter=\"best\",\n",
    "                                 min_samples_leaf=3,\n",
    "                                 min_samples_split=5,\n",
    "                                 max_depth=10,\n",
    "                                  max_leaf_nodes=100,\n",
    "                                  #max_features=0.6\n",
    "''''"
   ]
  },
  {
   "cell_type": "code",
   "execution_count": 163,
   "id": "74726cd6",
   "metadata": {},
   "outputs": [
    {
     "data": {
      "text/html": [
       "<style>#sk-container-id-2 {color: black;background-color: white;}#sk-container-id-2 pre{padding: 0;}#sk-container-id-2 div.sk-toggleable {background-color: white;}#sk-container-id-2 label.sk-toggleable__label {cursor: pointer;display: block;width: 100%;margin-bottom: 0;padding: 0.3em;box-sizing: border-box;text-align: center;}#sk-container-id-2 label.sk-toggleable__label-arrow:before {content: \"▸\";float: left;margin-right: 0.25em;color: #696969;}#sk-container-id-2 label.sk-toggleable__label-arrow:hover:before {color: black;}#sk-container-id-2 div.sk-estimator:hover label.sk-toggleable__label-arrow:before {color: black;}#sk-container-id-2 div.sk-toggleable__content {max-height: 0;max-width: 0;overflow: hidden;text-align: left;background-color: #f0f8ff;}#sk-container-id-2 div.sk-toggleable__content pre {margin: 0.2em;color: black;border-radius: 0.25em;background-color: #f0f8ff;}#sk-container-id-2 input.sk-toggleable__control:checked~div.sk-toggleable__content {max-height: 200px;max-width: 100%;overflow: auto;}#sk-container-id-2 input.sk-toggleable__control:checked~label.sk-toggleable__label-arrow:before {content: \"▾\";}#sk-container-id-2 div.sk-estimator input.sk-toggleable__control:checked~label.sk-toggleable__label {background-color: #d4ebff;}#sk-container-id-2 div.sk-label input.sk-toggleable__control:checked~label.sk-toggleable__label {background-color: #d4ebff;}#sk-container-id-2 input.sk-hidden--visually {border: 0;clip: rect(1px 1px 1px 1px);clip: rect(1px, 1px, 1px, 1px);height: 1px;margin: -1px;overflow: hidden;padding: 0;position: absolute;width: 1px;}#sk-container-id-2 div.sk-estimator {font-family: monospace;background-color: #f0f8ff;border: 1px dotted black;border-radius: 0.25em;box-sizing: border-box;margin-bottom: 0.5em;}#sk-container-id-2 div.sk-estimator:hover {background-color: #d4ebff;}#sk-container-id-2 div.sk-parallel-item::after {content: \"\";width: 100%;border-bottom: 1px solid gray;flex-grow: 1;}#sk-container-id-2 div.sk-label:hover label.sk-toggleable__label {background-color: #d4ebff;}#sk-container-id-2 div.sk-serial::before {content: \"\";position: absolute;border-left: 1px solid gray;box-sizing: border-box;top: 0;bottom: 0;left: 50%;z-index: 0;}#sk-container-id-2 div.sk-serial {display: flex;flex-direction: column;align-items: center;background-color: white;padding-right: 0.2em;padding-left: 0.2em;position: relative;}#sk-container-id-2 div.sk-item {position: relative;z-index: 1;}#sk-container-id-2 div.sk-parallel {display: flex;align-items: stretch;justify-content: center;background-color: white;position: relative;}#sk-container-id-2 div.sk-item::before, #sk-container-id-2 div.sk-parallel-item::before {content: \"\";position: absolute;border-left: 1px solid gray;box-sizing: border-box;top: 0;bottom: 0;left: 50%;z-index: -1;}#sk-container-id-2 div.sk-parallel-item {display: flex;flex-direction: column;z-index: 1;position: relative;background-color: white;}#sk-container-id-2 div.sk-parallel-item:first-child::after {align-self: flex-end;width: 50%;}#sk-container-id-2 div.sk-parallel-item:last-child::after {align-self: flex-start;width: 50%;}#sk-container-id-2 div.sk-parallel-item:only-child::after {width: 0;}#sk-container-id-2 div.sk-dashed-wrapped {border: 1px dashed gray;margin: 0 0.4em 0.5em 0.4em;box-sizing: border-box;padding-bottom: 0.4em;background-color: white;}#sk-container-id-2 div.sk-label label {font-family: monospace;font-weight: bold;display: inline-block;line-height: 1.2em;}#sk-container-id-2 div.sk-label-container {text-align: center;}#sk-container-id-2 div.sk-container {/* jupyter's `normalize.less` sets `[hidden] { display: none; }` but bootstrap.min.css set `[hidden] { display: none !important; }` so we also need the `!important` here to be able to override the default hidden behavior on the sphinx rendered scikit-learn.org. See: https://github.com/scikit-learn/scikit-learn/issues/21755 */display: inline-block !important;position: relative;}#sk-container-id-2 div.sk-text-repr-fallback {display: none;}</style><div id=\"sk-container-id-2\" class=\"sk-top-container\"><div class=\"sk-text-repr-fallback\"><pre>GridSearchCV(cv=5, estimator=DecisionTreeClassifier(random_state=10), n_jobs=-1,\n",
       "             param_grid={&#x27;max_depth&#x27;: [10, 15, 8, 12],\n",
       "                         &#x27;min_samples_leaf&#x27;: [1, 3, 4, 5, 6, 7],\n",
       "                         &#x27;min_samples_split&#x27;: [5, 10, 20, 50, 100]})</pre><b>In a Jupyter environment, please rerun this cell to show the HTML representation or trust the notebook. <br />On GitHub, the HTML representation is unable to render, please try loading this page with nbviewer.org.</b></div><div class=\"sk-container\" hidden><div class=\"sk-item sk-dashed-wrapped\"><div class=\"sk-label-container\"><div class=\"sk-label sk-toggleable\"><input class=\"sk-toggleable__control sk-hidden--visually\" id=\"sk-estimator-id-4\" type=\"checkbox\" ><label for=\"sk-estimator-id-4\" class=\"sk-toggleable__label sk-toggleable__label-arrow\">GridSearchCV</label><div class=\"sk-toggleable__content\"><pre>GridSearchCV(cv=5, estimator=DecisionTreeClassifier(random_state=10), n_jobs=-1,\n",
       "             param_grid={&#x27;max_depth&#x27;: [10, 15, 8, 12],\n",
       "                         &#x27;min_samples_leaf&#x27;: [1, 3, 4, 5, 6, 7],\n",
       "                         &#x27;min_samples_split&#x27;: [5, 10, 20, 50, 100]})</pre></div></div></div><div class=\"sk-parallel\"><div class=\"sk-parallel-item\"><div class=\"sk-item\"><div class=\"sk-label-container\"><div class=\"sk-label sk-toggleable\"><input class=\"sk-toggleable__control sk-hidden--visually\" id=\"sk-estimator-id-5\" type=\"checkbox\" ><label for=\"sk-estimator-id-5\" class=\"sk-toggleable__label sk-toggleable__label-arrow\">estimator: DecisionTreeClassifier</label><div class=\"sk-toggleable__content\"><pre>DecisionTreeClassifier(random_state=10)</pre></div></div></div><div class=\"sk-serial\"><div class=\"sk-item\"><div class=\"sk-estimator sk-toggleable\"><input class=\"sk-toggleable__control sk-hidden--visually\" id=\"sk-estimator-id-6\" type=\"checkbox\" ><label for=\"sk-estimator-id-6\" class=\"sk-toggleable__label sk-toggleable__label-arrow\">DecisionTreeClassifier</label><div class=\"sk-toggleable__content\"><pre>DecisionTreeClassifier(random_state=10)</pre></div></div></div></div></div></div></div></div></div></div>"
      ],
      "text/plain": [
       "GridSearchCV(cv=5, estimator=DecisionTreeClassifier(random_state=10), n_jobs=-1,\n",
       "             param_grid={'max_depth': [10, 15, 8, 12],\n",
       "                         'min_samples_leaf': [1, 3, 4, 5, 6, 7],\n",
       "                         'min_samples_split': [5, 10, 20, 50, 100]})"
      ]
     },
     "execution_count": 163,
     "metadata": {},
     "output_type": "execute_result"
    }
   ],
   "source": [
    "clf_DT.fit(x_train_res,y_train_res)"
   ]
  },
  {
   "cell_type": "code",
   "execution_count": 164,
   "id": "58e3d202",
   "metadata": {},
   "outputs": [
    {
     "name": "stdout",
     "output_type": "stream",
     "text": [
      "best parameters found:\n",
      " {'max_depth': 8, 'min_samples_leaf': 1, 'min_samples_split': 20}\n"
     ]
    }
   ],
   "source": [
    "print('best parameters found:\\n',clf_DT.best_params_) "
   ]
  },
  {
   "cell_type": "code",
   "execution_count": 165,
   "id": "8f29d88b",
   "metadata": {},
   "outputs": [
    {
     "data": {
      "text/plain": [
       "0.4618397119533735"
      ]
     },
     "execution_count": 165,
     "metadata": {},
     "output_type": "execute_result"
    }
   ],
   "source": [
    "clf_DT.best_score_  #cv accuracy list avg score - cv score"
   ]
  },
  {
   "cell_type": "code",
   "execution_count": 166,
   "id": "c785d0d1",
   "metadata": {},
   "outputs": [],
   "source": [
    "y_pred_clf=clf_DT.predict(x_test)"
   ]
  },
  {
   "cell_type": "code",
   "execution_count": 167,
   "id": "837d9688",
   "metadata": {},
   "outputs": [
    {
     "name": "stdout",
     "output_type": "stream",
     "text": [
      "[[1978  326   38]\n",
      " [1460  226   23]\n",
      " [ 641   96   12]]\n",
      "Classification report: \n",
      "              precision    recall  f1-score   support\n",
      "\n",
      "           0       0.48      0.84      0.62      2342\n",
      "           1       0.35      0.13      0.19      1709\n",
      "           2       0.16      0.02      0.03       749\n",
      "\n",
      "    accuracy                           0.46      4800\n",
      "   macro avg       0.33      0.33      0.28      4800\n",
      "weighted avg       0.39      0.46      0.37      4800\n",
      "\n",
      "Accuracy of the model:  0.46166666666666667\n"
     ]
    }
   ],
   "source": [
    "from sklearn.metrics import confusion_matrix, accuracy_score, classification_report\n",
    " \n",
    "cfm=confusion_matrix(y_test,y_pred_clf)\n",
    "print(cfm)\n",
    " \n",
    "print(\"Classification report: \")\n",
    " \n",
    "print(classification_report(y_test,y_pred_clf))\n",
    " \n",
    "acc=accuracy_score(y_test, y_pred_clf)\n",
    "print(\"Accuracy of the model: \",acc)"
   ]
  },
  {
   "cell_type": "code",
   "execution_count": null,
   "id": "4c8c9985",
   "metadata": {},
   "outputs": [],
   "source": [
    "#Prunned DTree is performing better than base DTree in terms of predicting all classes accuracy is 46%"
   ]
  },
  {
   "cell_type": "code",
   "execution_count": 168,
   "id": "5a1849fe",
   "metadata": {},
   "outputs": [
    {
     "name": "stdout",
     "output_type": "stream",
     "text": [
      "[1 0 0 ... 0 0 1]\n"
     ]
    }
   ],
   "source": [
    "from sklearn.ensemble import RandomForestClassifier\n",
    "#create a model object\n",
    "model_RandomForest = RandomForestClassifier(random_state=10,n_estimators=100,bootstrap=True,n_jobs=-1)\n",
    "# train the model object\n",
    "model_RandomForest.fit(x_train_res,y_train_res) #trainig phase is building the DTree Trees 100\n",
    "\n",
    "y_pred_forest=model_RandomForest.predict(x_test)\n",
    "print(y_pred_forest)"
   ]
  },
  {
   "cell_type": "code",
   "execution_count": 169,
   "id": "4aa71465",
   "metadata": {},
   "outputs": [
    {
     "data": {
      "text/plain": [
       "1.0"
      ]
     },
     "execution_count": 169,
     "metadata": {},
     "output_type": "execute_result"
    }
   ],
   "source": [
    "model_RandomForest.score(x_train_res, y_train_res)"
   ]
  },
  {
   "cell_type": "code",
   "execution_count": 170,
   "id": "403bbf55",
   "metadata": {},
   "outputs": [
    {
     "name": "stdout",
     "output_type": "stream",
     "text": [
      "[[1894  439    9]\n",
      " [1370  329   10]\n",
      " [ 590  155    4]]\n",
      "Classification report: \n",
      "              precision    recall  f1-score   support\n",
      "\n",
      "           0       0.49      0.81      0.61      2342\n",
      "           1       0.36      0.19      0.25      1709\n",
      "           2       0.17      0.01      0.01       749\n",
      "\n",
      "    accuracy                           0.46      4800\n",
      "   macro avg       0.34      0.34      0.29      4800\n",
      "weighted avg       0.39      0.46      0.39      4800\n",
      "\n",
      "Accuracy of the model:  0.4639583333333333\n"
     ]
    }
   ],
   "source": [
    "from sklearn.metrics import confusion_matrix, accuracy_score, classification_report\n",
    " \n",
    "cfm=confusion_matrix(y_test,y_pred_forest)\n",
    "print(cfm)\n",
    " \n",
    "print(\"Classification report: \")\n",
    " \n",
    "print(classification_report(y_test,y_pred_forest))\n",
    " \n",
    "acc=accuracy_score(y_test, y_pred_forest)\n",
    "print(\"Accuracy of the model: \",acc)"
   ]
  },
  {
   "cell_type": "code",
   "execution_count": null,
   "id": "80f8dff0",
   "metadata": {},
   "outputs": [],
   "source": [
    "model_RF1= RandomForestClassifier(random_state=10, bootstrap=True) #fixed parameters should be passsed here\n",
    " \n",
    "#parameters for trial and error should be passed here\n",
    "parameter_space = {\n",
    "    'n_estimators':[100,300,500],       #np.arange(100, 1001,50),\n",
    "    'max_depth':[10,15,8,12],\n",
    "    'min_samples_leaf':[1,3,4,5,6,7]\n",
    "    }\n",
    "from sklearn.model_selection import GridSearchCV #RandomizedSearchCV\n",
    "clf_RF = GridSearchCV(model_RF1, parameter_space, n_jobs=-1, cv=5) #cv=5 means 5 fold cv"
   ]
  },
  {
   "cell_type": "code",
   "execution_count": null,
   "id": "7a3f7ac4",
   "metadata": {},
   "outputs": [],
   "source": [
    "clf_RF.fit(x_train_res,y_train_res)"
   ]
  },
  {
   "cell_type": "code",
   "execution_count": null,
   "id": "9e8e93b7",
   "metadata": {},
   "outputs": [],
   "source": [
    "print('best parameters found:\\n',clf_RF.best_params_) "
   ]
  },
  {
   "cell_type": "code",
   "execution_count": null,
   "id": "620f3324",
   "metadata": {},
   "outputs": [],
   "source": [
    "clf_RF.best_score_  #cv accuracy list avg score - cv score"
   ]
  },
  {
   "cell_type": "code",
   "execution_count": null,
   "id": "3734b549",
   "metadata": {},
   "outputs": [],
   "source": [
    "y_pred_clf_RF=clf_RF.predict(x_test)"
   ]
  },
  {
   "cell_type": "code",
   "execution_count": null,
   "id": "3f7d44e1",
   "metadata": {},
   "outputs": [],
   "source": [
    "from sklearn.metrics import confusion_matrix, accuracy_score, classification_report\n",
    " \n",
    "cfm=confusion_matrix(y_test,y_pred_clf_RF)\n",
    "print(cfm)\n",
    " \n",
    "print(\"Classification report: \")\n",
    " \n",
    "print(classification_report(y_test,y_pred_clf_RF))\n",
    " \n",
    "acc=accuracy_score(y_test, y_pred_clf_RF)\n",
    "print(\"Accuracy of the model: \",acc)"
   ]
  },
  {
   "cell_type": "code",
   "execution_count": 172,
   "id": "82c96e25",
   "metadata": {},
   "outputs": [
    {
     "data": {
      "text/plain": [
       "Accident_Severity\n",
       "0    5502\n",
       "1    5502\n",
       "2    5502\n",
       "Name: count, dtype: int64"
      ]
     },
     "execution_count": 172,
     "metadata": {},
     "output_type": "execute_result"
    }
   ],
   "source": [
    "y_train_res.value_counts()"
   ]
  },
  {
   "cell_type": "code",
   "execution_count": 173,
   "id": "ea46bfe3",
   "metadata": {},
   "outputs": [
    {
     "data": {
      "text/plain": [
       "Accident_Severity\n",
       "0    7844\n",
       "1    5658\n",
       "2    2498\n",
       "Name: count, dtype: int64"
      ]
     },
     "execution_count": 173,
     "metadata": {},
     "output_type": "execute_result"
    }
   ],
   "source": [
    "Y.value_counts()"
   ]
  },
  {
   "cell_type": "code",
   "execution_count": 174,
   "id": "6c906ef6",
   "metadata": {},
   "outputs": [],
   "source": [
    "from sklearn.ensemble import AdaBoostClassifier\n",
    "from sklearn.tree import DecisionTreeClassifier\n",
    "#create a model object\n",
    "model_AdaBoost = AdaBoostClassifier(estimator=DecisionTreeClassifier(random_state=10),n_estimators=100,random_state=10)\n",
    "# train the model object\n",
    "model_AdaBoost.fit(x_train_res,y_train_res) #trainig phase is building the DTree fit Tree\n",
    "\n",
    "y_pred_AdaBoost=model_AdaBoost.predict(x_test)"
   ]
  },
  {
   "cell_type": "code",
   "execution_count": 176,
   "id": "ccc36682",
   "metadata": {},
   "outputs": [
    {
     "name": "stdout",
     "output_type": "stream",
     "text": [
      "[[1062  851  429]\n",
      " [ 803  593  313]\n",
      " [ 332  273  144]]\n",
      "Classification report: \n",
      "              precision    recall  f1-score   support\n",
      "\n",
      "           0       0.48      0.45      0.47      2342\n",
      "           1       0.35      0.35      0.35      1709\n",
      "           2       0.16      0.19      0.18       749\n",
      "\n",
      "    accuracy                           0.37      4800\n",
      "   macro avg       0.33      0.33      0.33      4800\n",
      "weighted avg       0.38      0.37      0.38      4800\n",
      "\n",
      "Accuracy of the model:  0.3747916666666667\n"
     ]
    }
   ],
   "source": [
    "from sklearn.metrics import confusion_matrix, accuracy_score, classification_report\n",
    " \n",
    "cfm=confusion_matrix(y_test,y_pred_AdaBoost)\n",
    "print(cfm)\n",
    " \n",
    "print(\"Classification report: \")\n",
    " \n",
    "print(classification_report(y_test,y_pred_AdaBoost))\n",
    " \n",
    "acc=accuracy_score(y_test, y_pred_AdaBoost)\n",
    "print(\"Accuracy of the model: \",acc)"
   ]
  },
  {
   "cell_type": "code",
   "execution_count": null,
   "id": "664482ff",
   "metadata": {},
   "outputs": [],
   "source": []
  },
  {
   "cell_type": "code",
   "execution_count": 177,
   "id": "253d9284",
   "metadata": {},
   "outputs": [],
   "source": [
    "from xgboost import XGBClassifier\n",
    "from sklearn.tree import DecisionTreeClassifier\n",
    "#create a model object\n",
    "model_XGBoost = XGBClassifier(n_estimators=2000,random_state=10)\n",
    "# train the model object\n",
    "model_XGBoost.fit(x_train_res,y_train_res) #trainig phase is building the DTree fit Tree\n",
    "\n",
    "y_pred_XGBoost=model_XGBoost.predict(x_test)"
   ]
  },
  {
   "cell_type": "code",
   "execution_count": 178,
   "id": "126df58f",
   "metadata": {},
   "outputs": [
    {
     "name": "stdout",
     "output_type": "stream",
     "text": [
      "[[1476  762  104]\n",
      " [1091  533   85]\n",
      " [ 488  233   28]]\n",
      "Classification report: \n",
      "              precision    recall  f1-score   support\n",
      "\n",
      "           0       0.48      0.63      0.55      2342\n",
      "           1       0.35      0.31      0.33      1709\n",
      "           2       0.13      0.04      0.06       749\n",
      "\n",
      "    accuracy                           0.42      4800\n",
      "   macro avg       0.32      0.33      0.31      4800\n",
      "weighted avg       0.38      0.42      0.39      4800\n",
      "\n",
      "Accuracy of the model:  0.424375\n"
     ]
    }
   ],
   "source": [
    "from sklearn.metrics import confusion_matrix, accuracy_score, classification_report\n",
    " \n",
    "cfm=confusion_matrix(y_test,y_pred_XGBoost)\n",
    "print(cfm)\n",
    " \n",
    "print(\"Classification report: \")\n",
    " \n",
    "print(classification_report(y_test,y_pred_XGBoost))\n",
    " \n",
    "acc=accuracy_score(y_test, y_pred_XGBoost)\n",
    "print(\"Accuracy of the model: \",acc)"
   ]
  },
  {
   "cell_type": "code",
   "execution_count": 179,
   "id": "8fc74f63",
   "metadata": {},
   "outputs": [],
   "source": [
    "from sklearn.neighbors import KNeighborsClassifier\n",
    "#create a model object\n",
    "model_KNN = KNeighborsClassifier(n_neighbors=2,metric='euclidean')\n",
    "# train the model object\n",
    "model_KNN.fit(x_train_res,y_train_res)\n",
    "\n",
    "y_pred_KNN= model_KNN.predict(x_test)"
   ]
  },
  {
   "cell_type": "code",
   "execution_count": 180,
   "id": "68ab73d3",
   "metadata": {},
   "outputs": [
    {
     "name": "stdout",
     "output_type": "stream",
     "text": [
      "[[978 796 568]\n",
      " [733 535 441]\n",
      " [309 281 159]]\n",
      "Classification report: \n",
      "              precision    recall  f1-score   support\n",
      "\n",
      "           0       0.48      0.42      0.45      2342\n",
      "           1       0.33      0.31      0.32      1709\n",
      "           2       0.14      0.21      0.17       749\n",
      "\n",
      "    accuracy                           0.35      4800\n",
      "   macro avg       0.32      0.31      0.31      4800\n",
      "weighted avg       0.38      0.35      0.36      4800\n",
      "\n",
      "Accuracy of the model:  0.34833333333333333\n"
     ]
    }
   ],
   "source": [
    "from sklearn.metrics import confusion_matrix, accuracy_score, classification_report\n",
    " \n",
    "cfm=confusion_matrix(y_test,y_pred_KNN)\n",
    "print(cfm)\n",
    " \n",
    "print(\"Classification report: \")\n",
    " \n",
    "print(classification_report(y_test,y_pred_KNN))\n",
    " \n",
    "acc=accuracy_score(y_test, y_pred_KNN)\n",
    "print(\"Accuracy of the model: \",acc)"
   ]
  },
  {
   "cell_type": "code",
   "execution_count": 181,
   "id": "a14ab1fe",
   "metadata": {},
   "outputs": [],
   "source": [
    "from sklearn.svm import SVC\n",
    "# Initialize the SVM model with the RBF kernel\n",
    "svm_model = SVC(kernel='rbf', random_state=10)\n",
    "\n",
    "# Fit the model on the training data\n",
    "svm_model.fit(x_train_res, y_train_res)\n",
    "# Predict on validation data\n",
    "y_pred_svm = svm_model.predict(x_test)"
   ]
  },
  {
   "cell_type": "code",
   "execution_count": 182,
   "id": "1037a118",
   "metadata": {},
   "outputs": [
    {
     "name": "stdout",
     "output_type": "stream",
     "text": [
      "[[1414  683  245]\n",
      " [ 972  537  200]\n",
      " [ 443  228   78]]\n",
      "Classification report: \n",
      "              precision    recall  f1-score   support\n",
      "\n",
      "           0       0.50      0.60      0.55      2342\n",
      "           1       0.37      0.31      0.34      1709\n",
      "           2       0.15      0.10      0.12       749\n",
      "\n",
      "    accuracy                           0.42      4800\n",
      "   macro avg       0.34      0.34      0.34      4800\n",
      "weighted avg       0.40      0.42      0.41      4800\n",
      "\n",
      "Accuracy of the model:  0.42270833333333335\n"
     ]
    }
   ],
   "source": [
    "from sklearn.metrics import confusion_matrix, accuracy_score, classification_report\n",
    " \n",
    "cfm=confusion_matrix(y_test,y_pred_svm)\n",
    "print(cfm)\n",
    " \n",
    "print(\"Classification report: \")\n",
    " \n",
    "print(classification_report(y_test,y_pred_svm))\n",
    " \n",
    "acc=accuracy_score(y_test, y_pred_svm)\n",
    "print(\"Accuracy of the model: \",acc)"
   ]
  },
  {
   "cell_type": "code",
   "execution_count": null,
   "id": "6a9d5e85",
   "metadata": {},
   "outputs": [],
   "source": [
    "#DL - ANN"
   ]
  },
  {
   "cell_type": "code",
   "execution_count": null,
   "id": "ec22813c",
   "metadata": {},
   "outputs": [],
   "source": [
    "!pip install tensorflow"
   ]
  },
  {
   "cell_type": "code",
   "execution_count": null,
   "id": "ad34d0bc",
   "metadata": {},
   "outputs": [],
   "source": [
    "print(tensorflow.__version__)"
   ]
  },
  {
   "cell_type": "code",
   "execution_count": 183,
   "id": "5d996493",
   "metadata": {},
   "outputs": [],
   "source": [
    "import tensorflow\n",
    "from tensorflow.keras import Sequential\n",
    "from tensorflow.keras import callbacks\n",
    "from tensorflow.keras.layers import Dense"
   ]
  },
  {
   "cell_type": "code",
   "execution_count": 192,
   "id": "4e10a2e3",
   "metadata": {},
   "outputs": [],
   "source": [
    "# sequential model tyo initialise ANN model and dense module to build the layers\n",
    "model = Sequential()\n",
    "\n",
    "#Adding the input layer and the first hidden layer\n",
    "model.add(Dense(units=64,kernel_initializer='uniform',activation='relu',input_dim=38))\n",
    "#Adding the second hidden layer\n",
    "model.add(Dense(units=30,kernel_initializer='uniform',activation='relu'))\n",
    "#Adding the third hidden layer\n",
    "#model.add(Dense(units=200,kernel_initializer='uniform',activation='relu'))\n",
    "#model.add(Dense(units=400,kernel_initializer='uniform',activation='relu'))\n",
    "\n",
    "#Adding the output layer\n",
    "model.add(Dense(units=3,kernel_initializer='uniform',activation='softmax'))"
   ]
  },
  {
   "cell_type": "code",
   "execution_count": 193,
   "id": "b014d5b0",
   "metadata": {},
   "outputs": [],
   "source": [
    "# Compiling the ANN means applying SGD on the whole SNN\n",
    "# Compile the model\n",
    "model.compile(loss='categorical_crossentropy', optimizer='adam', metrics=['accuracy'])"
   ]
  },
  {
   "cell_type": "code",
   "execution_count": 194,
   "id": "63e47db5",
   "metadata": {},
   "outputs": [
    {
     "data": {
      "text/html": [
       "<pre style=\"white-space:pre;overflow-x:auto;line-height:normal;font-family:Menlo,'DejaVu Sans Mono',consolas,'Courier New',monospace\"><span style=\"font-weight: bold\">Model: \"sequential_6\"</span>\n",
       "</pre>\n"
      ],
      "text/plain": [
       "\u001b[1mModel: \"sequential_6\"\u001b[0m\n"
      ]
     },
     "metadata": {},
     "output_type": "display_data"
    },
    {
     "data": {
      "text/html": [
       "<pre style=\"white-space:pre;overflow-x:auto;line-height:normal;font-family:Menlo,'DejaVu Sans Mono',consolas,'Courier New',monospace\">┏━━━━━━━━━━━━━━━━━━━━━━━━━━━━━━━━━━━━━━┳━━━━━━━━━━━━━━━━━━━━━━━━━━━━━┳━━━━━━━━━━━━━━━━━┓\n",
       "┃<span style=\"font-weight: bold\"> Layer (type)                         </span>┃<span style=\"font-weight: bold\"> Output Shape                </span>┃<span style=\"font-weight: bold\">         Param # </span>┃\n",
       "┡━━━━━━━━━━━━━━━━━━━━━━━━━━━━━━━━━━━━━━╇━━━━━━━━━━━━━━━━━━━━━━━━━━━━━╇━━━━━━━━━━━━━━━━━┩\n",
       "│ dense_18 (<span style=\"color: #0087ff; text-decoration-color: #0087ff\">Dense</span>)                     │ (<span style=\"color: #00d7ff; text-decoration-color: #00d7ff\">None</span>, <span style=\"color: #00af00; text-decoration-color: #00af00\">64</span>)                  │           <span style=\"color: #00af00; text-decoration-color: #00af00\">2,496</span> │\n",
       "├──────────────────────────────────────┼─────────────────────────────┼─────────────────┤\n",
       "│ dense_19 (<span style=\"color: #0087ff; text-decoration-color: #0087ff\">Dense</span>)                     │ (<span style=\"color: #00d7ff; text-decoration-color: #00d7ff\">None</span>, <span style=\"color: #00af00; text-decoration-color: #00af00\">30</span>)                  │           <span style=\"color: #00af00; text-decoration-color: #00af00\">1,950</span> │\n",
       "├──────────────────────────────────────┼─────────────────────────────┼─────────────────┤\n",
       "│ dense_20 (<span style=\"color: #0087ff; text-decoration-color: #0087ff\">Dense</span>)                     │ (<span style=\"color: #00d7ff; text-decoration-color: #00d7ff\">None</span>, <span style=\"color: #00af00; text-decoration-color: #00af00\">3</span>)                   │              <span style=\"color: #00af00; text-decoration-color: #00af00\">93</span> │\n",
       "└──────────────────────────────────────┴─────────────────────────────┴─────────────────┘\n",
       "</pre>\n"
      ],
      "text/plain": [
       "┏━━━━━━━━━━━━━━━━━━━━━━━━━━━━━━━━━━━━━━┳━━━━━━━━━━━━━━━━━━━━━━━━━━━━━┳━━━━━━━━━━━━━━━━━┓\n",
       "┃\u001b[1m \u001b[0m\u001b[1mLayer (type)                        \u001b[0m\u001b[1m \u001b[0m┃\u001b[1m \u001b[0m\u001b[1mOutput Shape               \u001b[0m\u001b[1m \u001b[0m┃\u001b[1m \u001b[0m\u001b[1m        Param #\u001b[0m\u001b[1m \u001b[0m┃\n",
       "┡━━━━━━━━━━━━━━━━━━━━━━━━━━━━━━━━━━━━━━╇━━━━━━━━━━━━━━━━━━━━━━━━━━━━━╇━━━━━━━━━━━━━━━━━┩\n",
       "│ dense_18 (\u001b[38;5;33mDense\u001b[0m)                     │ (\u001b[38;5;45mNone\u001b[0m, \u001b[38;5;34m64\u001b[0m)                  │           \u001b[38;5;34m2,496\u001b[0m │\n",
       "├──────────────────────────────────────┼─────────────────────────────┼─────────────────┤\n",
       "│ dense_19 (\u001b[38;5;33mDense\u001b[0m)                     │ (\u001b[38;5;45mNone\u001b[0m, \u001b[38;5;34m30\u001b[0m)                  │           \u001b[38;5;34m1,950\u001b[0m │\n",
       "├──────────────────────────────────────┼─────────────────────────────┼─────────────────┤\n",
       "│ dense_20 (\u001b[38;5;33mDense\u001b[0m)                     │ (\u001b[38;5;45mNone\u001b[0m, \u001b[38;5;34m3\u001b[0m)                   │              \u001b[38;5;34m93\u001b[0m │\n",
       "└──────────────────────────────────────┴─────────────────────────────┴─────────────────┘\n"
      ]
     },
     "metadata": {},
     "output_type": "display_data"
    },
    {
     "data": {
      "text/html": [
       "<pre style=\"white-space:pre;overflow-x:auto;line-height:normal;font-family:Menlo,'DejaVu Sans Mono',consolas,'Courier New',monospace\"><span style=\"font-weight: bold\"> Total params: </span><span style=\"color: #00af00; text-decoration-color: #00af00\">4,539</span> (17.73 KB)\n",
       "</pre>\n"
      ],
      "text/plain": [
       "\u001b[1m Total params: \u001b[0m\u001b[38;5;34m4,539\u001b[0m (17.73 KB)\n"
      ]
     },
     "metadata": {},
     "output_type": "display_data"
    },
    {
     "data": {
      "text/html": [
       "<pre style=\"white-space:pre;overflow-x:auto;line-height:normal;font-family:Menlo,'DejaVu Sans Mono',consolas,'Courier New',monospace\"><span style=\"font-weight: bold\"> Trainable params: </span><span style=\"color: #00af00; text-decoration-color: #00af00\">4,539</span> (17.73 KB)\n",
       "</pre>\n"
      ],
      "text/plain": [
       "\u001b[1m Trainable params: \u001b[0m\u001b[38;5;34m4,539\u001b[0m (17.73 KB)\n"
      ]
     },
     "metadata": {},
     "output_type": "display_data"
    },
    {
     "data": {
      "text/html": [
       "<pre style=\"white-space:pre;overflow-x:auto;line-height:normal;font-family:Menlo,'DejaVu Sans Mono',consolas,'Courier New',monospace\"><span style=\"font-weight: bold\"> Non-trainable params: </span><span style=\"color: #00af00; text-decoration-color: #00af00\">0</span> (0.00 B)\n",
       "</pre>\n"
      ],
      "text/plain": [
       "\u001b[1m Non-trainable params: \u001b[0m\u001b[38;5;34m0\u001b[0m (0.00 B)\n"
      ]
     },
     "metadata": {},
     "output_type": "display_data"
    }
   ],
   "source": [
    "model.summary()"
   ]
  },
  {
   "cell_type": "code",
   "execution_count": null,
   "id": "e317b264",
   "metadata": {},
   "outputs": [],
   "source": [
    "# Fitting the ANN to\n",
    "#H is history parameter, history of acc and loss is stored here"
   ]
  },
  {
   "cell_type": "code",
   "execution_count": 187,
   "id": "2db576e3",
   "metadata": {},
   "outputs": [],
   "source": [
    "from keras.utils import to_categorical"
   ]
  },
  {
   "cell_type": "code",
   "execution_count": 188,
   "id": "6cf12651",
   "metadata": {},
   "outputs": [],
   "source": [
    "# Assuming you have 3 classes (0, 1, 2)\n",
    "y_train_res_onehot = to_categorical(y_train_res, num_classes=3)\n",
    "y_test_onehot = to_categorical(y_test, num_classes=3)  # Apply this to validation data as well if needed"
   ]
  },
  {
   "cell_type": "code",
   "execution_count": 189,
   "id": "d7f04e40",
   "metadata": {},
   "outputs": [
    {
     "data": {
      "text/plain": [
       "array([[1., 0., 0.],\n",
       "       [0., 1., 0.],\n",
       "       [1., 0., 0.],\n",
       "       ...,\n",
       "       [0., 0., 1.],\n",
       "       [0., 0., 1.],\n",
       "       [0., 0., 1.]])"
      ]
     },
     "execution_count": 189,
     "metadata": {},
     "output_type": "execute_result"
    }
   ],
   "source": [
    "y_train_res_onehot"
   ]
  },
  {
   "cell_type": "code",
   "execution_count": 190,
   "id": "351ef327",
   "metadata": {},
   "outputs": [
    {
     "data": {
      "text/plain": [
       "array([[1., 0., 0.],\n",
       "       [1., 0., 0.],\n",
       "       [1., 0., 0.],\n",
       "       ...,\n",
       "       [0., 0., 1.],\n",
       "       [1., 0., 0.],\n",
       "       [0., 1., 0.]])"
      ]
     },
     "execution_count": 190,
     "metadata": {},
     "output_type": "execute_result"
    }
   ],
   "source": [
    "y_test_onehot"
   ]
  },
  {
   "cell_type": "code",
   "execution_count": 195,
   "id": "babbb1c0",
   "metadata": {
    "scrolled": false
   },
   "outputs": [
    {
     "name": "stdout",
     "output_type": "stream",
     "text": [
      "Epoch 1/120\n",
      "\u001b[1m207/207\u001b[0m \u001b[32m━━━━━━━━━━━━━━━━━━━━\u001b[0m\u001b[37m\u001b[0m \u001b[1m2s\u001b[0m 3ms/step - accuracy: 0.4170 - loss: 1.0529 - val_accuracy: 0.0000e+00 - val_loss: 1.6761\n",
      "Epoch 2/120\n",
      "\u001b[1m207/207\u001b[0m \u001b[32m━━━━━━━━━━━━━━━━━━━━\u001b[0m\u001b[37m\u001b[0m \u001b[1m0s\u001b[0m 2ms/step - accuracy: 0.4429 - loss: 1.0203 - val_accuracy: 0.0000e+00 - val_loss: 1.6926\n",
      "Epoch 3/120\n",
      "\u001b[1m207/207\u001b[0m \u001b[32m━━━━━━━━━━━━━━━━━━━━\u001b[0m\u001b[37m\u001b[0m \u001b[1m0s\u001b[0m 2ms/step - accuracy: 0.4403 - loss: 1.0184 - val_accuracy: 0.0000e+00 - val_loss: 1.7354\n",
      "Epoch 4/120\n",
      "\u001b[1m207/207\u001b[0m \u001b[32m━━━━━━━━━━━━━━━━━━━━\u001b[0m\u001b[37m\u001b[0m \u001b[1m0s\u001b[0m 2ms/step - accuracy: 0.4618 - loss: 1.0116 - val_accuracy: 0.0000e+00 - val_loss: 1.6101\n",
      "Epoch 5/120\n",
      "\u001b[1m207/207\u001b[0m \u001b[32m━━━━━━━━━━━━━━━━━━━━\u001b[0m\u001b[37m\u001b[0m \u001b[1m0s\u001b[0m 2ms/step - accuracy: 0.4724 - loss: 1.0047 - val_accuracy: 0.0000e+00 - val_loss: 1.5856\n",
      "Epoch 6/120\n",
      "\u001b[1m207/207\u001b[0m \u001b[32m━━━━━━━━━━━━━━━━━━━━\u001b[0m\u001b[37m\u001b[0m \u001b[1m0s\u001b[0m 2ms/step - accuracy: 0.4941 - loss: 0.9883 - val_accuracy: 0.0000e+00 - val_loss: 1.5679\n",
      "Epoch 7/120\n",
      "\u001b[1m207/207\u001b[0m \u001b[32m━━━━━━━━━━━━━━━━━━━━\u001b[0m\u001b[37m\u001b[0m \u001b[1m0s\u001b[0m 1ms/step - accuracy: 0.5050 - loss: 0.9854 - val_accuracy: 6.0569e-04 - val_loss: 1.5075\n",
      "Epoch 8/120\n",
      "\u001b[1m207/207\u001b[0m \u001b[32m━━━━━━━━━━━━━━━━━━━━\u001b[0m\u001b[37m\u001b[0m \u001b[1m0s\u001b[0m 2ms/step - accuracy: 0.5182 - loss: 0.9735 - val_accuracy: 0.0030 - val_loss: 1.5790\n",
      "Epoch 9/120\n",
      "\u001b[1m207/207\u001b[0m \u001b[32m━━━━━━━━━━━━━━━━━━━━\u001b[0m\u001b[37m\u001b[0m \u001b[1m0s\u001b[0m 2ms/step - accuracy: 0.5272 - loss: 0.9678 - val_accuracy: 0.0127 - val_loss: 1.5959\n",
      "Epoch 10/120\n",
      "\u001b[1m207/207\u001b[0m \u001b[32m━━━━━━━━━━━━━━━━━━━━\u001b[0m\u001b[37m\u001b[0m \u001b[1m0s\u001b[0m 2ms/step - accuracy: 0.5335 - loss: 0.9574 - val_accuracy: 0.0327 - val_loss: 1.4970\n",
      "Epoch 11/120\n",
      "\u001b[1m207/207\u001b[0m \u001b[32m━━━━━━━━━━━━━━━━━━━━\u001b[0m\u001b[37m\u001b[0m \u001b[1m0s\u001b[0m 2ms/step - accuracy: 0.5432 - loss: 0.9411 - val_accuracy: 0.0412 - val_loss: 1.5186\n",
      "Epoch 12/120\n",
      "\u001b[1m207/207\u001b[0m \u001b[32m━━━━━━━━━━━━━━━━━━━━\u001b[0m\u001b[37m\u001b[0m \u001b[1m0s\u001b[0m 2ms/step - accuracy: 0.5545 - loss: 0.9389 - val_accuracy: 0.1299 - val_loss: 1.3792\n",
      "Epoch 13/120\n",
      "\u001b[1m207/207\u001b[0m \u001b[32m━━━━━━━━━━━━━━━━━━━━\u001b[0m\u001b[37m\u001b[0m \u001b[1m0s\u001b[0m 1ms/step - accuracy: 0.5635 - loss: 0.9306 - val_accuracy: 0.1057 - val_loss: 1.4700\n",
      "Epoch 14/120\n",
      "\u001b[1m207/207\u001b[0m \u001b[32m━━━━━━━━━━━━━━━━━━━━\u001b[0m\u001b[37m\u001b[0m \u001b[1m0s\u001b[0m 2ms/step - accuracy: 0.5626 - loss: 0.9274 - val_accuracy: 0.1393 - val_loss: 1.4136\n",
      "Epoch 15/120\n",
      "\u001b[1m207/207\u001b[0m \u001b[32m━━━━━━━━━━━━━━━━━━━━\u001b[0m\u001b[37m\u001b[0m \u001b[1m0s\u001b[0m 2ms/step - accuracy: 0.5681 - loss: 0.9240 - val_accuracy: 0.1944 - val_loss: 1.3440\n",
      "Epoch 16/120\n",
      "\u001b[1m207/207\u001b[0m \u001b[32m━━━━━━━━━━━━━━━━━━━━\u001b[0m\u001b[37m\u001b[0m \u001b[1m0s\u001b[0m 2ms/step - accuracy: 0.5807 - loss: 0.9070 - val_accuracy: 0.2280 - val_loss: 1.3270\n",
      "Epoch 17/120\n",
      "\u001b[1m207/207\u001b[0m \u001b[32m━━━━━━━━━━━━━━━━━━━━\u001b[0m\u001b[37m\u001b[0m \u001b[1m0s\u001b[0m 2ms/step - accuracy: 0.5767 - loss: 0.9092 - val_accuracy: 0.1987 - val_loss: 1.3787\n",
      "Epoch 18/120\n",
      "\u001b[1m207/207\u001b[0m \u001b[32m━━━━━━━━━━━━━━━━━━━━\u001b[0m\u001b[37m\u001b[0m \u001b[1m0s\u001b[0m 2ms/step - accuracy: 0.5822 - loss: 0.9000 - val_accuracy: 0.2417 - val_loss: 1.3208\n",
      "Epoch 19/120\n",
      "\u001b[1m207/207\u001b[0m \u001b[32m━━━━━━━━━━━━━━━━━━━━\u001b[0m\u001b[37m\u001b[0m \u001b[1m0s\u001b[0m 2ms/step - accuracy: 0.5825 - loss: 0.9018 - val_accuracy: 0.2265 - val_loss: 1.3458\n",
      "Epoch 20/120\n",
      "\u001b[1m207/207\u001b[0m \u001b[32m━━━━━━━━━━━━━━━━━━━━\u001b[0m\u001b[37m\u001b[0m \u001b[1m0s\u001b[0m 2ms/step - accuracy: 0.5860 - loss: 0.8902 - val_accuracy: 0.2592 - val_loss: 1.3122\n",
      "Epoch 21/120\n",
      "\u001b[1m207/207\u001b[0m \u001b[32m━━━━━━━━━━━━━━━━━━━━\u001b[0m\u001b[37m\u001b[0m \u001b[1m0s\u001b[0m 2ms/step - accuracy: 0.5877 - loss: 0.8923 - val_accuracy: 0.2683 - val_loss: 1.3093\n",
      "Epoch 22/120\n",
      "\u001b[1m207/207\u001b[0m \u001b[32m━━━━━━━━━━━━━━━━━━━━\u001b[0m\u001b[37m\u001b[0m \u001b[1m0s\u001b[0m 2ms/step - accuracy: 0.5901 - loss: 0.8823 - val_accuracy: 0.3183 - val_loss: 1.2357\n",
      "Epoch 23/120\n",
      "\u001b[1m207/207\u001b[0m \u001b[32m━━━━━━━━━━━━━━━━━━━━\u001b[0m\u001b[37m\u001b[0m \u001b[1m0s\u001b[0m 2ms/step - accuracy: 0.5915 - loss: 0.8843 - val_accuracy: 0.2589 - val_loss: 1.3572\n",
      "Epoch 24/120\n",
      "\u001b[1m207/207\u001b[0m \u001b[32m━━━━━━━━━━━━━━━━━━━━\u001b[0m\u001b[37m\u001b[0m \u001b[1m0s\u001b[0m 2ms/step - accuracy: 0.5953 - loss: 0.8748 - val_accuracy: 0.2620 - val_loss: 1.3401\n",
      "Epoch 25/120\n",
      "\u001b[1m207/207\u001b[0m \u001b[32m━━━━━━━━━━━━━━━━━━━━\u001b[0m\u001b[37m\u001b[0m \u001b[1m0s\u001b[0m 2ms/step - accuracy: 0.6084 - loss: 0.8684 - val_accuracy: 0.3440 - val_loss: 1.2120\n",
      "Epoch 26/120\n",
      "\u001b[1m207/207\u001b[0m \u001b[32m━━━━━━━━━━━━━━━━━━━━\u001b[0m\u001b[37m\u001b[0m \u001b[1m0s\u001b[0m 2ms/step - accuracy: 0.6002 - loss: 0.8695 - val_accuracy: 0.3225 - val_loss: 1.2543\n",
      "Epoch 27/120\n",
      "\u001b[1m207/207\u001b[0m \u001b[32m━━━━━━━━━━━━━━━━━━━━\u001b[0m\u001b[37m\u001b[0m \u001b[1m0s\u001b[0m 2ms/step - accuracy: 0.6079 - loss: 0.8621 - val_accuracy: 0.3459 - val_loss: 1.2271\n",
      "Epoch 28/120\n",
      "\u001b[1m207/207\u001b[0m \u001b[32m━━━━━━━━━━━━━━━━━━━━\u001b[0m\u001b[37m\u001b[0m \u001b[1m0s\u001b[0m 1ms/step - accuracy: 0.6154 - loss: 0.8608 - val_accuracy: 0.2810 - val_loss: 1.3338\n",
      "Epoch 29/120\n",
      "\u001b[1m207/207\u001b[0m \u001b[32m━━━━━━━━━━━━━━━━━━━━\u001b[0m\u001b[37m\u001b[0m \u001b[1m0s\u001b[0m 2ms/step - accuracy: 0.6085 - loss: 0.8603 - val_accuracy: 0.2895 - val_loss: 1.3269\n",
      "Epoch 30/120\n",
      "\u001b[1m207/207\u001b[0m \u001b[32m━━━━━━━━━━━━━━━━━━━━\u001b[0m\u001b[37m\u001b[0m \u001b[1m0s\u001b[0m 2ms/step - accuracy: 0.6153 - loss: 0.8452 - val_accuracy: 0.2913 - val_loss: 1.3387\n",
      "Epoch 31/120\n",
      "\u001b[1m207/207\u001b[0m \u001b[32m━━━━━━━━━━━━━━━━━━━━\u001b[0m\u001b[37m\u001b[0m \u001b[1m0s\u001b[0m 2ms/step - accuracy: 0.6130 - loss: 0.8524 - val_accuracy: 0.3359 - val_loss: 1.2445\n",
      "Epoch 32/120\n",
      "\u001b[1m207/207\u001b[0m \u001b[32m━━━━━━━━━━━━━━━━━━━━\u001b[0m\u001b[37m\u001b[0m \u001b[1m0s\u001b[0m 2ms/step - accuracy: 0.6198 - loss: 0.8423 - val_accuracy: 0.3346 - val_loss: 1.2516\n",
      "Epoch 33/120\n",
      "\u001b[1m207/207\u001b[0m \u001b[32m━━━━━━━━━━━━━━━━━━━━\u001b[0m\u001b[37m\u001b[0m \u001b[1m0s\u001b[0m 2ms/step - accuracy: 0.6233 - loss: 0.8427 - val_accuracy: 0.3104 - val_loss: 1.2852\n",
      "Epoch 34/120\n",
      "\u001b[1m207/207\u001b[0m \u001b[32m━━━━━━━━━━━━━━━━━━━━\u001b[0m\u001b[37m\u001b[0m \u001b[1m0s\u001b[0m 2ms/step - accuracy: 0.6331 - loss: 0.8277 - val_accuracy: 0.3195 - val_loss: 1.2900\n",
      "Epoch 35/120\n",
      "\u001b[1m207/207\u001b[0m \u001b[32m━━━━━━━━━━━━━━━━━━━━\u001b[0m\u001b[37m\u001b[0m \u001b[1m0s\u001b[0m 2ms/step - accuracy: 0.6320 - loss: 0.8298 - val_accuracy: 0.3816 - val_loss: 1.1908\n",
      "Epoch 36/120\n",
      "\u001b[1m207/207\u001b[0m \u001b[32m━━━━━━━━━━━━━━━━━━━━\u001b[0m\u001b[37m\u001b[0m \u001b[1m0s\u001b[0m 2ms/step - accuracy: 0.6309 - loss: 0.8233 - val_accuracy: 0.3346 - val_loss: 1.2499\n",
      "Epoch 37/120\n",
      "\u001b[1m207/207\u001b[0m \u001b[32m━━━━━━━━━━━━━━━━━━━━\u001b[0m\u001b[37m\u001b[0m \u001b[1m0s\u001b[0m 2ms/step - accuracy: 0.6366 - loss: 0.8147 - val_accuracy: 0.3468 - val_loss: 1.2280\n",
      "Epoch 38/120\n",
      "\u001b[1m207/207\u001b[0m \u001b[32m━━━━━━━━━━━━━━━━━━━━\u001b[0m\u001b[37m\u001b[0m \u001b[1m0s\u001b[0m 1ms/step - accuracy: 0.6328 - loss: 0.8233 - val_accuracy: 0.3810 - val_loss: 1.1767\n",
      "Epoch 39/120\n",
      "\u001b[1m207/207\u001b[0m \u001b[32m━━━━━━━━━━━━━━━━━━━━\u001b[0m\u001b[37m\u001b[0m \u001b[1m0s\u001b[0m 1ms/step - accuracy: 0.6436 - loss: 0.8123 - val_accuracy: 0.3655 - val_loss: 1.2249\n",
      "Epoch 40/120\n",
      "\u001b[1m207/207\u001b[0m \u001b[32m━━━━━━━━━━━━━━━━━━━━\u001b[0m\u001b[37m\u001b[0m \u001b[1m0s\u001b[0m 1ms/step - accuracy: 0.6338 - loss: 0.8277 - val_accuracy: 0.3825 - val_loss: 1.1906\n",
      "Epoch 41/120\n",
      "\u001b[1m207/207\u001b[0m \u001b[32m━━━━━━━━━━━━━━━━━━━━\u001b[0m\u001b[37m\u001b[0m \u001b[1m0s\u001b[0m 1ms/step - accuracy: 0.6425 - loss: 0.8084 - val_accuracy: 0.3995 - val_loss: 1.1608\n",
      "Epoch 42/120\n",
      "\u001b[1m207/207\u001b[0m \u001b[32m━━━━━━━━━━━━━━━━━━━━\u001b[0m\u001b[37m\u001b[0m \u001b[1m0s\u001b[0m 2ms/step - accuracy: 0.6450 - loss: 0.8046 - val_accuracy: 0.4210 - val_loss: 1.1156\n",
      "Epoch 43/120\n",
      "\u001b[1m207/207\u001b[0m \u001b[32m━━━━━━━━━━━━━━━━━━━━\u001b[0m\u001b[37m\u001b[0m \u001b[1m0s\u001b[0m 2ms/step - accuracy: 0.6407 - loss: 0.8106 - val_accuracy: 0.3852 - val_loss: 1.1797\n",
      "Epoch 44/120\n",
      "\u001b[1m207/207\u001b[0m \u001b[32m━━━━━━━━━━━━━━━━━━━━\u001b[0m\u001b[37m\u001b[0m \u001b[1m0s\u001b[0m 2ms/step - accuracy: 0.6434 - loss: 0.8002 - val_accuracy: 0.4237 - val_loss: 1.1352\n",
      "Epoch 45/120\n",
      "\u001b[1m207/207\u001b[0m \u001b[32m━━━━━━━━━━━━━━━━━━━━\u001b[0m\u001b[37m\u001b[0m \u001b[1m0s\u001b[0m 2ms/step - accuracy: 0.6431 - loss: 0.8047 - val_accuracy: 0.3147 - val_loss: 1.3328\n",
      "Epoch 46/120\n",
      "\u001b[1m207/207\u001b[0m \u001b[32m━━━━━━━━━━━━━━━━━━━━\u001b[0m\u001b[37m\u001b[0m \u001b[1m0s\u001b[0m 2ms/step - accuracy: 0.6462 - loss: 0.7979 - val_accuracy: 0.4152 - val_loss: 1.1491\n",
      "Epoch 47/120\n",
      "\u001b[1m207/207\u001b[0m \u001b[32m━━━━━━━━━━━━━━━━━━━━\u001b[0m\u001b[37m\u001b[0m \u001b[1m0s\u001b[0m 2ms/step - accuracy: 0.6553 - loss: 0.7974 - val_accuracy: 0.3549 - val_loss: 1.2434\n",
      "Epoch 48/120\n",
      "\u001b[1m207/207\u001b[0m \u001b[32m━━━━━━━━━━━━━━━━━━━━\u001b[0m\u001b[37m\u001b[0m \u001b[1m0s\u001b[0m 2ms/step - accuracy: 0.6498 - loss: 0.7999 - val_accuracy: 0.4064 - val_loss: 1.1667\n",
      "Epoch 49/120\n",
      "\u001b[1m207/207\u001b[0m \u001b[32m━━━━━━━━━━━━━━━━━━━━\u001b[0m\u001b[37m\u001b[0m \u001b[1m0s\u001b[0m 2ms/step - accuracy: 0.6454 - loss: 0.7939 - val_accuracy: 0.3571 - val_loss: 1.2545\n",
      "Epoch 50/120\n",
      "\u001b[1m207/207\u001b[0m \u001b[32m━━━━━━━━━━━━━━━━━━━━\u001b[0m\u001b[37m\u001b[0m \u001b[1m0s\u001b[0m 2ms/step - accuracy: 0.6503 - loss: 0.7907 - val_accuracy: 0.3919 - val_loss: 1.1865\n"
     ]
    },
    {
     "name": "stdout",
     "output_type": "stream",
     "text": [
      "Epoch 51/120\n",
      "\u001b[1m207/207\u001b[0m \u001b[32m━━━━━━━━━━━━━━━━━━━━\u001b[0m\u001b[37m\u001b[0m \u001b[1m0s\u001b[0m 2ms/step - accuracy: 0.6480 - loss: 0.7885 - val_accuracy: 0.3677 - val_loss: 1.2344\n",
      "Epoch 52/120\n",
      "\u001b[1m207/207\u001b[0m \u001b[32m━━━━━━━━━━━━━━━━━━━━\u001b[0m\u001b[37m\u001b[0m \u001b[1m0s\u001b[0m 2ms/step - accuracy: 0.6596 - loss: 0.7836 - val_accuracy: 0.3680 - val_loss: 1.2423\n",
      "Epoch 53/120\n",
      "\u001b[1m207/207\u001b[0m \u001b[32m━━━━━━━━━━━━━━━━━━━━\u001b[0m\u001b[37m\u001b[0m \u001b[1m0s\u001b[0m 2ms/step - accuracy: 0.6583 - loss: 0.7815 - val_accuracy: 0.4094 - val_loss: 1.1745\n",
      "Epoch 54/120\n",
      "\u001b[1m207/207\u001b[0m \u001b[32m━━━━━━━━━━━━━━━━━━━━\u001b[0m\u001b[37m\u001b[0m \u001b[1m0s\u001b[0m 2ms/step - accuracy: 0.6604 - loss: 0.7870 - val_accuracy: 0.4043 - val_loss: 1.1753\n",
      "Epoch 55/120\n",
      "\u001b[1m207/207\u001b[0m \u001b[32m━━━━━━━━━━━━━━━━━━━━\u001b[0m\u001b[37m\u001b[0m \u001b[1m0s\u001b[0m 2ms/step - accuracy: 0.6560 - loss: 0.7859 - val_accuracy: 0.4213 - val_loss: 1.1484\n",
      "Epoch 56/120\n",
      "\u001b[1m207/207\u001b[0m \u001b[32m━━━━━━━━━━━━━━━━━━━━\u001b[0m\u001b[37m\u001b[0m \u001b[1m0s\u001b[0m 2ms/step - accuracy: 0.6673 - loss: 0.7740 - val_accuracy: 0.3895 - val_loss: 1.2095\n",
      "Epoch 57/120\n",
      "\u001b[1m207/207\u001b[0m \u001b[32m━━━━━━━━━━━━━━━━━━━━\u001b[0m\u001b[37m\u001b[0m \u001b[1m0s\u001b[0m 2ms/step - accuracy: 0.6646 - loss: 0.7776 - val_accuracy: 0.4185 - val_loss: 1.1522\n",
      "Epoch 58/120\n",
      "\u001b[1m207/207\u001b[0m \u001b[32m━━━━━━━━━━━━━━━━━━━━\u001b[0m\u001b[37m\u001b[0m \u001b[1m0s\u001b[0m 2ms/step - accuracy: 0.6649 - loss: 0.7779 - val_accuracy: 0.3580 - val_loss: 1.2512\n",
      "Epoch 59/120\n",
      "\u001b[1m207/207\u001b[0m \u001b[32m━━━━━━━━━━━━━━━━━━━━\u001b[0m\u001b[37m\u001b[0m \u001b[1m0s\u001b[0m 2ms/step - accuracy: 0.6578 - loss: 0.7758 - val_accuracy: 0.4104 - val_loss: 1.1689\n",
      "Epoch 60/120\n",
      "\u001b[1m207/207\u001b[0m \u001b[32m━━━━━━━━━━━━━━━━━━━━\u001b[0m\u001b[37m\u001b[0m \u001b[1m0s\u001b[0m 2ms/step - accuracy: 0.6674 - loss: 0.7703 - val_accuracy: 0.4909 - val_loss: 1.0377\n",
      "Epoch 61/120\n",
      "\u001b[1m207/207\u001b[0m \u001b[32m━━━━━━━━━━━━━━━━━━━━\u001b[0m\u001b[37m\u001b[0m \u001b[1m0s\u001b[0m 2ms/step - accuracy: 0.6611 - loss: 0.7714 - val_accuracy: 0.4016 - val_loss: 1.1829\n",
      "Epoch 62/120\n",
      "\u001b[1m207/207\u001b[0m \u001b[32m━━━━━━━━━━━━━━━━━━━━\u001b[0m\u001b[37m\u001b[0m \u001b[1m0s\u001b[0m 2ms/step - accuracy: 0.6666 - loss: 0.7637 - val_accuracy: 0.4231 - val_loss: 1.1348\n",
      "Epoch 63/120\n",
      "\u001b[1m207/207\u001b[0m \u001b[32m━━━━━━━━━━━━━━━━━━━━\u001b[0m\u001b[37m\u001b[0m \u001b[1m0s\u001b[0m 2ms/step - accuracy: 0.6624 - loss: 0.7677 - val_accuracy: 0.4222 - val_loss: 1.1598\n",
      "Epoch 64/120\n",
      "\u001b[1m207/207\u001b[0m \u001b[32m━━━━━━━━━━━━━━━━━━━━\u001b[0m\u001b[37m\u001b[0m \u001b[1m0s\u001b[0m 2ms/step - accuracy: 0.6701 - loss: 0.7592 - val_accuracy: 0.4037 - val_loss: 1.2016\n",
      "Epoch 65/120\n",
      "\u001b[1m207/207\u001b[0m \u001b[32m━━━━━━━━━━━━━━━━━━━━\u001b[0m\u001b[37m\u001b[0m \u001b[1m0s\u001b[0m 2ms/step - accuracy: 0.6693 - loss: 0.7567 - val_accuracy: 0.4252 - val_loss: 1.1571\n",
      "Epoch 66/120\n",
      "\u001b[1m207/207\u001b[0m \u001b[32m━━━━━━━━━━━━━━━━━━━━\u001b[0m\u001b[37m\u001b[0m \u001b[1m0s\u001b[0m 2ms/step - accuracy: 0.6708 - loss: 0.7536 - val_accuracy: 0.4449 - val_loss: 1.1302\n",
      "Epoch 67/120\n",
      "\u001b[1m207/207\u001b[0m \u001b[32m━━━━━━━━━━━━━━━━━━━━\u001b[0m\u001b[37m\u001b[0m \u001b[1m0s\u001b[0m 2ms/step - accuracy: 0.6704 - loss: 0.7534 - val_accuracy: 0.4343 - val_loss: 1.1338\n",
      "Epoch 68/120\n",
      "\u001b[1m207/207\u001b[0m \u001b[32m━━━━━━━━━━━━━━━━━━━━\u001b[0m\u001b[37m\u001b[0m \u001b[1m0s\u001b[0m 2ms/step - accuracy: 0.6661 - loss: 0.7605 - val_accuracy: 0.4076 - val_loss: 1.1862\n",
      "Epoch 69/120\n",
      "\u001b[1m207/207\u001b[0m \u001b[32m━━━━━━━━━━━━━━━━━━━━\u001b[0m\u001b[37m\u001b[0m \u001b[1m0s\u001b[0m 2ms/step - accuracy: 0.6666 - loss: 0.7575 - val_accuracy: 0.4464 - val_loss: 1.1151\n",
      "Epoch 70/120\n",
      "\u001b[1m207/207\u001b[0m \u001b[32m━━━━━━━━━━━━━━━━━━━━\u001b[0m\u001b[37m\u001b[0m \u001b[1m0s\u001b[0m 2ms/step - accuracy: 0.6674 - loss: 0.7589 - val_accuracy: 0.4703 - val_loss: 1.0801\n",
      "Epoch 71/120\n",
      "\u001b[1m207/207\u001b[0m \u001b[32m━━━━━━━━━━━━━━━━━━━━\u001b[0m\u001b[37m\u001b[0m \u001b[1m0s\u001b[0m 2ms/step - accuracy: 0.6710 - loss: 0.7561 - val_accuracy: 0.4104 - val_loss: 1.1825\n",
      "Epoch 72/120\n",
      "\u001b[1m207/207\u001b[0m \u001b[32m━━━━━━━━━━━━━━━━━━━━\u001b[0m\u001b[37m\u001b[0m \u001b[1m0s\u001b[0m 2ms/step - accuracy: 0.6806 - loss: 0.7433 - val_accuracy: 0.3940 - val_loss: 1.2165\n",
      "Epoch 73/120\n",
      "\u001b[1m207/207\u001b[0m \u001b[32m━━━━━━━━━━━━━━━━━━━━\u001b[0m\u001b[37m\u001b[0m \u001b[1m0s\u001b[0m 2ms/step - accuracy: 0.6806 - loss: 0.7386 - val_accuracy: 0.4210 - val_loss: 1.1681\n",
      "Epoch 74/120\n",
      "\u001b[1m207/207\u001b[0m \u001b[32m━━━━━━━━━━━━━━━━━━━━\u001b[0m\u001b[37m\u001b[0m \u001b[1m0s\u001b[0m 2ms/step - accuracy: 0.6831 - loss: 0.7451 - val_accuracy: 0.4664 - val_loss: 1.0696\n",
      "Epoch 75/120\n",
      "\u001b[1m207/207\u001b[0m \u001b[32m━━━━━━━━━━━━━━━━━━━━\u001b[0m\u001b[37m\u001b[0m \u001b[1m0s\u001b[0m 2ms/step - accuracy: 0.6824 - loss: 0.7407 - val_accuracy: 0.4228 - val_loss: 1.1543\n",
      "Epoch 76/120\n",
      "\u001b[1m207/207\u001b[0m \u001b[32m━━━━━━━━━━━━━━━━━━━━\u001b[0m\u001b[37m\u001b[0m \u001b[1m0s\u001b[0m 2ms/step - accuracy: 0.6806 - loss: 0.7439 - val_accuracy: 0.3837 - val_loss: 1.2477\n",
      "Epoch 77/120\n",
      "\u001b[1m207/207\u001b[0m \u001b[32m━━━━━━━━━━━━━━━━━━━━\u001b[0m\u001b[37m\u001b[0m \u001b[1m0s\u001b[0m 2ms/step - accuracy: 0.6847 - loss: 0.7382 - val_accuracy: 0.4334 - val_loss: 1.1271\n",
      "Epoch 78/120\n",
      "\u001b[1m207/207\u001b[0m \u001b[32m━━━━━━━━━━━━━━━━━━━━\u001b[0m\u001b[37m\u001b[0m \u001b[1m0s\u001b[0m 2ms/step - accuracy: 0.6909 - loss: 0.7318 - val_accuracy: 0.4440 - val_loss: 1.1360\n",
      "Epoch 79/120\n",
      "\u001b[1m207/207\u001b[0m \u001b[32m━━━━━━━━━━━━━━━━━━━━\u001b[0m\u001b[37m\u001b[0m \u001b[1m0s\u001b[0m 2ms/step - accuracy: 0.6892 - loss: 0.7274 - val_accuracy: 0.4358 - val_loss: 1.1470\n",
      "Epoch 80/120\n",
      "\u001b[1m207/207\u001b[0m \u001b[32m━━━━━━━━━━━━━━━━━━━━\u001b[0m\u001b[37m\u001b[0m \u001b[1m0s\u001b[0m 2ms/step - accuracy: 0.6792 - loss: 0.7383 - val_accuracy: 0.4334 - val_loss: 1.1336\n",
      "Epoch 81/120\n",
      "\u001b[1m207/207\u001b[0m \u001b[32m━━━━━━━━━━━━━━━━━━━━\u001b[0m\u001b[37m\u001b[0m \u001b[1m0s\u001b[0m 2ms/step - accuracy: 0.6822 - loss: 0.7419 - val_accuracy: 0.4219 - val_loss: 1.1627\n",
      "Epoch 82/120\n",
      "\u001b[1m207/207\u001b[0m \u001b[32m━━━━━━━━━━━━━━━━━━━━\u001b[0m\u001b[37m\u001b[0m \u001b[1m0s\u001b[0m 2ms/step - accuracy: 0.6848 - loss: 0.7340 - val_accuracy: 0.4843 - val_loss: 1.0676\n",
      "Epoch 83/120\n",
      "\u001b[1m207/207\u001b[0m \u001b[32m━━━━━━━━━━━━━━━━━━━━\u001b[0m\u001b[37m\u001b[0m \u001b[1m0s\u001b[0m 2ms/step - accuracy: 0.6833 - loss: 0.7317 - val_accuracy: 0.4049 - val_loss: 1.2071\n",
      "Epoch 84/120\n",
      "\u001b[1m207/207\u001b[0m \u001b[32m━━━━━━━━━━━━━━━━━━━━\u001b[0m\u001b[37m\u001b[0m \u001b[1m0s\u001b[0m 2ms/step - accuracy: 0.6826 - loss: 0.7319 - val_accuracy: 0.4085 - val_loss: 1.1795\n",
      "Epoch 85/120\n",
      "\u001b[1m207/207\u001b[0m \u001b[32m━━━━━━━━━━━━━━━━━━━━\u001b[0m\u001b[37m\u001b[0m \u001b[1m0s\u001b[0m 2ms/step - accuracy: 0.6887 - loss: 0.7312 - val_accuracy: 0.5018 - val_loss: 1.0219\n",
      "Epoch 86/120\n",
      "\u001b[1m207/207\u001b[0m \u001b[32m━━━━━━━━━━━━━━━━━━━━\u001b[0m\u001b[37m\u001b[0m \u001b[1m0s\u001b[0m 2ms/step - accuracy: 0.6860 - loss: 0.7336 - val_accuracy: 0.4349 - val_loss: 1.1470\n",
      "Epoch 87/120\n",
      "\u001b[1m207/207\u001b[0m \u001b[32m━━━━━━━━━━━━━━━━━━━━\u001b[0m\u001b[37m\u001b[0m \u001b[1m0s\u001b[0m 2ms/step - accuracy: 0.6901 - loss: 0.7242 - val_accuracy: 0.4676 - val_loss: 1.1184\n",
      "Epoch 88/120\n",
      "\u001b[1m207/207\u001b[0m \u001b[32m━━━━━━━━━━━━━━━━━━━━\u001b[0m\u001b[37m\u001b[0m \u001b[1m0s\u001b[0m 2ms/step - accuracy: 0.6968 - loss: 0.7137 - val_accuracy: 0.4727 - val_loss: 1.0841\n",
      "Epoch 89/120\n",
      "\u001b[1m207/207\u001b[0m \u001b[32m━━━━━━━━━━━━━━━━━━━━\u001b[0m\u001b[37m\u001b[0m \u001b[1m0s\u001b[0m 2ms/step - accuracy: 0.6954 - loss: 0.7230 - val_accuracy: 0.4876 - val_loss: 1.0727\n",
      "Epoch 90/120\n",
      "\u001b[1m207/207\u001b[0m \u001b[32m━━━━━━━━━━━━━━━━━━━━\u001b[0m\u001b[37m\u001b[0m \u001b[1m0s\u001b[0m 2ms/step - accuracy: 0.6971 - loss: 0.7130 - val_accuracy: 0.4603 - val_loss: 1.1068\n",
      "Epoch 91/120\n",
      "\u001b[1m207/207\u001b[0m \u001b[32m━━━━━━━━━━━━━━━━━━━━\u001b[0m\u001b[37m\u001b[0m \u001b[1m0s\u001b[0m 2ms/step - accuracy: 0.6980 - loss: 0.7137 - val_accuracy: 0.4936 - val_loss: 1.0579\n",
      "Epoch 92/120\n",
      "\u001b[1m207/207\u001b[0m \u001b[32m━━━━━━━━━━━━━━━━━━━━\u001b[0m\u001b[37m\u001b[0m \u001b[1m0s\u001b[0m 2ms/step - accuracy: 0.7019 - loss: 0.7020 - val_accuracy: 0.4170 - val_loss: 1.1868\n",
      "Epoch 93/120\n",
      "\u001b[1m207/207\u001b[0m \u001b[32m━━━━━━━━━━━━━━━━━━━━\u001b[0m\u001b[37m\u001b[0m \u001b[1m0s\u001b[0m 2ms/step - accuracy: 0.6981 - loss: 0.7157 - val_accuracy: 0.3949 - val_loss: 1.2556\n",
      "Epoch 94/120\n",
      "\u001b[1m207/207\u001b[0m \u001b[32m━━━━━━━━━━━━━━━━━━━━\u001b[0m\u001b[37m\u001b[0m \u001b[1m0s\u001b[0m 2ms/step - accuracy: 0.6946 - loss: 0.7111 - val_accuracy: 0.4743 - val_loss: 1.0913\n",
      "Epoch 95/120\n",
      "\u001b[1m207/207\u001b[0m \u001b[32m━━━━━━━━━━━━━━━━━━━━\u001b[0m\u001b[37m\u001b[0m \u001b[1m0s\u001b[0m 2ms/step - accuracy: 0.7098 - loss: 0.7016 - val_accuracy: 0.4385 - val_loss: 1.1434\n",
      "Epoch 96/120\n",
      "\u001b[1m207/207\u001b[0m \u001b[32m━━━━━━━━━━━━━━━━━━━━\u001b[0m\u001b[37m\u001b[0m \u001b[1m0s\u001b[0m 2ms/step - accuracy: 0.6952 - loss: 0.7231 - val_accuracy: 0.4331 - val_loss: 1.1864\n",
      "Epoch 97/120\n",
      "\u001b[1m207/207\u001b[0m \u001b[32m━━━━━━━━━━━━━━━━━━━━\u001b[0m\u001b[37m\u001b[0m \u001b[1m0s\u001b[0m 2ms/step - accuracy: 0.6940 - loss: 0.7093 - val_accuracy: 0.4419 - val_loss: 1.1495\n",
      "Epoch 98/120\n",
      "\u001b[1m207/207\u001b[0m \u001b[32m━━━━━━━━━━━━━━━━━━━━\u001b[0m\u001b[37m\u001b[0m \u001b[1m0s\u001b[0m 2ms/step - accuracy: 0.6939 - loss: 0.7118 - val_accuracy: 0.4643 - val_loss: 1.1057\n",
      "Epoch 99/120\n",
      "\u001b[1m207/207\u001b[0m \u001b[32m━━━━━━━━━━━━━━━━━━━━\u001b[0m\u001b[37m\u001b[0m \u001b[1m0s\u001b[0m 2ms/step - accuracy: 0.6986 - loss: 0.7093 - val_accuracy: 0.4631 - val_loss: 1.1275\n",
      "Epoch 100/120\n",
      "\u001b[1m207/207\u001b[0m \u001b[32m━━━━━━━━━━━━━━━━━━━━\u001b[0m\u001b[37m\u001b[0m \u001b[1m0s\u001b[0m 2ms/step - accuracy: 0.7085 - loss: 0.7018 - val_accuracy: 0.4649 - val_loss: 1.1164\n"
     ]
    },
    {
     "name": "stdout",
     "output_type": "stream",
     "text": [
      "Epoch 101/120\n",
      "\u001b[1m207/207\u001b[0m \u001b[32m━━━━━━━━━━━━━━━━━━━━\u001b[0m\u001b[37m\u001b[0m \u001b[1m0s\u001b[0m 2ms/step - accuracy: 0.7033 - loss: 0.6922 - val_accuracy: 0.4152 - val_loss: 1.2204\n",
      "Epoch 102/120\n",
      "\u001b[1m207/207\u001b[0m \u001b[32m━━━━━━━━━━━━━━━━━━━━\u001b[0m\u001b[37m\u001b[0m \u001b[1m0s\u001b[0m 2ms/step - accuracy: 0.7091 - loss: 0.6874 - val_accuracy: 0.5088 - val_loss: 1.0421\n",
      "Epoch 103/120\n",
      "\u001b[1m207/207\u001b[0m \u001b[32m━━━━━━━━━━━━━━━━━━━━\u001b[0m\u001b[37m\u001b[0m \u001b[1m0s\u001b[0m 2ms/step - accuracy: 0.7046 - loss: 0.7094 - val_accuracy: 0.4443 - val_loss: 1.1653\n",
      "Epoch 104/120\n",
      "\u001b[1m207/207\u001b[0m \u001b[32m━━━━━━━━━━━━━━━━━━━━\u001b[0m\u001b[37m\u001b[0m \u001b[1m0s\u001b[0m 2ms/step - accuracy: 0.7064 - loss: 0.6937 - val_accuracy: 0.4425 - val_loss: 1.1676\n",
      "Epoch 105/120\n",
      "\u001b[1m207/207\u001b[0m \u001b[32m━━━━━━━━━━━━━━━━━━━━\u001b[0m\u001b[37m\u001b[0m \u001b[1m0s\u001b[0m 2ms/step - accuracy: 0.7005 - loss: 0.7047 - val_accuracy: 0.5279 - val_loss: 1.0206\n",
      "Epoch 106/120\n",
      "\u001b[1m207/207\u001b[0m \u001b[32m━━━━━━━━━━━━━━━━━━━━\u001b[0m\u001b[37m\u001b[0m \u001b[1m0s\u001b[0m 2ms/step - accuracy: 0.7060 - loss: 0.6968 - val_accuracy: 0.4727 - val_loss: 1.1011\n",
      "Epoch 107/120\n",
      "\u001b[1m207/207\u001b[0m \u001b[32m━━━━━━━━━━━━━━━━━━━━\u001b[0m\u001b[37m\u001b[0m \u001b[1m0s\u001b[0m 2ms/step - accuracy: 0.7073 - loss: 0.7014 - val_accuracy: 0.5239 - val_loss: 1.0080\n",
      "Epoch 108/120\n",
      "\u001b[1m207/207\u001b[0m \u001b[32m━━━━━━━━━━━━━━━━━━━━\u001b[0m\u001b[37m\u001b[0m \u001b[1m0s\u001b[0m 2ms/step - accuracy: 0.7098 - loss: 0.6889 - val_accuracy: 0.4867 - val_loss: 1.0719\n",
      "Epoch 109/120\n",
      "\u001b[1m207/207\u001b[0m \u001b[32m━━━━━━━━━━━━━━━━━━━━\u001b[0m\u001b[37m\u001b[0m \u001b[1m0s\u001b[0m 2ms/step - accuracy: 0.7143 - loss: 0.6940 - val_accuracy: 0.4803 - val_loss: 1.1051\n",
      "Epoch 110/120\n",
      "\u001b[1m207/207\u001b[0m \u001b[32m━━━━━━━━━━━━━━━━━━━━\u001b[0m\u001b[37m\u001b[0m \u001b[1m0s\u001b[0m 2ms/step - accuracy: 0.7130 - loss: 0.6903 - val_accuracy: 0.5076 - val_loss: 1.0411\n",
      "Epoch 111/120\n",
      "\u001b[1m207/207\u001b[0m \u001b[32m━━━━━━━━━━━━━━━━━━━━\u001b[0m\u001b[37m\u001b[0m \u001b[1m0s\u001b[0m 2ms/step - accuracy: 0.7168 - loss: 0.6851 - val_accuracy: 0.4724 - val_loss: 1.1091\n",
      "Epoch 112/120\n",
      "\u001b[1m207/207\u001b[0m \u001b[32m━━━━━━━━━━━━━━━━━━━━\u001b[0m\u001b[37m\u001b[0m \u001b[1m0s\u001b[0m 2ms/step - accuracy: 0.7078 - loss: 0.6920 - val_accuracy: 0.4882 - val_loss: 1.0655\n",
      "Epoch 113/120\n",
      "\u001b[1m207/207\u001b[0m \u001b[32m━━━━━━━━━━━━━━━━━━━━\u001b[0m\u001b[37m\u001b[0m \u001b[1m0s\u001b[0m 2ms/step - accuracy: 0.7101 - loss: 0.6871 - val_accuracy: 0.4821 - val_loss: 1.1007\n",
      "Epoch 114/120\n",
      "\u001b[1m207/207\u001b[0m \u001b[32m━━━━━━━━━━━━━━━━━━━━\u001b[0m\u001b[37m\u001b[0m \u001b[1m0s\u001b[0m 1ms/step - accuracy: 0.7182 - loss: 0.6816 - val_accuracy: 0.4382 - val_loss: 1.1659\n",
      "Epoch 115/120\n",
      "\u001b[1m207/207\u001b[0m \u001b[32m━━━━━━━━━━━━━━━━━━━━\u001b[0m\u001b[37m\u001b[0m \u001b[1m0s\u001b[0m 2ms/step - accuracy: 0.7116 - loss: 0.6902 - val_accuracy: 0.4967 - val_loss: 1.0600\n",
      "Epoch 116/120\n",
      "\u001b[1m207/207\u001b[0m \u001b[32m━━━━━━━━━━━━━━━━━━━━\u001b[0m\u001b[37m\u001b[0m \u001b[1m0s\u001b[0m 2ms/step - accuracy: 0.7099 - loss: 0.6875 - val_accuracy: 0.4515 - val_loss: 1.1495\n",
      "Epoch 117/120\n",
      "\u001b[1m207/207\u001b[0m \u001b[32m━━━━━━━━━━━━━━━━━━━━\u001b[0m\u001b[37m\u001b[0m \u001b[1m0s\u001b[0m 2ms/step - accuracy: 0.7093 - loss: 0.6911 - val_accuracy: 0.4815 - val_loss: 1.0804\n",
      "Epoch 118/120\n",
      "\u001b[1m207/207\u001b[0m \u001b[32m━━━━━━━━━━━━━━━━━━━━\u001b[0m\u001b[37m\u001b[0m \u001b[1m0s\u001b[0m 2ms/step - accuracy: 0.7121 - loss: 0.6835 - val_accuracy: 0.4155 - val_loss: 1.2322\n",
      "Epoch 119/120\n",
      "\u001b[1m207/207\u001b[0m \u001b[32m━━━━━━━━━━━━━━━━━━━━\u001b[0m\u001b[37m\u001b[0m \u001b[1m0s\u001b[0m 2ms/step - accuracy: 0.7165 - loss: 0.6866 - val_accuracy: 0.4216 - val_loss: 1.2233\n",
      "Epoch 120/120\n",
      "\u001b[1m207/207\u001b[0m \u001b[32m━━━━━━━━━━━━━━━━━━━━\u001b[0m\u001b[37m\u001b[0m \u001b[1m0s\u001b[0m 2ms/step - accuracy: 0.7165 - loss: 0.6765 - val_accuracy: 0.4806 - val_loss: 1.1094\n"
     ]
    }
   ],
   "source": [
    "# Train the model\n",
    "H = model.fit(x_train_res, y_train_res_onehot, epochs=120, batch_size=64,validation_split=0.2,verbose=1)"
   ]
  },
  {
   "cell_type": "code",
   "execution_count": 196,
   "id": "070ed2c1",
   "metadata": {},
   "outputs": [],
   "source": [
    "EPOCHS=120"
   ]
  },
  {
   "cell_type": "code",
   "execution_count": 197,
   "id": "631fab5b",
   "metadata": {},
   "outputs": [
    {
     "data": {
      "image/png": "[encoded data removed]",
      "text/plain": [
       "<Figure size 1000x800 with 1 Axes>"
      ]
     },
     "metadata": {},
     "output_type": "display_data"
    }
   ],
   "source": [
    "N= np.arange(0,EPOCHS)\n",
    "plt.style.use('ggplot')\n",
    "plt.figure(figsize=(10,8))\n",
    "plt.plot(N,H.history['loss'],label='train_loss')\n",
    "plt.plot(N,H.history['val_loss'],label='val_loss')\n",
    "plt.title('ANN: Training and Validation Loss')\n",
    "plt.xlabel('Epoch #',weight='bold')\n",
    "plt.ylabel('Loss',weight='bold')\n",
    "plt.legend()\n",
    "plt.show()"
   ]
  },
  {
   "cell_type": "code",
   "execution_count": 198,
   "id": "90154042",
   "metadata": {},
   "outputs": [
    {
     "data": {
      "image/png": "[encoded data removed]",
      "text/plain": [
       "<Figure size 1000x800 with 1 Axes>"
      ]
     },
     "metadata": {},
     "output_type": "display_data"
    }
   ],
   "source": [
    "N= np.arange(0,EPOCHS)\n",
    "plt.style.use('ggplot')\n",
    "plt.figure(figsize=(10,8))\n",
    "plt.plot(N,H.history['accuracy'],label='train_acc')\n",
    "plt.plot(N,H.history['val_accuracy'],label='val_acc')\n",
    "plt.title('ANN: Training and Validation Accuracy')\n",
    "plt.xlabel('Epoch #',weight='bold')\n",
    "plt.ylabel('Accuracy',weight='bold')\n",
    "plt.legend()\n",
    "plt.show()"
   ]
  },
  {
   "cell_type": "code",
   "execution_count": 199,
   "id": "9725c3f3",
   "metadata": {},
   "outputs": [
    {
     "name": "stdout",
     "output_type": "stream",
     "text": [
      "\u001b[1m150/150\u001b[0m \u001b[32m━━━━━━━━━━━━━━━━━━━━\u001b[0m\u001b[37m\u001b[0m \u001b[1m0s\u001b[0m 959us/step - accuracy: 0.4299 - loss: 1.5113\n",
      "Validation Accuracy: 41.42%\n"
     ]
    }
   ],
   "source": [
    "# Evaluate the model on the validation set\n",
    "val_loss, val_acc = model.evaluate(x_test, y_test_onehot)\n",
    "print(f'Validation Accuracy: {val_acc * 100:.2f}%')"
   ]
  },
  {
   "cell_type": "code",
   "execution_count": 200,
   "id": "68e761ff",
   "metadata": {},
   "outputs": [
    {
     "name": "stdout",
     "output_type": "stream",
     "text": [
      "\u001b[1m150/150\u001b[0m \u001b[32m━━━━━━━━━━━━━━━━━━━━\u001b[0m\u001b[37m\u001b[0m \u001b[1m0s\u001b[0m 888us/step\n",
      "Accuracy: 41.42%\n",
      "              precision    recall  f1-score   support\n",
      "\n",
      "           0       0.50      0.52      0.51      2342\n",
      "           1       0.36      0.42      0.39      1709\n",
      "           2       0.14      0.08      0.11       749\n",
      "\n",
      "    accuracy                           0.41      4800\n",
      "   macro avg       0.34      0.34      0.33      4800\n",
      "weighted avg       0.40      0.41      0.40      4800\n",
      "\n",
      "[[1211  917  214]\n",
      " [ 841  715  153]\n",
      " [ 354  333   62]]\n"
     ]
    }
   ],
   "source": [
    "# Predict on the validation data\n",
    "y_pred_ANN = model.predict(x_test)\n",
    "\n",
    "# Convert predictions from one-hot encoded form to label format\n",
    "y_pred_classes = np.argmax(y_pred_ANN, axis=1)\n",
    "y_true = np.argmax(y_test_onehot, axis=1)\n",
    "\n",
    "# Evaluate the classification performance\n",
    "print(f'Accuracy: {accuracy_score(y_true, y_pred_classes) * 100:.2f}%')\n",
    "print(classification_report(y_true, y_pred_classes))\n",
    "print(confusion_matrix(y_true, y_pred_classes))"
   ]
  },
  {
   "cell_type": "code",
   "execution_count": 201,
   "id": "138c09eb",
   "metadata": {},
   "outputs": [
    {
     "data": {
      "text/plain": [
       "(16000, 38)"
      ]
     },
     "execution_count": 201,
     "metadata": {},
     "output_type": "execute_result"
    }
   ],
   "source": [
    "X.shape"
   ]
  },
  {
   "cell_type": "code",
   "execution_count": 202,
   "id": "c2d3df5c",
   "metadata": {},
   "outputs": [
    {
     "data": {
      "text/plain": [
       "(16000,)"
      ]
     },
     "execution_count": 202,
     "metadata": {},
     "output_type": "execute_result"
    }
   ],
   "source": [
    "Y.shape"
   ]
  },
  {
   "cell_type": "code",
   "execution_count": 203,
   "id": "fc36be7f",
   "metadata": {},
   "outputs": [
    {
     "data": {
      "text/plain": [
       "Accident_Severity\n",
       "0    7844\n",
       "1    5658\n",
       "2    2498\n",
       "Name: count, dtype: int64"
      ]
     },
     "execution_count": 203,
     "metadata": {},
     "output_type": "execute_result"
    }
   ],
   "source": [
    "Y.value_counts()"
   ]
  },
  {
   "cell_type": "code",
   "execution_count": 204,
   "id": "8303a384",
   "metadata": {},
   "outputs": [
    {
     "name": "stdout",
     "output_type": "stream",
     "text": [
      "Before OverSampling, counts of label '1':  5658\n",
      "Before OverSampling, counts of label '0':  7844\n",
      "Before OverSampling, counts of label '2':  2498\n",
      "After OverSampling, the shape of train_X:  (23532, 38)\n",
      "After OverSampling, the shape of train_y:  (23532,)\n",
      "After OverSampling, counts of label '1':  7844\n",
      "After OverSampling, counts of label '0':  7844\n",
      "After OverSampling, counts of label '2':  7844\n"
     ]
    }
   ],
   "source": [
    "print(\"Before OverSampling, counts of label '1': \", (sum(Y == 1)))\n",
    "print(\"Before OverSampling, counts of label '0': \", (sum(Y == 0)))\n",
    "print(\"Before OverSampling, counts of label '2': \", (sum(Y == 2))) \n",
    "# import SMOTE from imblearn library\n",
    "from imblearn.over_sampling import SMOTE\n",
    "sm = SMOTE(random_state = 10,k_neighbors=5)\n",
    "x_res, y_res = sm.fit_resample(X, Y)\n",
    "  \n",
    "print('After OverSampling, the shape of train_X: ', (x_res.shape))\n",
    "print('After OverSampling, the shape of train_y: ', (y_res.shape))\n",
    "  \n",
    "print(\"After OverSampling, counts of label '1': \", (sum(y_res == 1)))\n",
    "print(\"After OverSampling, counts of label '0': \", (sum(y_res == 0)))\n",
    "print(\"After OverSampling, counts of label '2': \", (sum(y_res == 2)))"
   ]
  },
  {
   "cell_type": "code",
   "execution_count": 205,
   "id": "41218553",
   "metadata": {},
   "outputs": [],
   "source": [
    "# Assuming you have 3 classes (0, 1, 2)\n",
    "y_res_onehot = to_categorical(y_res, num_classes=3)\n",
    "#y_test_onehot = to_categorical(y_test, num_classes=3)  # Apply this to validation data as well if needed"
   ]
  },
  {
   "cell_type": "code",
   "execution_count": 206,
   "id": "d8ab4d78",
   "metadata": {},
   "outputs": [
    {
     "name": "stdout",
     "output_type": "stream",
     "text": [
      "Epoch 1/120\n",
      "\u001b[1m295/295\u001b[0m \u001b[32m━━━━━━━━━━━━━━━━━━━━\u001b[0m\u001b[37m\u001b[0m \u001b[1m1s\u001b[0m 2ms/step - accuracy: 0.6091 - loss: 0.9494 - val_accuracy: 0.3620 - val_loss: 1.3038\n",
      "Epoch 2/120\n",
      "\u001b[1m295/295\u001b[0m \u001b[32m━━━━━━━━━━━━━━━━━━━━\u001b[0m\u001b[37m\u001b[0m \u001b[1m0s\u001b[0m 1ms/step - accuracy: 0.6139 - loss: 0.8896 - val_accuracy: 0.3380 - val_loss: 1.3100\n",
      "Epoch 3/120\n",
      "\u001b[1m295/295\u001b[0m \u001b[32m━━━━━━━━━━━━━━━━━━━━\u001b[0m\u001b[37m\u001b[0m \u001b[1m0s\u001b[0m 1ms/step - accuracy: 0.6171 - loss: 0.8751 - val_accuracy: 0.2857 - val_loss: 1.3939\n",
      "Epoch 4/120\n",
      "\u001b[1m295/295\u001b[0m \u001b[32m━━━━━━━━━━━━━━━━━━━━\u001b[0m\u001b[37m\u001b[0m \u001b[1m0s\u001b[0m 1ms/step - accuracy: 0.6148 - loss: 0.8643 - val_accuracy: 0.3459 - val_loss: 1.2529\n",
      "Epoch 5/120\n",
      "\u001b[1m295/295\u001b[0m \u001b[32m━━━━━━━━━━━━━━━━━━━━\u001b[0m\u001b[37m\u001b[0m \u001b[1m0s\u001b[0m 2ms/step - accuracy: 0.6195 - loss: 0.8524 - val_accuracy: 0.2730 - val_loss: 1.3683\n",
      "Epoch 6/120\n",
      "\u001b[1m295/295\u001b[0m \u001b[32m━━━━━━━━━━━━━━━━━━━━\u001b[0m\u001b[37m\u001b[0m \u001b[1m0s\u001b[0m 1ms/step - accuracy: 0.6155 - loss: 0.8609 - val_accuracy: 0.2677 - val_loss: 1.3824\n",
      "Epoch 7/120\n",
      "\u001b[1m295/295\u001b[0m \u001b[32m━━━━━━━━━━━━━━━━━━━━\u001b[0m\u001b[37m\u001b[0m \u001b[1m0s\u001b[0m 1ms/step - accuracy: 0.6221 - loss: 0.8469 - val_accuracy: 0.2794 - val_loss: 1.3275\n",
      "Epoch 8/120\n",
      "\u001b[1m295/295\u001b[0m \u001b[32m━━━━━━━━━━━━━━━━━━━━\u001b[0m\u001b[37m\u001b[0m \u001b[1m0s\u001b[0m 1ms/step - accuracy: 0.6268 - loss: 0.8397 - val_accuracy: 0.2879 - val_loss: 1.3284\n",
      "Epoch 9/120\n",
      "\u001b[1m295/295\u001b[0m \u001b[32m━━━━━━━━━━━━━━━━━━━━\u001b[0m\u001b[37m\u001b[0m \u001b[1m0s\u001b[0m 1ms/step - accuracy: 0.6300 - loss: 0.8383 - val_accuracy: 0.2762 - val_loss: 1.3235\n",
      "Epoch 10/120\n",
      "\u001b[1m295/295\u001b[0m \u001b[32m━━━━━━━━━━━━━━━━━━━━\u001b[0m\u001b[37m\u001b[0m \u001b[1m0s\u001b[0m 2ms/step - accuracy: 0.6197 - loss: 0.8437 - val_accuracy: 0.2721 - val_loss: 1.3324\n",
      "Epoch 11/120\n",
      "\u001b[1m295/295\u001b[0m \u001b[32m━━━━━━━━━━━━━━━━━━━━\u001b[0m\u001b[37m\u001b[0m \u001b[1m0s\u001b[0m 1ms/step - accuracy: 0.6309 - loss: 0.8311 - val_accuracy: 0.2734 - val_loss: 1.3416\n",
      "Epoch 12/120\n",
      "\u001b[1m295/295\u001b[0m \u001b[32m━━━━━━━━━━━━━━━━━━━━\u001b[0m\u001b[37m\u001b[0m \u001b[1m0s\u001b[0m 1ms/step - accuracy: 0.6355 - loss: 0.8316 - val_accuracy: 0.2675 - val_loss: 1.3630\n",
      "Epoch 13/120\n",
      "\u001b[1m295/295\u001b[0m \u001b[32m━━━━━━━━━━━━━━━━━━━━\u001b[0m\u001b[37m\u001b[0m \u001b[1m0s\u001b[0m 1ms/step - accuracy: 0.6287 - loss: 0.8380 - val_accuracy: 0.2384 - val_loss: 1.4223\n",
      "Epoch 14/120\n",
      "\u001b[1m295/295\u001b[0m \u001b[32m━━━━━━━━━━━━━━━━━━━━\u001b[0m\u001b[37m\u001b[0m \u001b[1m0s\u001b[0m 2ms/step - accuracy: 0.6266 - loss: 0.8318 - val_accuracy: 0.3246 - val_loss: 1.2438\n",
      "Epoch 15/120\n",
      "\u001b[1m295/295\u001b[0m \u001b[32m━━━━━━━━━━━━━━━━━━━━\u001b[0m\u001b[37m\u001b[0m \u001b[1m0s\u001b[0m 1ms/step - accuracy: 0.6301 - loss: 0.8336 - val_accuracy: 0.2367 - val_loss: 1.4284\n",
      "Epoch 16/120\n",
      "\u001b[1m295/295\u001b[0m \u001b[32m━━━━━━━━━━━━━━━━━━━━\u001b[0m\u001b[37m\u001b[0m \u001b[1m0s\u001b[0m 2ms/step - accuracy: 0.6346 - loss: 0.8202 - val_accuracy: 0.2345 - val_loss: 1.4260\n",
      "Epoch 17/120\n",
      "\u001b[1m295/295\u001b[0m \u001b[32m━━━━━━━━━━━━━━━━━━━━\u001b[0m\u001b[37m\u001b[0m \u001b[1m0s\u001b[0m 1ms/step - accuracy: 0.6312 - loss: 0.8300 - val_accuracy: 0.2957 - val_loss: 1.3032\n",
      "Epoch 18/120\n",
      "\u001b[1m295/295\u001b[0m \u001b[32m━━━━━━━━━━━━━━━━━━━━\u001b[0m\u001b[37m\u001b[0m \u001b[1m0s\u001b[0m 1ms/step - accuracy: 0.6359 - loss: 0.8152 - val_accuracy: 0.2815 - val_loss: 1.3254\n",
      "Epoch 19/120\n",
      "\u001b[1m295/295\u001b[0m \u001b[32m━━━━━━━━━━━━━━━━━━━━\u001b[0m\u001b[37m\u001b[0m \u001b[1m0s\u001b[0m 2ms/step - accuracy: 0.6381 - loss: 0.8215 - val_accuracy: 0.2454 - val_loss: 1.4025\n",
      "Epoch 20/120\n",
      "\u001b[1m295/295\u001b[0m \u001b[32m━━━━━━━━━━━━━━━━━━━━\u001b[0m\u001b[37m\u001b[0m \u001b[1m0s\u001b[0m 2ms/step - accuracy: 0.6381 - loss: 0.8132 - val_accuracy: 0.2836 - val_loss: 1.3151\n",
      "Epoch 21/120\n",
      "\u001b[1m295/295\u001b[0m \u001b[32m━━━━━━━━━━━━━━━━━━━━\u001b[0m\u001b[37m\u001b[0m \u001b[1m0s\u001b[0m 1ms/step - accuracy: 0.6424 - loss: 0.8156 - val_accuracy: 0.2787 - val_loss: 1.3419\n",
      "Epoch 22/120\n",
      "\u001b[1m295/295\u001b[0m \u001b[32m━━━━━━━━━━━━━━━━━━━━\u001b[0m\u001b[37m\u001b[0m \u001b[1m0s\u001b[0m 2ms/step - accuracy: 0.6421 - loss: 0.8123 - val_accuracy: 0.2373 - val_loss: 1.3955\n",
      "Epoch 23/120\n",
      "\u001b[1m295/295\u001b[0m \u001b[32m━━━━━━━━━━━━━━━━━━━━\u001b[0m\u001b[37m\u001b[0m \u001b[1m0s\u001b[0m 2ms/step - accuracy: 0.6408 - loss: 0.8042 - val_accuracy: 0.2955 - val_loss: 1.3119\n",
      "Epoch 24/120\n",
      "\u001b[1m295/295\u001b[0m \u001b[32m━━━━━━━━━━━━━━━━━━━━\u001b[0m\u001b[37m\u001b[0m \u001b[1m0s\u001b[0m 1ms/step - accuracy: 0.6464 - loss: 0.8042 - val_accuracy: 0.3582 - val_loss: 1.2003\n",
      "Epoch 25/120\n",
      "\u001b[1m295/295\u001b[0m \u001b[32m━━━━━━━━━━━━━━━━━━━━\u001b[0m\u001b[37m\u001b[0m \u001b[1m0s\u001b[0m 1ms/step - accuracy: 0.6463 - loss: 0.8088 - val_accuracy: 0.2881 - val_loss: 1.3220\n",
      "Epoch 26/120\n",
      "\u001b[1m295/295\u001b[0m \u001b[32m━━━━━━━━━━━━━━━━━━━━\u001b[0m\u001b[37m\u001b[0m \u001b[1m0s\u001b[0m 2ms/step - accuracy: 0.6451 - loss: 0.7982 - val_accuracy: 0.2985 - val_loss: 1.2807\n",
      "Epoch 27/120\n",
      "\u001b[1m295/295\u001b[0m \u001b[32m━━━━━━━━━━━━━━━━━━━━\u001b[0m\u001b[37m\u001b[0m \u001b[1m0s\u001b[0m 2ms/step - accuracy: 0.6426 - loss: 0.8069 - val_accuracy: 0.3157 - val_loss: 1.2761\n",
      "Epoch 28/120\n",
      "\u001b[1m295/295\u001b[0m \u001b[32m━━━━━━━━━━━━━━━━━━━━\u001b[0m\u001b[37m\u001b[0m \u001b[1m0s\u001b[0m 1ms/step - accuracy: 0.6447 - loss: 0.8035 - val_accuracy: 0.2811 - val_loss: 1.3475\n",
      "Epoch 29/120\n",
      "\u001b[1m295/295\u001b[0m \u001b[32m━━━━━━━━━━━━━━━━━━━━\u001b[0m\u001b[37m\u001b[0m \u001b[1m0s\u001b[0m 1ms/step - accuracy: 0.6456 - loss: 0.8008 - val_accuracy: 0.2881 - val_loss: 1.3247\n",
      "Epoch 30/120\n",
      "\u001b[1m295/295\u001b[0m \u001b[32m━━━━━━━━━━━━━━━━━━━━\u001b[0m\u001b[37m\u001b[0m \u001b[1m0s\u001b[0m 1ms/step - accuracy: 0.6429 - loss: 0.8008 - val_accuracy: 0.3010 - val_loss: 1.2956\n",
      "Epoch 31/120\n",
      "\u001b[1m295/295\u001b[0m \u001b[32m━━━━━━━━━━━━━━━━━━━━\u001b[0m\u001b[37m\u001b[0m \u001b[1m0s\u001b[0m 1ms/step - accuracy: 0.6488 - loss: 0.7960 - val_accuracy: 0.3544 - val_loss: 1.2172\n",
      "Epoch 32/120\n",
      "\u001b[1m295/295\u001b[0m \u001b[32m━━━━━━━━━━━━━━━━━━━━\u001b[0m\u001b[37m\u001b[0m \u001b[1m0s\u001b[0m 1ms/step - accuracy: 0.6462 - loss: 0.7927 - val_accuracy: 0.2985 - val_loss: 1.2863\n",
      "Epoch 33/120\n",
      "\u001b[1m295/295\u001b[0m \u001b[32m━━━━━━━━━━━━━━━━━━━━\u001b[0m\u001b[37m\u001b[0m \u001b[1m0s\u001b[0m 2ms/step - accuracy: 0.6514 - loss: 0.7896 - val_accuracy: 0.2870 - val_loss: 1.3636\n",
      "Epoch 34/120\n",
      "\u001b[1m295/295\u001b[0m \u001b[32m━━━━━━━━━━━━━━━━━━━━\u001b[0m\u001b[37m\u001b[0m \u001b[1m0s\u001b[0m 1ms/step - accuracy: 0.6576 - loss: 0.7843 - val_accuracy: 0.3210 - val_loss: 1.2966\n",
      "Epoch 35/120\n",
      "\u001b[1m295/295\u001b[0m \u001b[32m━━━━━━━━━━━━━━━━━━━━\u001b[0m\u001b[37m\u001b[0m \u001b[1m0s\u001b[0m 1ms/step - accuracy: 0.6509 - loss: 0.7935 - val_accuracy: 0.3369 - val_loss: 1.2528\n",
      "Epoch 36/120\n",
      "\u001b[1m295/295\u001b[0m \u001b[32m━━━━━━━━━━━━━━━━━━━━\u001b[0m\u001b[37m\u001b[0m \u001b[1m0s\u001b[0m 1ms/step - accuracy: 0.6572 - loss: 0.7890 - val_accuracy: 0.3064 - val_loss: 1.3098\n",
      "Epoch 37/120\n",
      "\u001b[1m295/295\u001b[0m \u001b[32m━━━━━━━━━━━━━━━━━━━━\u001b[0m\u001b[37m\u001b[0m \u001b[1m0s\u001b[0m 1ms/step - accuracy: 0.6576 - loss: 0.7825 - val_accuracy: 0.3548 - val_loss: 1.2306\n",
      "Epoch 38/120\n",
      "\u001b[1m295/295\u001b[0m \u001b[32m━━━━━━━━━━━━━━━━━━━━\u001b[0m\u001b[37m\u001b[0m \u001b[1m0s\u001b[0m 1ms/step - accuracy: 0.6614 - loss: 0.7786 - val_accuracy: 0.2983 - val_loss: 1.3312\n",
      "Epoch 39/120\n",
      "\u001b[1m295/295\u001b[0m \u001b[32m━━━━━━━━━━━━━━━━━━━━\u001b[0m\u001b[37m\u001b[0m \u001b[1m0s\u001b[0m 1ms/step - accuracy: 0.6529 - loss: 0.7785 - val_accuracy: 0.3165 - val_loss: 1.3187\n",
      "Epoch 40/120\n",
      "\u001b[1m295/295\u001b[0m \u001b[32m━━━━━━━━━━━━━━━━━━━━\u001b[0m\u001b[37m\u001b[0m \u001b[1m0s\u001b[0m 1ms/step - accuracy: 0.6556 - loss: 0.7818 - val_accuracy: 0.3134 - val_loss: 1.3065\n",
      "Epoch 41/120\n",
      "\u001b[1m295/295\u001b[0m \u001b[32m━━━━━━━━━━━━━━━━━━━━\u001b[0m\u001b[37m\u001b[0m \u001b[1m0s\u001b[0m 1ms/step - accuracy: 0.6558 - loss: 0.7812 - val_accuracy: 0.3219 - val_loss: 1.3113\n",
      "Epoch 42/120\n",
      "\u001b[1m295/295\u001b[0m \u001b[32m━━━━━━━━━━━━━━━━━━━━\u001b[0m\u001b[37m\u001b[0m \u001b[1m0s\u001b[0m 1ms/step - accuracy: 0.6643 - loss: 0.7781 - val_accuracy: 0.3002 - val_loss: 1.3519\n",
      "Epoch 43/120\n",
      "\u001b[1m295/295\u001b[0m \u001b[32m━━━━━━━━━━━━━━━━━━━━\u001b[0m\u001b[37m\u001b[0m \u001b[1m0s\u001b[0m 2ms/step - accuracy: 0.6608 - loss: 0.7715 - val_accuracy: 0.3514 - val_loss: 1.2461\n",
      "Epoch 44/120\n",
      "\u001b[1m295/295\u001b[0m \u001b[32m━━━━━━━━━━━━━━━━━━━━\u001b[0m\u001b[37m\u001b[0m \u001b[1m0s\u001b[0m 1ms/step - accuracy: 0.6595 - loss: 0.7783 - val_accuracy: 0.3737 - val_loss: 1.1868\n",
      "Epoch 45/120\n",
      "\u001b[1m295/295\u001b[0m \u001b[32m━━━━━━━━━━━━━━━━━━━━\u001b[0m\u001b[37m\u001b[0m \u001b[1m0s\u001b[0m 1ms/step - accuracy: 0.6596 - loss: 0.7708 - val_accuracy: 0.3301 - val_loss: 1.2934\n",
      "Epoch 46/120\n",
      "\u001b[1m295/295\u001b[0m \u001b[32m━━━━━━━━━━━━━━━━━━━━\u001b[0m\u001b[37m\u001b[0m \u001b[1m0s\u001b[0m 1ms/step - accuracy: 0.6574 - loss: 0.7758 - val_accuracy: 0.3469 - val_loss: 1.2543\n",
      "Epoch 47/120\n",
      "\u001b[1m295/295\u001b[0m \u001b[32m━━━━━━━━━━━━━━━━━━━━\u001b[0m\u001b[37m\u001b[0m \u001b[1m0s\u001b[0m 1ms/step - accuracy: 0.6597 - loss: 0.7751 - val_accuracy: 0.3331 - val_loss: 1.2948\n",
      "Epoch 48/120\n",
      "\u001b[1m295/295\u001b[0m \u001b[32m━━━━━━━━━━━━━━━━━━━━\u001b[0m\u001b[37m\u001b[0m \u001b[1m1s\u001b[0m 2ms/step - accuracy: 0.6580 - loss: 0.7753 - val_accuracy: 0.3648 - val_loss: 1.2180\n",
      "Epoch 49/120\n",
      "\u001b[1m295/295\u001b[0m \u001b[32m━━━━━━━━━━━━━━━━━━━━\u001b[0m\u001b[37m\u001b[0m \u001b[1m0s\u001b[0m 1ms/step - accuracy: 0.6604 - loss: 0.7679 - val_accuracy: 0.3312 - val_loss: 1.2962\n",
      "Epoch 50/120\n",
      "\u001b[1m295/295\u001b[0m \u001b[32m━━━━━━━━━━━━━━━━━━━━\u001b[0m\u001b[37m\u001b[0m \u001b[1m0s\u001b[0m 1ms/step - accuracy: 0.6594 - loss: 0.7666 - val_accuracy: 0.3990 - val_loss: 1.1644\n",
      "Epoch 51/120\n"
     ]
    },
    {
     "name": "stdout",
     "output_type": "stream",
     "text": [
      "\u001b[1m295/295\u001b[0m \u001b[32m━━━━━━━━━━━━━━━━━━━━\u001b[0m\u001b[37m\u001b[0m \u001b[1m0s\u001b[0m 1ms/step - accuracy: 0.6716 - loss: 0.7616 - val_accuracy: 0.3372 - val_loss: 1.2869\n",
      "Epoch 52/120\n",
      "\u001b[1m295/295\u001b[0m \u001b[32m━━━━━━━━━━━━━━━━━━━━\u001b[0m\u001b[37m\u001b[0m \u001b[1m0s\u001b[0m 1ms/step - accuracy: 0.6645 - loss: 0.7667 - val_accuracy: 0.3117 - val_loss: 1.3359\n",
      "Epoch 53/120\n",
      "\u001b[1m295/295\u001b[0m \u001b[32m━━━━━━━━━━━━━━━━━━━━\u001b[0m\u001b[37m\u001b[0m \u001b[1m0s\u001b[0m 1ms/step - accuracy: 0.6637 - loss: 0.7617 - val_accuracy: 0.3299 - val_loss: 1.2769\n",
      "Epoch 54/120\n",
      "\u001b[1m295/295\u001b[0m \u001b[32m━━━━━━━━━━━━━━━━━━━━\u001b[0m\u001b[37m\u001b[0m \u001b[1m0s\u001b[0m 1ms/step - accuracy: 0.6643 - loss: 0.7592 - val_accuracy: 0.3214 - val_loss: 1.3071\n",
      "Epoch 55/120\n",
      "\u001b[1m295/295\u001b[0m \u001b[32m━━━━━━━━━━━━━━━━━━━━\u001b[0m\u001b[37m\u001b[0m \u001b[1m0s\u001b[0m 1ms/step - accuracy: 0.6645 - loss: 0.7644 - val_accuracy: 0.3474 - val_loss: 1.2921\n",
      "Epoch 56/120\n",
      "\u001b[1m295/295\u001b[0m \u001b[32m━━━━━━━━━━━━━━━━━━━━\u001b[0m\u001b[37m\u001b[0m \u001b[1m0s\u001b[0m 1ms/step - accuracy: 0.6660 - loss: 0.7642 - val_accuracy: 0.3767 - val_loss: 1.2278\n",
      "Epoch 57/120\n",
      "\u001b[1m295/295\u001b[0m \u001b[32m━━━━━━━━━━━━━━━━━━━━\u001b[0m\u001b[37m\u001b[0m \u001b[1m0s\u001b[0m 1ms/step - accuracy: 0.6686 - loss: 0.7557 - val_accuracy: 0.3352 - val_loss: 1.2941\n",
      "Epoch 58/120\n",
      "\u001b[1m295/295\u001b[0m \u001b[32m━━━━━━━━━━━━━━━━━━━━\u001b[0m\u001b[37m\u001b[0m \u001b[1m0s\u001b[0m 1ms/step - accuracy: 0.6747 - loss: 0.7536 - val_accuracy: 0.3756 - val_loss: 1.2176\n",
      "Epoch 59/120\n",
      "\u001b[1m295/295\u001b[0m \u001b[32m━━━━━━━━━━━━━━━━━━━━\u001b[0m\u001b[37m\u001b[0m \u001b[1m0s\u001b[0m 1ms/step - accuracy: 0.6723 - loss: 0.7555 - val_accuracy: 0.3884 - val_loss: 1.2040\n",
      "Epoch 60/120\n",
      "\u001b[1m295/295\u001b[0m \u001b[32m━━━━━━━━━━━━━━━━━━━━\u001b[0m\u001b[37m\u001b[0m \u001b[1m0s\u001b[0m 1ms/step - accuracy: 0.6696 - loss: 0.7511 - val_accuracy: 0.3501 - val_loss: 1.2865\n",
      "Epoch 61/120\n",
      "\u001b[1m295/295\u001b[0m \u001b[32m━━━━━━━━━━━━━━━━━━━━\u001b[0m\u001b[37m\u001b[0m \u001b[1m0s\u001b[0m 1ms/step - accuracy: 0.6704 - loss: 0.7532 - val_accuracy: 0.3274 - val_loss: 1.3386\n",
      "Epoch 62/120\n",
      "\u001b[1m295/295\u001b[0m \u001b[32m━━━━━━━━━━━━━━━━━━━━\u001b[0m\u001b[37m\u001b[0m \u001b[1m0s\u001b[0m 1ms/step - accuracy: 0.6687 - loss: 0.7537 - val_accuracy: 0.3117 - val_loss: 1.3665\n",
      "Epoch 63/120\n",
      "\u001b[1m295/295\u001b[0m \u001b[32m━━━━━━━━━━━━━━━━━━━━\u001b[0m\u001b[37m\u001b[0m \u001b[1m0s\u001b[0m 1ms/step - accuracy: 0.6817 - loss: 0.7388 - val_accuracy: 0.3656 - val_loss: 1.2482\n",
      "Epoch 64/120\n",
      "\u001b[1m295/295\u001b[0m \u001b[32m━━━━━━━━━━━━━━━━━━━━\u001b[0m\u001b[37m\u001b[0m \u001b[1m0s\u001b[0m 1ms/step - accuracy: 0.6756 - loss: 0.7545 - val_accuracy: 0.3255 - val_loss: 1.3308\n",
      "Epoch 65/120\n",
      "\u001b[1m295/295\u001b[0m \u001b[32m━━━━━━━━━━━━━━━━━━━━\u001b[0m\u001b[37m\u001b[0m \u001b[1m0s\u001b[0m 1ms/step - accuracy: 0.6717 - loss: 0.7559 - val_accuracy: 0.3805 - val_loss: 1.2159\n",
      "Epoch 66/120\n",
      "\u001b[1m295/295\u001b[0m \u001b[32m━━━━━━━━━━━━━━━━━━━━\u001b[0m\u001b[37m\u001b[0m \u001b[1m0s\u001b[0m 1ms/step - accuracy: 0.6805 - loss: 0.7445 - val_accuracy: 0.4330 - val_loss: 1.1412\n",
      "Epoch 67/120\n",
      "\u001b[1m295/295\u001b[0m \u001b[32m━━━━━━━━━━━━━━━━━━━━\u001b[0m\u001b[37m\u001b[0m \u001b[1m0s\u001b[0m 1ms/step - accuracy: 0.6750 - loss: 0.7420 - val_accuracy: 0.3898 - val_loss: 1.2213\n",
      "Epoch 68/120\n",
      "\u001b[1m295/295\u001b[0m \u001b[32m━━━━━━━━━━━━━━━━━━━━\u001b[0m\u001b[37m\u001b[0m \u001b[1m0s\u001b[0m 1ms/step - accuracy: 0.6783 - loss: 0.7414 - val_accuracy: 0.3612 - val_loss: 1.2784\n",
      "Epoch 69/120\n",
      "\u001b[1m295/295\u001b[0m \u001b[32m━━━━━━━━━━━━━━━━━━━━\u001b[0m\u001b[37m\u001b[0m \u001b[1m0s\u001b[0m 1ms/step - accuracy: 0.6748 - loss: 0.7474 - val_accuracy: 0.3644 - val_loss: 1.2758\n",
      "Epoch 70/120\n",
      "\u001b[1m295/295\u001b[0m \u001b[32m━━━━━━━━━━━━━━━━━━━━\u001b[0m\u001b[37m\u001b[0m \u001b[1m0s\u001b[0m 2ms/step - accuracy: 0.6884 - loss: 0.7269 - val_accuracy: 0.4020 - val_loss: 1.1848\n",
      "Epoch 71/120\n",
      "\u001b[1m295/295\u001b[0m \u001b[32m━━━━━━━━━━━━━━━━━━━━\u001b[0m\u001b[37m\u001b[0m \u001b[1m0s\u001b[0m 1ms/step - accuracy: 0.6744 - loss: 0.7437 - val_accuracy: 0.3180 - val_loss: 1.3751\n",
      "Epoch 72/120\n",
      "\u001b[1m295/295\u001b[0m \u001b[32m━━━━━━━━━━━━━━━━━━━━\u001b[0m\u001b[37m\u001b[0m \u001b[1m0s\u001b[0m 1ms/step - accuracy: 0.6835 - loss: 0.7330 - val_accuracy: 0.3907 - val_loss: 1.2266\n",
      "Epoch 73/120\n",
      "\u001b[1m295/295\u001b[0m \u001b[32m━━━━━━━━━━━━━━━━━━━━\u001b[0m\u001b[37m\u001b[0m \u001b[1m0s\u001b[0m 1ms/step - accuracy: 0.6799 - loss: 0.7382 - val_accuracy: 0.3896 - val_loss: 1.2344\n",
      "Epoch 74/120\n",
      "\u001b[1m295/295\u001b[0m \u001b[32m━━━━━━━━━━━━━━━━━━━━\u001b[0m\u001b[37m\u001b[0m \u001b[1m0s\u001b[0m 2ms/step - accuracy: 0.6803 - loss: 0.7382 - val_accuracy: 0.3467 - val_loss: 1.3499\n",
      "Epoch 75/120\n",
      "\u001b[1m295/295\u001b[0m \u001b[32m━━━━━━━━━━━━━━━━━━━━\u001b[0m\u001b[37m\u001b[0m \u001b[1m0s\u001b[0m 2ms/step - accuracy: 0.6810 - loss: 0.7400 - val_accuracy: 0.3956 - val_loss: 1.2136\n",
      "Epoch 76/120\n",
      "\u001b[1m295/295\u001b[0m \u001b[32m━━━━━━━━━━━━━━━━━━━━\u001b[0m\u001b[37m\u001b[0m \u001b[1m0s\u001b[0m 2ms/step - accuracy: 0.6845 - loss: 0.7312 - val_accuracy: 0.3930 - val_loss: 1.2536\n",
      "Epoch 77/120\n",
      "\u001b[1m295/295\u001b[0m \u001b[32m━━━━━━━━━━━━━━━━━━━━\u001b[0m\u001b[37m\u001b[0m \u001b[1m0s\u001b[0m 2ms/step - accuracy: 0.6802 - loss: 0.7330 - val_accuracy: 0.4134 - val_loss: 1.2076\n",
      "Epoch 78/120\n",
      "\u001b[1m295/295\u001b[0m \u001b[32m━━━━━━━━━━━━━━━━━━━━\u001b[0m\u001b[37m\u001b[0m \u001b[1m0s\u001b[0m 1ms/step - accuracy: 0.6806 - loss: 0.7402 - val_accuracy: 0.3667 - val_loss: 1.2903\n",
      "Epoch 79/120\n",
      "\u001b[1m295/295\u001b[0m \u001b[32m━━━━━━━━━━━━━━━━━━━━\u001b[0m\u001b[37m\u001b[0m \u001b[1m0s\u001b[0m 1ms/step - accuracy: 0.6796 - loss: 0.7372 - val_accuracy: 0.4183 - val_loss: 1.1821\n",
      "Epoch 80/120\n",
      "\u001b[1m295/295\u001b[0m \u001b[32m━━━━━━━━━━━━━━━━━━━━\u001b[0m\u001b[37m\u001b[0m \u001b[1m0s\u001b[0m 1ms/step - accuracy: 0.6866 - loss: 0.7334 - val_accuracy: 0.3514 - val_loss: 1.3278\n",
      "Epoch 81/120\n",
      "\u001b[1m295/295\u001b[0m \u001b[32m━━━━━━━━━━━━━━━━━━━━\u001b[0m\u001b[37m\u001b[0m \u001b[1m0s\u001b[0m 2ms/step - accuracy: 0.6856 - loss: 0.7284 - val_accuracy: 0.4037 - val_loss: 1.1991\n",
      "Epoch 82/120\n",
      "\u001b[1m295/295\u001b[0m \u001b[32m━━━━━━━━━━━━━━━━━━━━\u001b[0m\u001b[37m\u001b[0m \u001b[1m0s\u001b[0m 1ms/step - accuracy: 0.6818 - loss: 0.7303 - val_accuracy: 0.3794 - val_loss: 1.2636\n",
      "Epoch 83/120\n",
      "\u001b[1m295/295\u001b[0m \u001b[32m━━━━━━━━━━━━━━━━━━━━\u001b[0m\u001b[37m\u001b[0m \u001b[1m1s\u001b[0m 2ms/step - accuracy: 0.6863 - loss: 0.7246 - val_accuracy: 0.3898 - val_loss: 1.2418\n",
      "Epoch 84/120\n",
      "\u001b[1m295/295\u001b[0m \u001b[32m━━━━━━━━━━━━━━━━━━━━\u001b[0m\u001b[37m\u001b[0m \u001b[1m0s\u001b[0m 1ms/step - accuracy: 0.6804 - loss: 0.7352 - val_accuracy: 0.3752 - val_loss: 1.2710\n",
      "Epoch 85/120\n",
      "\u001b[1m295/295\u001b[0m \u001b[32m━━━━━━━━━━━━━━━━━━━━\u001b[0m\u001b[37m\u001b[0m \u001b[1m0s\u001b[0m 1ms/step - accuracy: 0.6870 - loss: 0.7276 - val_accuracy: 0.4398 - val_loss: 1.1429\n",
      "Epoch 86/120\n",
      "\u001b[1m295/295\u001b[0m \u001b[32m━━━━━━━━━━━━━━━━━━━━\u001b[0m\u001b[37m\u001b[0m \u001b[1m0s\u001b[0m 1ms/step - accuracy: 0.6799 - loss: 0.7379 - val_accuracy: 0.3975 - val_loss: 1.2378\n",
      "Epoch 87/120\n",
      "\u001b[1m295/295\u001b[0m \u001b[32m━━━━━━━━━━━━━━━━━━━━\u001b[0m\u001b[37m\u001b[0m \u001b[1m0s\u001b[0m 1ms/step - accuracy: 0.6848 - loss: 0.7251 - val_accuracy: 0.3758 - val_loss: 1.2933\n",
      "Epoch 88/120\n",
      "\u001b[1m295/295\u001b[0m \u001b[32m━━━━━━━━━━━━━━━━━━━━\u001b[0m\u001b[37m\u001b[0m \u001b[1m0s\u001b[0m 2ms/step - accuracy: 0.6844 - loss: 0.7261 - val_accuracy: 0.4011 - val_loss: 1.2285\n",
      "Epoch 89/120\n",
      "\u001b[1m295/295\u001b[0m \u001b[32m━━━━━━━━━━━━━━━━━━━━\u001b[0m\u001b[37m\u001b[0m \u001b[1m0s\u001b[0m 2ms/step - accuracy: 0.6839 - loss: 0.7368 - val_accuracy: 0.3707 - val_loss: 1.3067\n",
      "Epoch 90/120\n",
      "\u001b[1m295/295\u001b[0m \u001b[32m━━━━━━━━━━━━━━━━━━━━\u001b[0m\u001b[37m\u001b[0m \u001b[1m0s\u001b[0m 2ms/step - accuracy: 0.6896 - loss: 0.7204 - val_accuracy: 0.4400 - val_loss: 1.1498\n",
      "Epoch 91/120\n",
      "\u001b[1m295/295\u001b[0m \u001b[32m━━━━━━━━━━━━━━━━━━━━\u001b[0m\u001b[37m\u001b[0m \u001b[1m0s\u001b[0m 2ms/step - accuracy: 0.6850 - loss: 0.7238 - val_accuracy: 0.4835 - val_loss: 1.0629\n",
      "Epoch 92/120\n",
      "\u001b[1m295/295\u001b[0m \u001b[32m━━━━━━━━━━━━━━━━━━━━\u001b[0m\u001b[37m\u001b[0m \u001b[1m0s\u001b[0m 1ms/step - accuracy: 0.6819 - loss: 0.7292 - val_accuracy: 0.3357 - val_loss: 1.4042\n",
      "Epoch 93/120\n",
      "\u001b[1m295/295\u001b[0m \u001b[32m━━━━━━━━━━━━━━━━━━━━\u001b[0m\u001b[37m\u001b[0m \u001b[1m1s\u001b[0m 2ms/step - accuracy: 0.6886 - loss: 0.7239 - val_accuracy: 0.3629 - val_loss: 1.3105\n",
      "Epoch 94/120\n",
      "\u001b[1m295/295\u001b[0m \u001b[32m━━━━━━━━━━━━━━━━━━━━\u001b[0m\u001b[37m\u001b[0m \u001b[1m1s\u001b[0m 2ms/step - accuracy: 0.6754 - loss: 0.7346 - val_accuracy: 0.4077 - val_loss: 1.2265\n",
      "Epoch 95/120\n",
      "\u001b[1m295/295\u001b[0m \u001b[32m━━━━━━━━━━━━━━━━━━━━\u001b[0m\u001b[37m\u001b[0m \u001b[1m0s\u001b[0m 2ms/step - accuracy: 0.6910 - loss: 0.7182 - val_accuracy: 0.4580 - val_loss: 1.1158\n",
      "Epoch 96/120\n",
      "\u001b[1m295/295\u001b[0m \u001b[32m━━━━━━━━━━━━━━━━━━━━\u001b[0m\u001b[37m\u001b[0m \u001b[1m0s\u001b[0m 2ms/step - accuracy: 0.6894 - loss: 0.7170 - val_accuracy: 0.4009 - val_loss: 1.2168\n",
      "Epoch 97/120\n",
      "\u001b[1m295/295\u001b[0m \u001b[32m━━━━━━━━━━━━━━━━━━━━\u001b[0m\u001b[37m\u001b[0m \u001b[1m0s\u001b[0m 2ms/step - accuracy: 0.6918 - loss: 0.7144 - val_accuracy: 0.4366 - val_loss: 1.1952\n",
      "Epoch 98/120\n",
      "\u001b[1m295/295\u001b[0m \u001b[32m━━━━━━━━━━━━━━━━━━━━\u001b[0m\u001b[37m\u001b[0m \u001b[1m0s\u001b[0m 2ms/step - accuracy: 0.6894 - loss: 0.7166 - val_accuracy: 0.4187 - val_loss: 1.2129\n",
      "Epoch 99/120\n",
      "\u001b[1m295/295\u001b[0m \u001b[32m━━━━━━━━━━━━━━━━━━━━\u001b[0m\u001b[37m\u001b[0m \u001b[1m0s\u001b[0m 2ms/step - accuracy: 0.6938 - loss: 0.7136 - val_accuracy: 0.4009 - val_loss: 1.2437\n",
      "Epoch 100/120\n",
      "\u001b[1m295/295\u001b[0m \u001b[32m━━━━━━━━━━━━━━━━━━━━\u001b[0m\u001b[37m\u001b[0m \u001b[1m0s\u001b[0m 2ms/step - accuracy: 0.6906 - loss: 0.7155 - val_accuracy: 0.3701 - val_loss: 1.3372\n",
      "Epoch 101/120\n"
     ]
    },
    {
     "name": "stdout",
     "output_type": "stream",
     "text": [
      "\u001b[1m295/295\u001b[0m \u001b[32m━━━━━━━━━━━━━━━━━━━━\u001b[0m\u001b[37m\u001b[0m \u001b[1m0s\u001b[0m 1ms/step - accuracy: 0.6975 - loss: 0.7094 - val_accuracy: 0.4022 - val_loss: 1.2517\n",
      "Epoch 102/120\n",
      "\u001b[1m295/295\u001b[0m \u001b[32m━━━━━━━━━━━━━━━━━━━━\u001b[0m\u001b[37m\u001b[0m \u001b[1m0s\u001b[0m 1ms/step - accuracy: 0.6936 - loss: 0.7126 - val_accuracy: 0.3813 - val_loss: 1.3083\n",
      "Epoch 103/120\n",
      "\u001b[1m295/295\u001b[0m \u001b[32m━━━━━━━━━━━━━━━━━━━━\u001b[0m\u001b[37m\u001b[0m \u001b[1m0s\u001b[0m 2ms/step - accuracy: 0.6999 - loss: 0.7011 - val_accuracy: 0.3367 - val_loss: 1.4052\n",
      "Epoch 104/120\n",
      "\u001b[1m295/295\u001b[0m \u001b[32m━━━━━━━━━━━━━━━━━━━━\u001b[0m\u001b[37m\u001b[0m \u001b[1m0s\u001b[0m 2ms/step - accuracy: 0.6838 - loss: 0.7243 - val_accuracy: 0.4198 - val_loss: 1.2192\n",
      "Epoch 105/120\n",
      "\u001b[1m295/295\u001b[0m \u001b[32m━━━━━━━━━━━━━━━━━━━━\u001b[0m\u001b[37m\u001b[0m \u001b[1m0s\u001b[0m 1ms/step - accuracy: 0.6938 - loss: 0.7110 - val_accuracy: 0.3939 - val_loss: 1.2615\n",
      "Epoch 106/120\n",
      "\u001b[1m295/295\u001b[0m \u001b[32m━━━━━━━━━━━━━━━━━━━━\u001b[0m\u001b[37m\u001b[0m \u001b[1m0s\u001b[0m 1ms/step - accuracy: 0.6936 - loss: 0.7064 - val_accuracy: 0.4676 - val_loss: 1.1136\n",
      "Epoch 107/120\n",
      "\u001b[1m295/295\u001b[0m \u001b[32m━━━━━━━━━━━━━━━━━━━━\u001b[0m\u001b[37m\u001b[0m \u001b[1m0s\u001b[0m 2ms/step - accuracy: 0.6923 - loss: 0.7106 - val_accuracy: 0.4610 - val_loss: 1.1378\n",
      "Epoch 108/120\n",
      "\u001b[1m295/295\u001b[0m \u001b[32m━━━━━━━━━━━━━━━━━━━━\u001b[0m\u001b[37m\u001b[0m \u001b[1m0s\u001b[0m 1ms/step - accuracy: 0.6988 - loss: 0.7060 - val_accuracy: 0.4281 - val_loss: 1.2167\n",
      "Epoch 109/120\n",
      "\u001b[1m295/295\u001b[0m \u001b[32m━━━━━━━━━━━━━━━━━━━━\u001b[0m\u001b[37m\u001b[0m \u001b[1m0s\u001b[0m 2ms/step - accuracy: 0.6921 - loss: 0.7123 - val_accuracy: 0.4347 - val_loss: 1.1910\n",
      "Epoch 110/120\n",
      "\u001b[1m295/295\u001b[0m \u001b[32m━━━━━━━━━━━━━━━━━━━━\u001b[0m\u001b[37m\u001b[0m \u001b[1m0s\u001b[0m 2ms/step - accuracy: 0.6924 - loss: 0.7104 - val_accuracy: 0.4336 - val_loss: 1.1720\n",
      "Epoch 111/120\n",
      "\u001b[1m295/295\u001b[0m \u001b[32m━━━━━━━━━━━━━━━━━━━━\u001b[0m\u001b[37m\u001b[0m \u001b[1m0s\u001b[0m 2ms/step - accuracy: 0.6906 - loss: 0.7125 - val_accuracy: 0.4602 - val_loss: 1.1354\n",
      "Epoch 112/120\n",
      "\u001b[1m295/295\u001b[0m \u001b[32m━━━━━━━━━━━━━━━━━━━━\u001b[0m\u001b[37m\u001b[0m \u001b[1m0s\u001b[0m 2ms/step - accuracy: 0.6913 - loss: 0.7123 - val_accuracy: 0.4504 - val_loss: 1.1501\n",
      "Epoch 113/120\n",
      "\u001b[1m295/295\u001b[0m \u001b[32m━━━━━━━━━━━━━━━━━━━━\u001b[0m\u001b[37m\u001b[0m \u001b[1m1s\u001b[0m 2ms/step - accuracy: 0.6926 - loss: 0.7083 - val_accuracy: 0.3537 - val_loss: 1.3780\n",
      "Epoch 114/120\n",
      "\u001b[1m295/295\u001b[0m \u001b[32m━━━━━━━━━━━━━━━━━━━━\u001b[0m\u001b[37m\u001b[0m \u001b[1m0s\u001b[0m 2ms/step - accuracy: 0.6932 - loss: 0.7097 - val_accuracy: 0.4597 - val_loss: 1.1319\n",
      "Epoch 115/120\n",
      "\u001b[1m295/295\u001b[0m \u001b[32m━━━━━━━━━━━━━━━━━━━━\u001b[0m\u001b[37m\u001b[0m \u001b[1m0s\u001b[0m 2ms/step - accuracy: 0.7001 - loss: 0.7033 - val_accuracy: 0.4306 - val_loss: 1.1993\n",
      "Epoch 116/120\n",
      "\u001b[1m295/295\u001b[0m \u001b[32m━━━━━━━━━━━━━━━━━━━━\u001b[0m\u001b[37m\u001b[0m \u001b[1m0s\u001b[0m 1ms/step - accuracy: 0.6982 - loss: 0.7017 - val_accuracy: 0.4657 - val_loss: 1.1209\n",
      "Epoch 117/120\n",
      "\u001b[1m295/295\u001b[0m \u001b[32m━━━━━━━━━━━━━━━━━━━━\u001b[0m\u001b[37m\u001b[0m \u001b[1m0s\u001b[0m 1ms/step - accuracy: 0.6956 - loss: 0.7120 - val_accuracy: 0.4621 - val_loss: 1.1507\n",
      "Epoch 118/120\n",
      "\u001b[1m295/295\u001b[0m \u001b[32m━━━━━━━━━━━━━━━━━━━━\u001b[0m\u001b[37m\u001b[0m \u001b[1m0s\u001b[0m 2ms/step - accuracy: 0.7016 - loss: 0.6998 - val_accuracy: 0.4610 - val_loss: 1.1541\n",
      "Epoch 119/120\n",
      "\u001b[1m295/295\u001b[0m \u001b[32m━━━━━━━━━━━━━━━━━━━━\u001b[0m\u001b[37m\u001b[0m \u001b[1m1s\u001b[0m 2ms/step - accuracy: 0.7025 - loss: 0.6945 - val_accuracy: 0.4077 - val_loss: 1.2795\n",
      "Epoch 120/120\n",
      "\u001b[1m295/295\u001b[0m \u001b[32m━━━━━━━━━━━━━━━━━━━━\u001b[0m\u001b[37m\u001b[0m \u001b[1m0s\u001b[0m 2ms/step - accuracy: 0.7025 - loss: 0.7036 - val_accuracy: 0.4151 - val_loss: 1.2438\n"
     ]
    }
   ],
   "source": [
    "# Train the model\n",
    "H = model.fit(x_res, y_res_onehot, epochs=120, batch_size=64,validation_split=0.2,verbose=1)"
   ]
  },
  {
   "cell_type": "code",
   "execution_count": 207,
   "id": "649b5882",
   "metadata": {},
   "outputs": [
    {
     "data": {
      "image/png": "[encoded data removed]",
      "text/plain": [
       "<Figure size 1000x800 with 1 Axes>"
      ]
     },
     "metadata": {},
     "output_type": "display_data"
    }
   ],
   "source": [
    "EPOCHS=120\n",
    "\n",
    "N= np.arange(0,EPOCHS)\n",
    "plt.style.use('ggplot')\n",
    "plt.figure(figsize=(10,8))\n",
    "plt.plot(N,H.history['loss'],label='train_loss')\n",
    "plt.plot(N,H.history['val_loss'],label='val_loss')\n",
    "plt.title('ANN: Training and Validation Loss')\n",
    "plt.xlabel('Epoch #',weight='bold')\n",
    "plt.ylabel('Loss',weight='bold')\n",
    "plt.legend()\n",
    "plt.show()"
   ]
  },
  {
   "cell_type": "code",
   "execution_count": 208,
   "id": "9a8eea44",
   "metadata": {},
   "outputs": [
    {
     "data": {
      "image/png": "[encoded data removed]",
      "text/plain": [
       "<Figure size 1000x800 with 1 Axes>"
      ]
     },
     "metadata": {},
     "output_type": "display_data"
    }
   ],
   "source": [
    "N= np.arange(0,EPOCHS)\n",
    "plt.style.use('ggplot')\n",
    "plt.figure(figsize=(10,8))\n",
    "plt.plot(N,H.history['accuracy'],label='train_acc')\n",
    "plt.plot(N,H.history['val_accuracy'],label='val_acc')\n",
    "plt.title('ANN: Training and Validation Accuracy')\n",
    "plt.xlabel('Epoch #',weight='bold')\n",
    "plt.ylabel('Accuracy',weight='bold')\n",
    "plt.legend()\n",
    "plt.show()"
   ]
  },
  {
   "cell_type": "code",
   "execution_count": 209,
   "id": "74eaa4cf",
   "metadata": {},
   "outputs": [
    {
     "name": "stdout",
     "output_type": "stream",
     "text": [
      "\u001b[1m736/736\u001b[0m \u001b[32m━━━━━━━━━━━━━━━━━━━━\u001b[0m\u001b[37m\u001b[0m \u001b[1m1s\u001b[0m 939us/step - accuracy: 0.6807 - loss: 0.7250\n",
      "Validation Accuracy: 65.03%\n"
     ]
    }
   ],
   "source": [
    "# Evaluate the model on the validation set\n",
    "val_loss, val_acc = model.evaluate(x_res, y_res_onehot)\n",
    "print(f'Validation Accuracy: {val_acc * 100:.2f}%')"
   ]
  },
  {
   "cell_type": "code",
   "execution_count": 210,
   "id": "6fc8dbc7",
   "metadata": {},
   "outputs": [
    {
     "name": "stdout",
     "output_type": "stream",
     "text": [
      "\u001b[1m125/125\u001b[0m \u001b[32m━━━━━━━━━━━━━━━━━━━━\u001b[0m\u001b[37m\u001b[0m \u001b[1m0s\u001b[0m 880us/step\n"
     ]
    }
   ],
   "source": [
    "# Predict on the validation data\n",
    "y_pred_ANN = model.predict(test_df_scale)\n",
    "\n",
    "# Convert predictions from one-hot encoded form to label format\n",
    "y_pred_classes = np.argmax(y_pred_ANN, axis=1)\n"
   ]
  },
  {
   "cell_type": "code",
   "execution_count": 211,
   "id": "5fee0e94",
   "metadata": {},
   "outputs": [
    {
     "data": {
      "text/plain": [
       "(4000, 38)"
      ]
     },
     "execution_count": 211,
     "metadata": {},
     "output_type": "execute_result"
    }
   ],
   "source": [
    "test_df_scale.shape"
   ]
  },
  {
   "cell_type": "code",
   "execution_count": 212,
   "id": "938042b7",
   "metadata": {},
   "outputs": [
    {
     "data": {
      "text/plain": [
       "array([0, 1, 2, ..., 0, 1, 0], dtype=int64)"
      ]
     },
     "execution_count": 212,
     "metadata": {},
     "output_type": "execute_result"
    }
   ],
   "source": [
    "y_pred_classes"
   ]
  },
  {
   "cell_type": "code",
   "execution_count": 213,
   "id": "f553ff6e",
   "metadata": {},
   "outputs": [
    {
     "data": {
      "text/plain": [
       "4000"
      ]
     },
     "execution_count": 213,
     "metadata": {},
     "output_type": "execute_result"
    }
   ],
   "source": [
    "len(y_pred_classes)"
   ]
  },
  {
   "cell_type": "code",
   "execution_count": 214,
   "id": "2911f36b",
   "metadata": {},
   "outputs": [],
   "source": [
    "#result=pd.DataFrame(test_df.index,y_pred_classes,columns=['Accident_Severity'])\n",
    "result_ANN=pd.DataFrame(test_df.index,columns=['Accident_ID'])"
   ]
  },
  {
   "cell_type": "code",
   "execution_count": 215,
   "id": "921f789b",
   "metadata": {},
   "outputs": [
    {
     "data": {
      "text/html": [
       "<div>\n",
       "<style scoped>\n",
       "    .dataframe tbody tr th:only-of-type {\n",
       "        vertical-align: middle;\n",
       "    }\n",
       "\n",
       "    .dataframe tbody tr th {\n",
       "        vertical-align: top;\n",
       "    }\n",
       "\n",
       "    .dataframe thead th {\n",
       "        text-align: right;\n",
       "    }\n",
       "</style>\n",
       "<table border=\"1\" class=\"dataframe\">\n",
       "  <thead>\n",
       "    <tr style=\"text-align: right;\">\n",
       "      <th></th>\n",
       "      <th>Accident_ID</th>\n",
       "    </tr>\n",
       "  </thead>\n",
       "  <tbody>\n",
       "    <tr>\n",
       "      <th>0</th>\n",
       "      <td>19134</td>\n",
       "    </tr>\n",
       "    <tr>\n",
       "      <th>1</th>\n",
       "      <td>4981</td>\n",
       "    </tr>\n",
       "    <tr>\n",
       "      <th>2</th>\n",
       "      <td>16643</td>\n",
       "    </tr>\n",
       "    <tr>\n",
       "      <th>3</th>\n",
       "      <td>19117</td>\n",
       "    </tr>\n",
       "    <tr>\n",
       "      <th>4</th>\n",
       "      <td>5306</td>\n",
       "    </tr>\n",
       "    <tr>\n",
       "      <th>...</th>\n",
       "      <td>...</td>\n",
       "    </tr>\n",
       "    <tr>\n",
       "      <th>3995</th>\n",
       "      <td>17088</td>\n",
       "    </tr>\n",
       "    <tr>\n",
       "      <th>3996</th>\n",
       "      <td>11121</td>\n",
       "    </tr>\n",
       "    <tr>\n",
       "      <th>3997</th>\n",
       "      <td>9861</td>\n",
       "    </tr>\n",
       "    <tr>\n",
       "      <th>3998</th>\n",
       "      <td>14548</td>\n",
       "    </tr>\n",
       "    <tr>\n",
       "      <th>3999</th>\n",
       "      <td>8781</td>\n",
       "    </tr>\n",
       "  </tbody>\n",
       "</table>\n",
       "<p>4000 rows × 1 columns</p>\n",
       "</div>"
      ],
      "text/plain": [
       "      Accident_ID\n",
       "0           19134\n",
       "1            4981\n",
       "2           16643\n",
       "3           19117\n",
       "4            5306\n",
       "...           ...\n",
       "3995        17088\n",
       "3996        11121\n",
       "3997         9861\n",
       "3998        14548\n",
       "3999         8781\n",
       "\n",
       "[4000 rows x 1 columns]"
      ]
     },
     "execution_count": 215,
     "metadata": {},
     "output_type": "execute_result"
    }
   ],
   "source": [
    "result_ANN"
   ]
  },
  {
   "cell_type": "code",
   "execution_count": 216,
   "id": "17c78354",
   "metadata": {},
   "outputs": [],
   "source": [
    "result_ANN['Accident_Severity']=y_pred_classes"
   ]
  },
  {
   "cell_type": "code",
   "execution_count": 217,
   "id": "1a9bc2f7",
   "metadata": {},
   "outputs": [
    {
     "data": {
      "text/html": [
       "<div>\n",
       "<style scoped>\n",
       "    .dataframe tbody tr th:only-of-type {\n",
       "        vertical-align: middle;\n",
       "    }\n",
       "\n",
       "    .dataframe tbody tr th {\n",
       "        vertical-align: top;\n",
       "    }\n",
       "\n",
       "    .dataframe thead th {\n",
       "        text-align: right;\n",
       "    }\n",
       "</style>\n",
       "<table border=\"1\" class=\"dataframe\">\n",
       "  <thead>\n",
       "    <tr style=\"text-align: right;\">\n",
       "      <th></th>\n",
       "      <th>Accident_ID</th>\n",
       "      <th>Accident_Severity</th>\n",
       "    </tr>\n",
       "  </thead>\n",
       "  <tbody>\n",
       "    <tr>\n",
       "      <th>0</th>\n",
       "      <td>19134</td>\n",
       "      <td>0</td>\n",
       "    </tr>\n",
       "    <tr>\n",
       "      <th>1</th>\n",
       "      <td>4981</td>\n",
       "      <td>1</td>\n",
       "    </tr>\n",
       "    <tr>\n",
       "      <th>2</th>\n",
       "      <td>16643</td>\n",
       "      <td>2</td>\n",
       "    </tr>\n",
       "    <tr>\n",
       "      <th>3</th>\n",
       "      <td>19117</td>\n",
       "      <td>1</td>\n",
       "    </tr>\n",
       "    <tr>\n",
       "      <th>4</th>\n",
       "      <td>5306</td>\n",
       "      <td>0</td>\n",
       "    </tr>\n",
       "    <tr>\n",
       "      <th>...</th>\n",
       "      <td>...</td>\n",
       "      <td>...</td>\n",
       "    </tr>\n",
       "    <tr>\n",
       "      <th>3995</th>\n",
       "      <td>17088</td>\n",
       "      <td>0</td>\n",
       "    </tr>\n",
       "    <tr>\n",
       "      <th>3996</th>\n",
       "      <td>11121</td>\n",
       "      <td>0</td>\n",
       "    </tr>\n",
       "    <tr>\n",
       "      <th>3997</th>\n",
       "      <td>9861</td>\n",
       "      <td>0</td>\n",
       "    </tr>\n",
       "    <tr>\n",
       "      <th>3998</th>\n",
       "      <td>14548</td>\n",
       "      <td>1</td>\n",
       "    </tr>\n",
       "    <tr>\n",
       "      <th>3999</th>\n",
       "      <td>8781</td>\n",
       "      <td>0</td>\n",
       "    </tr>\n",
       "  </tbody>\n",
       "</table>\n",
       "<p>4000 rows × 2 columns</p>\n",
       "</div>"
      ],
      "text/plain": [
       "      Accident_ID  Accident_Severity\n",
       "0           19134                  0\n",
       "1            4981                  1\n",
       "2           16643                  2\n",
       "3           19117                  1\n",
       "4            5306                  0\n",
       "...           ...                ...\n",
       "3995        17088                  0\n",
       "3996        11121                  0\n",
       "3997         9861                  0\n",
       "3998        14548                  1\n",
       "3999         8781                  0\n",
       "\n",
       "[4000 rows x 2 columns]"
      ]
     },
     "execution_count": 217,
     "metadata": {},
     "output_type": "execute_result"
    }
   ],
   "source": [
    "result_ANN"
   ]
  },
  {
   "cell_type": "code",
   "execution_count": 218,
   "id": "a816874f",
   "metadata": {},
   "outputs": [],
   "source": [
    "result_ANN['Accident_Severity'].replace({2:'Fatal Injury',1:'Serious Injury',0:'Slight Injury'},inplace=True)"
   ]
  },
  {
   "cell_type": "code",
   "execution_count": 219,
   "id": "99966a50",
   "metadata": {},
   "outputs": [
    {
     "data": {
      "text/html": [
       "<div>\n",
       "<style scoped>\n",
       "    .dataframe tbody tr th:only-of-type {\n",
       "        vertical-align: middle;\n",
       "    }\n",
       "\n",
       "    .dataframe tbody tr th {\n",
       "        vertical-align: top;\n",
       "    }\n",
       "\n",
       "    .dataframe thead th {\n",
       "        text-align: right;\n",
       "    }\n",
       "</style>\n",
       "<table border=\"1\" class=\"dataframe\">\n",
       "  <thead>\n",
       "    <tr style=\"text-align: right;\">\n",
       "      <th></th>\n",
       "      <th>Accident_ID</th>\n",
       "      <th>Accident_Severity</th>\n",
       "    </tr>\n",
       "  </thead>\n",
       "  <tbody>\n",
       "    <tr>\n",
       "      <th>0</th>\n",
       "      <td>19134</td>\n",
       "      <td>Slight Injury</td>\n",
       "    </tr>\n",
       "    <tr>\n",
       "      <th>1</th>\n",
       "      <td>4981</td>\n",
       "      <td>Serious Injury</td>\n",
       "    </tr>\n",
       "    <tr>\n",
       "      <th>2</th>\n",
       "      <td>16643</td>\n",
       "      <td>Fatal Injury</td>\n",
       "    </tr>\n",
       "    <tr>\n",
       "      <th>3</th>\n",
       "      <td>19117</td>\n",
       "      <td>Serious Injury</td>\n",
       "    </tr>\n",
       "    <tr>\n",
       "      <th>4</th>\n",
       "      <td>5306</td>\n",
       "      <td>Slight Injury</td>\n",
       "    </tr>\n",
       "    <tr>\n",
       "      <th>...</th>\n",
       "      <td>...</td>\n",
       "      <td>...</td>\n",
       "    </tr>\n",
       "    <tr>\n",
       "      <th>3995</th>\n",
       "      <td>17088</td>\n",
       "      <td>Slight Injury</td>\n",
       "    </tr>\n",
       "    <tr>\n",
       "      <th>3996</th>\n",
       "      <td>11121</td>\n",
       "      <td>Slight Injury</td>\n",
       "    </tr>\n",
       "    <tr>\n",
       "      <th>3997</th>\n",
       "      <td>9861</td>\n",
       "      <td>Slight Injury</td>\n",
       "    </tr>\n",
       "    <tr>\n",
       "      <th>3998</th>\n",
       "      <td>14548</td>\n",
       "      <td>Serious Injury</td>\n",
       "    </tr>\n",
       "    <tr>\n",
       "      <th>3999</th>\n",
       "      <td>8781</td>\n",
       "      <td>Slight Injury</td>\n",
       "    </tr>\n",
       "  </tbody>\n",
       "</table>\n",
       "<p>4000 rows × 2 columns</p>\n",
       "</div>"
      ],
      "text/plain": [
       "      Accident_ID Accident_Severity\n",
       "0           19134     Slight Injury\n",
       "1            4981    Serious Injury\n",
       "2           16643      Fatal Injury\n",
       "3           19117    Serious Injury\n",
       "4            5306     Slight Injury\n",
       "...           ...               ...\n",
       "3995        17088     Slight Injury\n",
       "3996        11121     Slight Injury\n",
       "3997         9861     Slight Injury\n",
       "3998        14548    Serious Injury\n",
       "3999         8781     Slight Injury\n",
       "\n",
       "[4000 rows x 2 columns]"
      ]
     },
     "execution_count": 219,
     "metadata": {},
     "output_type": "execute_result"
    }
   ],
   "source": [
    "result_ANN"
   ]
  },
  {
   "cell_type": "code",
   "execution_count": 220,
   "id": "0a993e0f",
   "metadata": {},
   "outputs": [],
   "source": [
    "#result_ANN.to_csv('hackathon_submission_ann.csv',index=False,header=True)"
   ]
  },
  {
   "cell_type": "code",
   "execution_count": null,
   "id": "0d0dda05",
   "metadata": {},
   "outputs": [],
   "source": [
    "#train_df['Accident_Severity'].replace({'Fatal Injury': 2, 'Serious Injury': 1, 'Slight Injury': 0},inplace=True)"
   ]
  },
  {
   "cell_type": "code",
   "execution_count": null,
   "id": "27e8b0f3",
   "metadata": {},
   "outputs": [],
   "source": [
    "#result"
   ]
  },
  {
   "cell_type": "code",
   "execution_count": null,
   "id": "5597a147",
   "metadata": {},
   "outputs": [],
   "source": []
  }
 ],
 "metadata": {
  "kernelspec": {
   "display_name": "Python 3 (ipykernel)",
   "language": "python",
   "name": "python3"
  },
  "language_info": {
   "codemirror_mode": {
    "name": "ipython",
    "version": 3
   },
   "file_extension": ".py",
   "mimetype": "text/x-python",
   "name": "python",
   "nbconvert_exporter": "python",
   "pygments_lexer": "ipython3",
   "version": "3.11.7"
  }
 },
 "nbformat": 4,
 "nbformat_minor": 5
}
